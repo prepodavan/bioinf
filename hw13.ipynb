{
 "cells": [
  {
   "cell_type": "code",
   "execution_count": 1,
   "metadata": {},
   "outputs": [
    {
     "name": "stdout",
     "output_type": "stream",
     "text": [
      "env: NICKNAME=gind.alex\n",
      "env: TASK=peaks06.bed\n"
     ]
    }
   ],
   "source": [
    "%env NICKNAME=gind.alex\n",
    "%env TASK=peaks06.bed\n",
    "\n",
    "import os\n",
    "task_filename = os.environ[\"TASK\"]"
   ]
  },
  {
   "cell_type": "markdown",
   "metadata": {},
   "source": [
    "\n",
    "Файл загружен с яндекс диска и скопирован на кодомо через scp"
   ]
  },
  {
   "cell_type": "code",
   "execution_count": 2,
   "metadata": {},
   "outputs": [
    {
     "data": {
      "text/html": [
       "<div>\n",
       "<style scoped>\n",
       "    .dataframe tbody tr th:only-of-type {\n",
       "        vertical-align: middle;\n",
       "    }\n",
       "\n",
       "    .dataframe tbody tr th {\n",
       "        vertical-align: top;\n",
       "    }\n",
       "\n",
       "    .dataframe thead th {\n",
       "        text-align: right;\n",
       "    }\n",
       "</style>\n",
       "<table border=\"1\" class=\"dataframe\">\n",
       "  <thead>\n",
       "    <tr style=\"text-align: right;\">\n",
       "      <th></th>\n",
       "      <th>chrom</th>\n",
       "      <th>chromStart</th>\n",
       "      <th>chromEnd</th>\n",
       "      <th>strand</th>\n",
       "      <th>width</th>\n",
       "    </tr>\n",
       "  </thead>\n",
       "  <tbody>\n",
       "    <tr>\n",
       "      <th>0</th>\n",
       "      <td>chr1</td>\n",
       "      <td>779670</td>\n",
       "      <td>779822</td>\n",
       "      <td>.</td>\n",
       "      <td>152</td>\n",
       "    </tr>\n",
       "    <tr>\n",
       "      <th>1</th>\n",
       "      <td>chr1</td>\n",
       "      <td>990867</td>\n",
       "      <td>991062</td>\n",
       "      <td>.</td>\n",
       "      <td>195</td>\n",
       "    </tr>\n",
       "    <tr>\n",
       "      <th>2</th>\n",
       "      <td>chr1</td>\n",
       "      <td>1000777</td>\n",
       "      <td>1001090</td>\n",
       "      <td>.</td>\n",
       "      <td>313</td>\n",
       "    </tr>\n",
       "    <tr>\n",
       "      <th>3</th>\n",
       "      <td>chr1</td>\n",
       "      <td>1013048</td>\n",
       "      <td>1013239</td>\n",
       "      <td>.</td>\n",
       "      <td>191</td>\n",
       "    </tr>\n",
       "    <tr>\n",
       "      <th>4</th>\n",
       "      <td>chr1</td>\n",
       "      <td>1044900</td>\n",
       "      <td>1045082</td>\n",
       "      <td>.</td>\n",
       "      <td>182</td>\n",
       "    </tr>\n",
       "    <tr>\n",
       "      <th>...</th>\n",
       "      <td>...</td>\n",
       "      <td>...</td>\n",
       "      <td>...</td>\n",
       "      <td>...</td>\n",
       "      <td>...</td>\n",
       "    </tr>\n",
       "    <tr>\n",
       "      <th>37469</th>\n",
       "      <td>chrX</td>\n",
       "      <td>155815377</td>\n",
       "      <td>155815527</td>\n",
       "      <td>.</td>\n",
       "      <td>150</td>\n",
       "    </tr>\n",
       "    <tr>\n",
       "      <th>37470</th>\n",
       "      <td>chrY</td>\n",
       "      <td>10911577</td>\n",
       "      <td>10911720</td>\n",
       "      <td>.</td>\n",
       "      <td>143</td>\n",
       "    </tr>\n",
       "    <tr>\n",
       "      <th>37471</th>\n",
       "      <td>chrY</td>\n",
       "      <td>11311872</td>\n",
       "      <td>11312059</td>\n",
       "      <td>.</td>\n",
       "      <td>187</td>\n",
       "    </tr>\n",
       "    <tr>\n",
       "      <th>37472</th>\n",
       "      <td>chrY</td>\n",
       "      <td>11326010</td>\n",
       "      <td>11326205</td>\n",
       "      <td>.</td>\n",
       "      <td>195</td>\n",
       "    </tr>\n",
       "    <tr>\n",
       "      <th>37473</th>\n",
       "      <td>chrY</td>\n",
       "      <td>56858576</td>\n",
       "      <td>56858696</td>\n",
       "      <td>.</td>\n",
       "      <td>120</td>\n",
       "    </tr>\n",
       "  </tbody>\n",
       "</table>\n",
       "<p>37474 rows × 5 columns</p>\n",
       "</div>"
      ],
      "text/plain": [
       "      chrom  chromStart   chromEnd strand  width\n",
       "0      chr1      779670     779822      .    152\n",
       "1      chr1      990867     991062      .    195\n",
       "2      chr1     1000777    1001090      .    313\n",
       "3      chr1     1013048    1013239      .    191\n",
       "4      chr1     1044900    1045082      .    182\n",
       "...     ...         ...        ...    ...    ...\n",
       "37469  chrX   155815377  155815527      .    150\n",
       "37470  chrY    10911577   10911720      .    143\n",
       "37471  chrY    11311872   11312059      .    187\n",
       "37472  chrY    11326010   11326205      .    195\n",
       "37473  chrY    56858576   56858696      .    120\n",
       "\n",
       "[37474 rows x 5 columns]"
      ]
     },
     "execution_count": 2,
     "metadata": {},
     "output_type": "execute_result"
    }
   ],
   "source": [
    "import pandas as pd\n",
    "\n",
    "\n",
    "bed_columns = ['chrom', 'chromStart', 'chromEnd', 'strand']\n",
    "df = pd.read_csv(task_filename, sep='\\t', names=bed_columns)\n",
    "df['width'] = df.apply(lambda row: row['chromEnd'] - row['chromStart'], axis=1)\n",
    "df"
   ]
  },
  {
   "cell_type": "markdown",
   "metadata": {},
   "source": [
    "# Информация о файле\n",
    ">Опишите скачанный файл. Как он устроен? Какую информацию можно из него получить?\n",
    "\n",
    "Файл состоит из нескольких колонок, разделенных табом. Bed файла может содержать разное кол-во колонок с разной информацией. В данном случае это колонки:\n",
    "1. название хромосомы\n",
    "2. позиция начала пика в хромосоме\n",
    "3. позиция конца пика в хромосоме\n",
    "4. strand, то есть с какой из двух цепей ДНК было чтение. Возможные значения это `+` (), `-` и `.`. В задании во всем файле стоит точка, что означает, что информации о ориентации нету\n",
    "\n",
    ">Посчитайте, сколько пиков было получено в данном ChIP-seq эксперименте\n",
    "\n",
    "в этом файле 37474 пиков\n",
    "\n",
    "# Распределение ширины пиков\n",
    "Ширина пика высчитывается как разница между позицией конца и начала. Была подсчитана выше по коду"
   ]
  },
  {
   "cell_type": "code",
   "execution_count": 3,
   "metadata": {},
   "outputs": [
    {
     "data": {
      "text/plain": [
       "<AxesSubplot: ylabel='Frequency'>"
      ]
     },
     "execution_count": 3,
     "metadata": {},
     "output_type": "execute_result"
    },
    {
     "data": {
      "image/png": "[encoded data removed]",
      "text/plain": [
       "<Figure size 640x480 with 1 Axes>"
      ]
     },
     "metadata": {},
     "output_type": "display_data"
    }
   ],
   "source": [
    "df['width'].plot.hist()"
   ]
  },
  {
   "cell_type": "markdown",
   "metadata": {},
   "source": [
    ">Используя python, постройте график распределения ширины пиков. Прокомментируйте результат.\n",
    "\n",
    "по графику видно, что бОльшая часть пиков сосредоточена в ширинах 100-200 нуклеотидов. Есть небольшое кол-во пиков с длиной 500 и более\n",
    "\n",
    "# Случайная выборка широких пиков"
   ]
  },
  {
   "cell_type": "code",
   "execution_count": 4,
   "metadata": {},
   "outputs": [
    {
     "data": {
      "text/plain": [
       "<AxesSubplot: ylabel='Frequency'>"
      ]
     },
     "execution_count": 4,
     "metadata": {},
     "output_type": "execute_result"
    },
    {
     "data": {
      "image/png": "[encoded data removed]",
      "text/plain": [
       "<Figure size 640x480 with 1 Axes>"
      ]
     },
     "metadata": {},
     "output_type": "display_data"
    }
   ],
   "source": [
    "# second f stands for 'filtered'\n",
    "top_sample = df[df.width > 450].sample(n=50, replace=False)\n",
    "\n",
    "top_sample['width'].plot.hist()"
   ]
  },
  {
   "cell_type": "code",
   "execution_count": 5,
   "metadata": {},
   "outputs": [],
   "source": [
    "top_filename = f'top.{task_filename}'\n",
    "top_sample.to_csv(top_filename, header=False, index=False, sep='\\t', columns=bed_columns)"
   ]
  },
  {
   "cell_type": "code",
   "execution_count": 6,
   "metadata": {},
   "outputs": [],
   "source": [
    "genome_gz_filepath = f'/mnt/scratch/NGS/{os.environ[\"NICKNAME\"]}/GRCh38.p14.genome.fa.gz'\n",
    "\n",
    "def get_checksum(fp: str) -> str:\n",
    "    checksum = !md5sum $fp\n",
    "    return checksum[0].split(' ')[0]\n",
    "\n",
    "genome_checksum = '46def657b1dda0d2aa6cdec769a196a7'\n",
    "if get_checksum(genome_gz_filepath) != genome_checksum:\n",
    "    !wget --timeout=900 -O $genome_gz_filepath 'https://ftp.ebi.ac.uk/pub/databases/gencode/Gencode_human/release_47/GRCh38.p14.genome.fa.gz'\n",
    "\n",
    "assert get_checksum(genome_gz_filepath) == genome_checksum"
   ]
  },
  {
   "cell_type": "code",
   "execution_count": 7,
   "metadata": {},
   "outputs": [],
   "source": [
    "genome_filepath = genome_gz_filepath[:-3]\n",
    "!gzip --quiet --force --stdout --decompress $genome_gz_filepath  > $genome_filepath"
   ]
  },
  {
   "cell_type": "markdown",
   "metadata": {},
   "source": [
    ">Воспользуйтесь возможностями bedtools getfasta и получите fasta-файл с нуклеотидными последовательностями 50 пиков, отобранных на предыдущем этапе. Убедитесь, что вы использовали верный референсный геном"
   ]
  },
  {
   "cell_type": "code",
   "execution_count": 8,
   "metadata": {},
   "outputs": [
    {
     "name": "stdout",
     "output_type": "stream",
     "text": [
      "Warning: the index file is older than the FASTA file.\n"
     ]
    }
   ],
   "source": [
    "peaks_fasta_path = f'top.{task_filename}.fa'\n",
    "!bedtools getfasta -fi $genome_filepath -bed $top_filename -fo $peaks_fasta_path"
   ]
  },
  {
   "cell_type": "markdown",
   "metadata": {},
   "source": [
    "# MEME-ChIP\n",
    "\n",
    "Запустим локальную версию. Параметры взяты из дефолтных значений с meme-suite"
   ]
  },
  {
   "cell_type": "code",
   "execution_count": 9,
   "metadata": {},
   "outputs": [
    {
     "name": "stdout",
     "output_type": "stream",
     "text": [
      "Starting getsize: getsize top.peaks06.bed.fa.meme.d/top.peaks06.bed.fa 1> $metrics\n",
      "getsize ran successfully in 0.026374 seconds\n",
      "Starting fasta-most: fasta-most -min 50 < top.peaks06.bed.fa.meme.d/top.peaks06.bed.fa 1> $metrics\n",
      "fasta-most ran successfully in 0.061926 seconds\n",
      "Starting fasta-center: fasta-center -dna -len 100 < top.peaks06.bed.fa.meme.d/top.peaks06.bed.fa 1> top.peaks06.bed.fa.meme.d/seqs-centered\n",
      "fasta-center ran successfully in 0.058431 seconds\n",
      "Starting fasta-get-markov: fasta-get-markov -nostatus -nosummary -dna -m 2 top.peaks06.bed.fa.meme.d/top.peaks06.bed.fa top.peaks06.bed.fa.meme.d/background\n",
      "fasta-get-markov ran successfully in 0.032175 seconds\n",
      "Starting meme: meme top.peaks06.bed.fa.meme.d/seqs-centered -oc top.peaks06.bed.fa.meme.d/meme_out -mod zoops -nmotifs 10 -minw 6 -maxw 15 -bfile top.peaks06.bed.fa.meme.d/background -dna -minsites 2 -maxsites 600 -revcomp -nostatus\n",
      "Maximum number of sites is exceeded. Setting to 50.\n",
      "meme ran successfully in 16.524065 seconds\n",
      "Starting streme: streme --verbosity 1 --oc top.peaks06.bed.fa.meme.d/streme_out -dna --p top.peaks06.bed.fa.meme.d/seqs-centered --minw 6 --maxw 15 --order 2 --thresh 0.05\n",
      "streme ran successfully in 1.627954 seconds\n",
      "Starting centrimo: centrimo -seqlen 472 -verbosity 1 -oc top.peaks06.bed.fa.meme.d/centrimo_out -bfile top.peaks06.bed.fa.meme.d/background -score 5 -ethresh 10 top.peaks06.bed.fa.meme.d/top.peaks06.bed.fa top.peaks06.bed.fa.meme.d/meme_out/meme.xml top.peaks06.bed.fa.meme.d/streme_out/streme.xml\n",
      "Skipping sequence chr8:131816335-131816829 as its length (494) does not match the expected length (472).\n",
      "Skipping sequence chr20:20780333-20780816 as its length (483) does not match the expected length (472).\n",
      "Skipping sequence chr6:13979406-13979979 as its length (573) does not match the expected length (472).\n",
      "Skipping sequence chr2:68121143-68121598 as its length (455) does not match the expected length (472).\n",
      "Skipping sequence chr2:55891874-55892337 as its length (463) does not match the expected length (472).\n",
      "Skipping sequence chr12:25386109-25386599 as its length (490) does not match the expected length (472).\n",
      "Skipping sequence chr8:107376923-107377374 as its length (451) does not match the expected length (472).\n",
      "Skipping sequence chr16:29299913-29300365 as its length (452) does not match the expected length (472).\n",
      "Skipping sequence chr2:183029272-183029758 as its length (486) does not match the expected length (472).\n",
      "Skipping sequence chr9:91419214-91419737 as its length (523) does not match the expected length (472).\n",
      "Skipping sequence chr4:77146298-77146782 as its length (484) does not match the expected length (472).\n",
      "Skipping sequence chr17:46779739-46780199 as its length (460) does not match the expected length (472).\n",
      "Skipping sequence chr1:184031160-184031762 as its length (602) does not match the expected length (472).\n",
      "Skipping sequence chr17:10115039-10115492 as its length (453) does not match the expected length (472).\n",
      "Skipping sequence chr12:12626336-12626862 as its length (526) does not match the expected length (472).\n",
      "Skipping sequence chr22:29821427-29821901 as its length (474) does not match the expected length (472).\n",
      "Skipping sequence chr3:172129739-172130458 as its length (719) does not match the expected length (472).\n",
      "Skipping sequence chr6:85643964-85644437 as its length (473) does not match the expected length (472).\n",
      "Skipping sequence chr2:189927778-189928253 as its length (475) does not match the expected length (472).\n",
      "Skipping sequence chr2:12456319-12456897 as its length (578) does not match the expected length (472).\n",
      "Skipping sequence chr7:154680802-154681290 as its length (488) does not match the expected length (472).\n",
      "Skipping sequence chr1:2234420-2234927 as its length (507) does not match the expected length (472).\n",
      "Skipping sequence chr1:207605994-207606478 as its length (484) does not match the expected length (472).\n",
      "Skipping sequence chr4:73704488-73704969 as its length (481) does not match the expected length (472).\n",
      "Skipping sequence chr8:116527663-116528158 as its length (495) does not match the expected length (472).\n",
      "Skipping sequence chr17:45228963-45229416 as its length (453) does not match the expected length (472).\n",
      "Skipping sequence chr1:18902480-18903044 as its length (564) does not match the expected length (472).\n",
      "Skipping sequence chr2:202265713-202266181 as its length (468) does not match the expected length (472).\n",
      "Skipping sequence chr11:78290180-78290636 as its length (456) does not match the expected length (472).\n",
      "Skipping sequence chr13:32137706-32138161 as its length (455) does not match the expected length (472).\n",
      "Skipping sequence chr7:77538594-77539056 as its length (462) does not match the expected length (472).\n",
      "Skipping sequence chr14:73759993-73760489 as its length (496) does not match the expected length (472).\n",
      "Skipping sequence chr6:63571679-63572134 as its length (455) does not match the expected length (472).\n",
      "Skipping sequence chr16:87853535-87854016 as its length (481) does not match the expected length (472).\n",
      "Skipping sequence chr9:127308590-127309060 as its length (470) does not match the expected length (472).\n",
      "Skipping sequence chr12:9699276-9699734 as its length (458) does not match the expected length (472).\n",
      "Skipping sequence chr12:14854216-14854799 as its length (583) does not match the expected length (472).\n",
      "Skipping sequence chr12:89756637-89757172 as its length (535) does not match the expected length (472).\n",
      "Skipping sequence chr17:27244782-27245357 as its length (575) does not match the expected length (472).\n",
      "Skipping sequence chr15:95174901-95175381 as its length (480) does not match the expected length (472).\n",
      "Skipping sequence chr8:66129738-66130255 as its length (517) does not match the expected length (472).\n",
      "Skipping sequence chr1:39934248-39934835 as its length (587) does not match the expected length (472).\n",
      "Skipping sequence chr3:152120954-152121422 as its length (468) does not match the expected length (472).\n",
      "Skipping sequence chr5:138542998-138543462 as its length (464) does not match the expected length (472).\n",
      "Skipping sequence chr14:31229613-31230122 as its length (509) does not match the expected length (472).\n",
      "Skipping sequence chr12:46557516-46557982 as its length (466) does not match the expected length (472).\n",
      "Skipping sequence chr1:197994948-197995536 as its length (588) does not match the expected length (472).\n",
      "centrimo ran successfully in 0.107792 seconds\n",
      "Starting tomtom: tomtom -verbosity 1 -text -thresh 0.1 top.peaks06.bed.fa.meme.d/combined.meme top.peaks06.bed.fa.meme.d/combined.meme 1> top.peaks06.bed.fa.meme.d/motif_alignment.txt\n",
      "tomtom ran successfully in 0.074763 seconds\n",
      "Starting spamo: spamo -verbosity 1 -oc top.peaks06.bed.fa.meme.d/spamo_out_1 -bgfile top.peaks06.bed.fa.meme.d/background -keepprimary -primary ATTGCACAAYH top.peaks06.bed.fa.meme.d/top.peaks06.bed.fa top.peaks06.bed.fa.meme.d/meme_out/meme.xml top.peaks06.bed.fa.meme.d/meme_out/meme.xml top.peaks06.bed.fa.meme.d/streme_out/streme.xml\n",
      "spamo ran successfully in 0.208741 seconds\n",
      "Starting fimo: fimo --parse-genomic-coord --verbosity 1 --oc top.peaks06.bed.fa.meme.d/fimo_out_1 --bgfile top.peaks06.bed.fa.meme.d/background --motif ATTGCACAAYH top.peaks06.bed.fa.meme.d/meme_out/meme.xml top.peaks06.bed.fa.meme.d/top.peaks06.bed.fa\n",
      "fimo ran successfully in 0.116396 seconds\n",
      "Starting meme-chip_html_to_tsv: meme-chip_html_to_tsv top.peaks06.bed.fa.meme.d/meme-chip.html top.peaks06.bed.fa.meme.d/summary.tsv \"meme-chip -dna -minw 6 -maxw 15 -oc top.peaks06.bed.fa.meme.d -meme-minsites 2 -meme-maxsites 600 -meme-nmotifs 10 -streme-pvt 0.05 -centrimo-score 5 -centrimo-ethresh 10 top.peaks06.bed.fa\" 5.5.1 \"Sun Jan 29 10\\:33\\:12 2023 -0800\"\n",
      "meme-chip_html_to_tsv ran successfully in 0.199963 seconds\n"
     ]
    }
   ],
   "source": [
    "meme_dir = f'{peaks_fasta_path}.meme.d'\n",
    "!/opt/meme-5.5.1/bin/meme-chip \\\n",
    "    -dna \\\n",
    "    -minw 6 \\\n",
    "    -maxw 15 \\\n",
    "    -oc $meme_dir \\\n",
    "    -meme-minsites 2 \\\n",
    "    -meme-maxsites 600 \\\n",
    "    -meme-nmotifs 10 \\\n",
    "    -streme-pvt 0.05 \\\n",
    "    -centrimo-score 5 \\\n",
    "    -centrimo-ethresh 10 \\\n",
    "    $peaks_fasta_path"
   ]
  },
  {
   "cell_type": "markdown",
   "metadata": {},
   "source": [
    ">После того, как MEME закончит работу, просмотрите логи, которые он выдает (Status Messages). Какие программы были запущены в пайплайне?\n",
    "\n",
    "Список запущенынз программ:\n",
    "1. getsize\n",
    "2. fasta-most\n",
    "3. fasta-center\n",
    "4. fasta-get-markov\n",
    "5. meme\n",
    "6. streme\n",
    "7. centrimo\n",
    "8. tomtom\n",
    "9. spamo\n",
    "10. fimo\n",
    "11. meme-chip_html_to_tsv\n",
    "\n",
    ">С какими параметрами был запущен MEME-ChIP?\n",
    "\n",
    "Полный лог сохранен в отчете, так как это локальный запуск. Параметры приведены в нем.\n",
    "\n",
    "### А так же\n",
    "\n",
    "Веб версия запускает в частности tomtom для сравнения по базе данных мотивов. Локальная версия так не делает в силу того, что базы данных у нее нету. Потому скачем бд сами и запустим поиск по ней через tomtom"
   ]
  },
  {
   "cell_type": "code",
   "execution_count": 10,
   "metadata": {},
   "outputs": [],
   "source": [
    "motifs_db_gz_filepath = f'/mnt/scratch/NGS/{os.environ[\"NICKNAME\"]}/meme.motifs.db.12.25.tgz'\n",
    "motifs_db_checksum = '94e4bc8097bca905ac3c14f244e9f77b'\n",
    "if get_checksum(motifs_db_gz_filepath) != motifs_db_checksum:\n",
    "    !wget --timeout=900 -O $motifs_db_gz_filepath 'https://meme-suite.org/meme/meme-software/Databases/motifs/motif_databases.12.25.tgz'\n",
    "\n",
    "assert get_checksum(motifs_db_gz_filepath) == motifs_db_checksum"
   ]
  },
  {
   "cell_type": "code",
   "execution_count": 11,
   "metadata": {},
   "outputs": [
    {
     "name": "stdout",
     "output_type": "stream",
     "text": [
      "tar: Ignoring unknown extended header keyword 'LIBARCHIVE.xattr.com.apple.quarantine'\n",
      "tar: Ignoring unknown extended header keyword 'LIBARCHIVE.xattr.com.apple.metadata:kMDItemWhereFroms'\n"
     ]
    }
   ],
   "source": [
    "motifs_db_filepath = f'/mnt/scratch/NGS/{os.environ[\"NICKNAME\"]}/meme.motifs.db.d'\n",
    "!mkdir -p $motifs_db_filepath\n",
    "!tar -xzf $motifs_db_gz_filepath -C $motifs_db_filepath\n",
    "hocomoco_filepath = motifs_db_filepath + '/motif_databases/HOCOMOCO/H12CORE_meme_format.meme'"
   ]
  },
  {
   "cell_type": "markdown",
   "metadata": {},
   "source": [
    "Параметры запуска tomtom взяты дефолтными с веб версии"
   ]
  },
  {
   "cell_type": "code",
   "execution_count": 12,
   "metadata": {},
   "outputs": [
    {
     "name": "stdout",
     "output_type": "stream",
     "text": [
      "Writing results to output directory 'top.peaks06.bed.fa.meme.d/streme_tomtom_out.d'.\n",
      "Processing query 1 out of 4 \n",
      "# Computing q-values.\n",
      "#   Estimating pi_0 from all 2886 observed p-values.\n",
      "#   Estimating pi_0.\n",
      "# Minimal pi_zero = 0.993533\n",
      "#   Estimated pi_0=0.993533\n",
      "Processing query 2 out of 4 \n",
      "# Computing q-values.\n",
      "#   Estimating pi_0 from all 2886 observed p-values.\n",
      "#   Estimating pi_0.\n",
      "# Minimal pi_zero = 1.00088\n",
      "#   Estimated pi_0=1\n",
      "Processing query 3 out of 4 \n",
      "# Computing q-values.\n",
      "#   Estimating pi_0 from all 2886 observed p-values.\n",
      "#   Estimating pi_0.\n",
      "# Minimal pi_zero = 0.999398\n",
      "#   Estimated pi_0=1\n",
      "Processing query 4 out of 4 \n",
      "# Computing q-values.\n",
      "#   Estimating pi_0 from all 2886 observed p-values.\n",
      "#   Estimating pi_0.\n",
      "# Minimal pi_zero = 1.00189\n",
      "#   Estimated pi_0=1\n"
     ]
    }
   ],
   "source": [
    "!/opt/meme-5.5.1/bin/tomtom \\\n",
    "    -oc $meme_dir/streme_tomtom_out.d \\\n",
    "    -min-overlap 5 \\\n",
    "    -dist pearson \\\n",
    "    -evalue \\\n",
    "    -thresh 1 \\\n",
    "    -no-ssc \\\n",
    "    $meme_dir/streme_out/streme.xml \\\n",
    "    $hocomoco_filepath"
   ]
  },
  {
   "cell_type": "markdown",
   "metadata": {},
   "source": [
    ">Откройте и изучите HTML-отчет - MEME-ChIP HTML output. Опишите результаты. Сколько мотивов было найдено, с какими значениями E-value\n",
    "\n",
    "Нашелся один мотив, прошедший по E-value со значением = 2.0e-048. Посмотрим на его лого"
   ]
  },
  {
   "cell_type": "code",
   "execution_count": 15,
   "metadata": {},
   "outputs": [
    {
     "data": {
      "image/png": "[encoded data removed]",
      "text/plain": [
       "<IPython.core.display.Image object>"
      ]
     },
     "metadata": {},
     "output_type": "display_data"
    }
   ],
   "source": [
    "from IPython import display\n",
    "\n",
    "\n",
    "display.display(display.Image(filename=f'{meme_dir}/meme_out/logo1.png'))"
   ]
  },
  {
   "cell_type": "markdown",
   "metadata": {},
   "source": [
    ">Найденные похожие мотивы будут объединены в один кластер. Чтобы увидеть, какие еще мотивы были найдены, перейдите по ссылке на отчет MEME в столбце Discovery/Enrichment Program. Опишите найденные мотивы, определите в скольких последовательностях они встретились.\n",
    "\n",
    "Для ответа на эти вопросы не будем смотреть на лого. Посмотрим в текстовых выхлоп meme"
   ]
  },
  {
   "cell_type": "code",
   "execution_count": 16,
   "metadata": {},
   "outputs": [
    {
     "name": "stdout",
     "output_type": "stream",
     "text": [
      "MOTIF ATTGCACAAYH MEME-1\twidth =  11  sites =  47  llr = 425  E-value = 2.0e-048\n",
      "MOTIF GCSRDGCCGCVSGCG MEME-2\twidth =  15  sites =   9  llr = 124  E-value = 4.1e-001\n",
      "MOTIF GCTCAYTCATG MEME-3\twidth =  11  sites =   8  llr = 93  E-value = 3.1e+003\n",
      "MOTIF GCCAGVGGCBG MEME-4\twidth =  11  sites =   9  llr = 100  E-value = 1.2e+004\n",
      "MOTIF GAGGMKGGGARNGCG MEME-5\twidth =  15  sites =   7  llr = 97  E-value = 1.2e+004\n",
      "MOTIF CCTCACCMAGT MEME-6\twidth =  11  sites =   5  llr = 64  E-value = 1.2e+005\n",
      "MOTIF GCCTGGRS MEME-7\twidth =   8  sites =   6  llr = 61  E-value = 4.1e+005\n",
      "MOTIF CTGCTGGC MEME-8\twidth =   8  sites =   2  llr = 23  E-value = 2.7e+005\n",
      "MOTIF GCACMGGGC MEME-9\twidth =   9  sites =   2  llr = 25  E-value = 3.1e+005\n",
      "MOTIF CCTSGGGGC MEME-10\twidth =   9  sites =   2  llr = 25  E-value = 1.9e+005\n"
     ]
    }
   ],
   "source": [
    "!grep -E 'MOTIF.*MEME-.*width.*sites.*llr.*E-value' $meme_dir/meme_out/meme.txt"
   ]
  },
  {
   "cell_type": "markdown",
   "metadata": {},
   "source": [
    "В этих строках выхлопа описаны мотивы, их ширина, e-value и в скольких сайтах они были найдены\n",
    "\n",
    ">Изучите и опишите результаты сравнения найденного мотива с мотивами из БД (столбец Known or Similar Motifs).\n",
    "\n",
    "Так как этот столбец локальной версией не генерируется, то придется посмотреть на отдельно сгенерированный tomtom.tsv, который содержит информацию, которая в веб версии используется источником для столбеца Known or Similar Motifs"
   ]
  },
  {
   "cell_type": "code",
   "execution_count": 13,
   "metadata": {},
   "outputs": [
    {
     "data": {
      "text/html": [
       "<div>\n",
       "<style scoped>\n",
       "    .dataframe tbody tr th:only-of-type {\n",
       "        vertical-align: middle;\n",
       "    }\n",
       "\n",
       "    .dataframe tbody tr th {\n",
       "        vertical-align: top;\n",
       "    }\n",
       "\n",
       "    .dataframe thead th {\n",
       "        text-align: right;\n",
       "    }\n",
       "</style>\n",
       "<table border=\"1\" class=\"dataframe\">\n",
       "  <thead>\n",
       "    <tr style=\"text-align: right;\">\n",
       "      <th></th>\n",
       "      <th>Query_ID</th>\n",
       "      <th>Target_ID</th>\n",
       "      <th>Optimal_offset</th>\n",
       "      <th>p-value</th>\n",
       "      <th>E-value</th>\n",
       "      <th>q-value</th>\n",
       "      <th>Overlap</th>\n",
       "      <th>Query_consensus</th>\n",
       "      <th>Target_consensus</th>\n",
       "      <th>Orientation</th>\n",
       "    </tr>\n",
       "  </thead>\n",
       "  <tbody>\n",
       "    <tr>\n",
       "      <th>0</th>\n",
       "      <td>1-ATTGCACAAYH</td>\n",
       "      <td>CEBPB.H12CORE.0.P.B</td>\n",
       "      <td>0</td>\n",
       "      <td>3.189240e-08</td>\n",
       "      <td>0.000046</td>\n",
       "      <td>0.000091</td>\n",
       "      <td>11</td>\n",
       "      <td>ATTGCACAATA</td>\n",
       "      <td>ATTGCGCAACC</td>\n",
       "      <td>-</td>\n",
       "    </tr>\n",
       "    <tr>\n",
       "      <th>1</th>\n",
       "      <td>1-ATTGCACAAYH</td>\n",
       "      <td>CEBPA.H12CORE.0.P.B</td>\n",
       "      <td>1</td>\n",
       "      <td>1.009340e-07</td>\n",
       "      <td>0.000146</td>\n",
       "      <td>0.000145</td>\n",
       "      <td>11</td>\n",
       "      <td>ATTGCACAATA</td>\n",
       "      <td>TATTGCGCAACC</td>\n",
       "      <td>-</td>\n",
       "    </tr>\n",
       "    <tr>\n",
       "      <th>2</th>\n",
       "      <td>1-ATTGCACAAYH</td>\n",
       "      <td>CEBPE.H12CORE.0.P.B</td>\n",
       "      <td>0</td>\n",
       "      <td>1.818350e-07</td>\n",
       "      <td>0.000262</td>\n",
       "      <td>0.000160</td>\n",
       "      <td>11</td>\n",
       "      <td>ATTGCACAATA</td>\n",
       "      <td>ATTGCACAACC</td>\n",
       "      <td>-</td>\n",
       "    </tr>\n",
       "    <tr>\n",
       "      <th>3</th>\n",
       "      <td>1-ATTGCACAAYH</td>\n",
       "      <td>CEBPG.H12CORE.0.P.B</td>\n",
       "      <td>1</td>\n",
       "      <td>2.649760e-07</td>\n",
       "      <td>0.000382</td>\n",
       "      <td>0.000160</td>\n",
       "      <td>11</td>\n",
       "      <td>ATTGCACAATA</td>\n",
       "      <td>TATTGCGTAATA</td>\n",
       "      <td>+</td>\n",
       "    </tr>\n",
       "    <tr>\n",
       "      <th>4</th>\n",
       "      <td>1-ATTGCACAAYH</td>\n",
       "      <td>CEBPD.H12CORE.0.P.B</td>\n",
       "      <td>1</td>\n",
       "      <td>2.791100e-07</td>\n",
       "      <td>0.000403</td>\n",
       "      <td>0.000160</td>\n",
       "      <td>10</td>\n",
       "      <td>ATTGCACAATA</td>\n",
       "      <td>GATTGCACAAT</td>\n",
       "      <td>+</td>\n",
       "    </tr>\n",
       "    <tr>\n",
       "      <th>5</th>\n",
       "      <td>1-ATTGCACAAYH</td>\n",
       "      <td>CEBPG.H12CORE.1.SM.B</td>\n",
       "      <td>1</td>\n",
       "      <td>4.267750e-06</td>\n",
       "      <td>0.006158</td>\n",
       "      <td>0.002040</td>\n",
       "      <td>11</td>\n",
       "      <td>ATTGCACAATA</td>\n",
       "      <td>TATTGCGTAATA</td>\n",
       "      <td>+</td>\n",
       "    </tr>\n",
       "    <tr>\n",
       "      <th>6</th>\n",
       "      <td>1-ATTGCACAAYH</td>\n",
       "      <td>CEBPB.H12CORE.1.SM.B</td>\n",
       "      <td>1</td>\n",
       "      <td>4.982960e-05</td>\n",
       "      <td>0.071904</td>\n",
       "      <td>0.014852</td>\n",
       "      <td>11</td>\n",
       "      <td>ATTGCACAATA</td>\n",
       "      <td>CATTGCGCAACCC</td>\n",
       "      <td>+</td>\n",
       "    </tr>\n",
       "    <tr>\n",
       "      <th>7</th>\n",
       "      <td>1-ATTGCACAAYH</td>\n",
       "      <td>CEBPD.H12CORE.1.SM.B</td>\n",
       "      <td>2</td>\n",
       "      <td>4.982960e-05</td>\n",
       "      <td>0.071904</td>\n",
       "      <td>0.014852</td>\n",
       "      <td>11</td>\n",
       "      <td>ATTGCACAATA</td>\n",
       "      <td>GTATTGCGTAATT</td>\n",
       "      <td>+</td>\n",
       "    </tr>\n",
       "    <tr>\n",
       "      <th>8</th>\n",
       "      <td>1-ATTGCACAAYH</td>\n",
       "      <td>NFIL3.H12CORE.0.P.B</td>\n",
       "      <td>0</td>\n",
       "      <td>5.179770e-05</td>\n",
       "      <td>0.074744</td>\n",
       "      <td>0.014852</td>\n",
       "      <td>10</td>\n",
       "      <td>ATTGCACAATA</td>\n",
       "      <td>GTTACATAAC</td>\n",
       "      <td>-</td>\n",
       "    </tr>\n",
       "    <tr>\n",
       "      <th>9</th>\n",
       "      <td>1-ATTGCACAAYH</td>\n",
       "      <td>CEBPE.H12CORE.1.SM.B</td>\n",
       "      <td>1</td>\n",
       "      <td>9.415880e-05</td>\n",
       "      <td>0.135871</td>\n",
       "      <td>0.020768</td>\n",
       "      <td>11</td>\n",
       "      <td>ATTGCACAATA</td>\n",
       "      <td>CGTTGCGCAATCC</td>\n",
       "      <td>+</td>\n",
       "    </tr>\n",
       "    <tr>\n",
       "      <th>10</th>\n",
       "      <td>1-ATTGCACAAYH</td>\n",
       "      <td>CEBPG.H12CORE.2.P.B</td>\n",
       "      <td>1</td>\n",
       "      <td>1.619650e-04</td>\n",
       "      <td>0.233716</td>\n",
       "      <td>0.033172</td>\n",
       "      <td>11</td>\n",
       "      <td>ATTGCACAATA</td>\n",
       "      <td>TATTGCATCATC</td>\n",
       "      <td>+</td>\n",
       "    </tr>\n",
       "    <tr>\n",
       "      <th>11</th>\n",
       "      <td>1-ATTGCACAAYH</td>\n",
       "      <td>DDIT3.H12CORE.0.P.B</td>\n",
       "      <td>1</td>\n",
       "      <td>2.654330e-04</td>\n",
       "      <td>0.383020</td>\n",
       "      <td>0.042283</td>\n",
       "      <td>10</td>\n",
       "      <td>ATTGCACAATA</td>\n",
       "      <td>GATTGCATCAT</td>\n",
       "      <td>-</td>\n",
       "    </tr>\n",
       "    <tr>\n",
       "      <th>12</th>\n",
       "      <td>1-ATTGCACAAYH</td>\n",
       "      <td>HLF.H12CORE.0.P.B</td>\n",
       "      <td>1</td>\n",
       "      <td>2.654330e-04</td>\n",
       "      <td>0.383020</td>\n",
       "      <td>0.042283</td>\n",
       "      <td>10</td>\n",
       "      <td>ATTGCACAATA</td>\n",
       "      <td>TGTTACATAAC</td>\n",
       "      <td>-</td>\n",
       "    </tr>\n",
       "    <tr>\n",
       "      <th>13</th>\n",
       "      <td>1-ATTGCACAAYH</td>\n",
       "      <td>HLF.H12CORE.1.SM.B</td>\n",
       "      <td>0</td>\n",
       "      <td>4.682830e-04</td>\n",
       "      <td>0.675733</td>\n",
       "      <td>0.063939</td>\n",
       "      <td>11</td>\n",
       "      <td>ATTGCACAATA</td>\n",
       "      <td>ATTACGTAACC</td>\n",
       "      <td>-</td>\n",
       "    </tr>\n",
       "    <tr>\n",
       "      <th>14</th>\n",
       "      <td>2-ATGWAA</td>\n",
       "      <td>LMX1B.H12CORE.0.P.C</td>\n",
       "      <td>2</td>\n",
       "      <td>4.414230e-04</td>\n",
       "      <td>0.636974</td>\n",
       "      <td>1.000000</td>\n",
       "      <td>6</td>\n",
       "      <td>ATGAAA</td>\n",
       "      <td>TAATGAAA</td>\n",
       "      <td>+</td>\n",
       "    </tr>\n",
       "    <tr>\n",
       "      <th>15</th>\n",
       "      <td>3-ACAGAAA</td>\n",
       "      <td>ZIM3.H12CORE.0.P.B</td>\n",
       "      <td>7</td>\n",
       "      <td>2.064900e-05</td>\n",
       "      <td>0.029797</td>\n",
       "      <td>0.059593</td>\n",
       "      <td>7</td>\n",
       "      <td>ACAGAAA</td>\n",
       "      <td>GCAAGCAACAGAAACCCAA</td>\n",
       "      <td>-</td>\n",
       "    </tr>\n",
       "    <tr>\n",
       "      <th>16</th>\n",
       "      <td>3-ACAGAAA</td>\n",
       "      <td>ZN527.H12CORE.0.P.C</td>\n",
       "      <td>11</td>\n",
       "      <td>2.605190e-04</td>\n",
       "      <td>0.375929</td>\n",
       "      <td>0.375929</td>\n",
       "      <td>7</td>\n",
       "      <td>ACAGAAA</td>\n",
       "      <td>GGTTGCAAGCAACAGAAA</td>\n",
       "      <td>-</td>\n",
       "    </tr>\n",
       "    <tr>\n",
       "      <th>17</th>\n",
       "      <td>3-ACAGAAA</td>\n",
       "      <td>ZN540.H12CORE.0.P.C</td>\n",
       "      <td>9</td>\n",
       "      <td>6.883110e-04</td>\n",
       "      <td>0.993232</td>\n",
       "      <td>0.662155</td>\n",
       "      <td>7</td>\n",
       "      <td>ACAGAAA</td>\n",
       "      <td>CAAACATACACAGAAACACAATC</td>\n",
       "      <td>+</td>\n",
       "    </tr>\n",
       "  </tbody>\n",
       "</table>\n",
       "</div>"
      ],
      "text/plain": [
       "         Query_ID             Target_ID  Optimal_offset       p-value  \\\n",
       "0   1-ATTGCACAAYH   CEBPB.H12CORE.0.P.B               0  3.189240e-08   \n",
       "1   1-ATTGCACAAYH   CEBPA.H12CORE.0.P.B               1  1.009340e-07   \n",
       "2   1-ATTGCACAAYH   CEBPE.H12CORE.0.P.B               0  1.818350e-07   \n",
       "3   1-ATTGCACAAYH   CEBPG.H12CORE.0.P.B               1  2.649760e-07   \n",
       "4   1-ATTGCACAAYH   CEBPD.H12CORE.0.P.B               1  2.791100e-07   \n",
       "5   1-ATTGCACAAYH  CEBPG.H12CORE.1.SM.B               1  4.267750e-06   \n",
       "6   1-ATTGCACAAYH  CEBPB.H12CORE.1.SM.B               1  4.982960e-05   \n",
       "7   1-ATTGCACAAYH  CEBPD.H12CORE.1.SM.B               2  4.982960e-05   \n",
       "8   1-ATTGCACAAYH   NFIL3.H12CORE.0.P.B               0  5.179770e-05   \n",
       "9   1-ATTGCACAAYH  CEBPE.H12CORE.1.SM.B               1  9.415880e-05   \n",
       "10  1-ATTGCACAAYH   CEBPG.H12CORE.2.P.B               1  1.619650e-04   \n",
       "11  1-ATTGCACAAYH   DDIT3.H12CORE.0.P.B               1  2.654330e-04   \n",
       "12  1-ATTGCACAAYH     HLF.H12CORE.0.P.B               1  2.654330e-04   \n",
       "13  1-ATTGCACAAYH    HLF.H12CORE.1.SM.B               0  4.682830e-04   \n",
       "14       2-ATGWAA   LMX1B.H12CORE.0.P.C               2  4.414230e-04   \n",
       "15      3-ACAGAAA    ZIM3.H12CORE.0.P.B               7  2.064900e-05   \n",
       "16      3-ACAGAAA   ZN527.H12CORE.0.P.C              11  2.605190e-04   \n",
       "17      3-ACAGAAA   ZN540.H12CORE.0.P.C               9  6.883110e-04   \n",
       "\n",
       "     E-value   q-value  Overlap Query_consensus         Target_consensus  \\\n",
       "0   0.000046  0.000091       11     ATTGCACAATA              ATTGCGCAACC   \n",
       "1   0.000146  0.000145       11     ATTGCACAATA             TATTGCGCAACC   \n",
       "2   0.000262  0.000160       11     ATTGCACAATA              ATTGCACAACC   \n",
       "3   0.000382  0.000160       11     ATTGCACAATA             TATTGCGTAATA   \n",
       "4   0.000403  0.000160       10     ATTGCACAATA              GATTGCACAAT   \n",
       "5   0.006158  0.002040       11     ATTGCACAATA             TATTGCGTAATA   \n",
       "6   0.071904  0.014852       11     ATTGCACAATA            CATTGCGCAACCC   \n",
       "7   0.071904  0.014852       11     ATTGCACAATA            GTATTGCGTAATT   \n",
       "8   0.074744  0.014852       10     ATTGCACAATA               GTTACATAAC   \n",
       "9   0.135871  0.020768       11     ATTGCACAATA            CGTTGCGCAATCC   \n",
       "10  0.233716  0.033172       11     ATTGCACAATA             TATTGCATCATC   \n",
       "11  0.383020  0.042283       10     ATTGCACAATA              GATTGCATCAT   \n",
       "12  0.383020  0.042283       10     ATTGCACAATA              TGTTACATAAC   \n",
       "13  0.675733  0.063939       11     ATTGCACAATA              ATTACGTAACC   \n",
       "14  0.636974  1.000000        6          ATGAAA                 TAATGAAA   \n",
       "15  0.029797  0.059593        7         ACAGAAA      GCAAGCAACAGAAACCCAA   \n",
       "16  0.375929  0.375929        7         ACAGAAA       GGTTGCAAGCAACAGAAA   \n",
       "17  0.993232  0.662155        7         ACAGAAA  CAAACATACACAGAAACACAATC   \n",
       "\n",
       "   Orientation  \n",
       "0            -  \n",
       "1            -  \n",
       "2            -  \n",
       "3            +  \n",
       "4            +  \n",
       "5            +  \n",
       "6            +  \n",
       "7            +  \n",
       "8            -  \n",
       "9            +  \n",
       "10           +  \n",
       "11           -  \n",
       "12           -  \n",
       "13           -  \n",
       "14           +  \n",
       "15           -  \n",
       "16           -  \n",
       "17           +  "
      ]
     },
     "execution_count": 13,
     "metadata": {},
     "output_type": "execute_result"
    }
   ],
   "source": [
    "tomtom = pd.read_csv(f'{meme_dir}/streme_tomtom_out.d/tomtom.tsv', sep='\\t', comment='#')\n",
    "tomtom.sort_values(by=['p-value'])\n",
    "tomtom"
   ]
  },
  {
   "cell_type": "markdown",
   "metadata": {},
   "source": [
    "Возьмем по всем найденным ТФ информацию из юнипрота"
   ]
  },
  {
   "cell_type": "code",
   "execution_count": 14,
   "metadata": {},
   "outputs": [
    {
     "data": {
      "text/markdown": [
       "|accession|id|supfam|pdb|\n",
       "|--|--|--|--|\n",
       "|P17676|CEBPB_HUMAN|{'Leucine zipper domain'}|['1GTW', '1GU4', '1GU5', '1H88', '1H89', '1H8A', '1HJB', '1IO4', '2E42', '2E43', '6MG1', '6MG2', '6MG3', '7L4V', '7UPZ', '8K8D']|\n",
       "|P28033|CEBPB_MOUSE|{'Leucine zipper domain'}|['1CI6']|\n"
      ]
     },
     "metadata": {},
     "output_type": "display_data"
    }
   ],
   "source": [
    "import json\n",
    "from IPython import display\n",
    "\n",
    "\n",
    "best_match = tomtom['Target_ID'][0]\n",
    "hocomoco_link = f'https://hocomoco12.autosome.org/motif/{best_match}#maininfo'\n",
    "uniprot_accessions = !curl -s $hocomoco_link -o - | grep 'UniProt AC' | grep -oP '\\?uniprot=[a-zA-Z0-9]+' | cut -d '=' -f 2\n",
    "\n",
    "uniprot_infos = []\n",
    "for acc in uniprot_accessions:\n",
    "    body = !curl -s -H \"Accept: application/json\" \"https://rest.uniprot.org/uniprotkb/$acc\"\n",
    "    res = json.loads(body[0])\n",
    "    info = {\n",
    "        'acc': acc,\n",
    "        'id': res.get('uniProtkbId'),\n",
    "        'pdb': [],\n",
    "        'supfam': [],\n",
    "        'supfam_names': set(),\n",
    "    }\n",
    "    for desc in res.get('uniProtKBCrossReferences', []):\n",
    "        if 'database' in desc and desc['database'] == 'PDB':\n",
    "            info['pdb'].append(desc.get('id', ''))\n",
    "        elif 'database' in desc and desc['database'] == 'SUPFAM':\n",
    "            supfam = {'id': desc.get('id', '')}\n",
    "            for prop in desc.get('properties', []):\n",
    "                if prop.get('key') == 'EntryName':\n",
    "                    supfam['name'] = prop.get('value', '')\n",
    "                    info['supfam_names'].add(prop.get('value', ''))\n",
    "                    break\n",
    "            info['supfam'].append(supfam)\n",
    "    uniprot_infos.append(info)\n",
    "\n",
    "table = \"\"\"|accession|id|supfam|pdb|\n",
    "|--|--|--|--|\n",
    "\"\"\"\n",
    "for info in uniprot_infos:\n",
    "    table += f'|{info[\"acc\"]}|{info[\"id\"]}|{info[\"supfam_names\"]}|{info[\"pdb\"]}|\\n'\n",
    "display.display_markdown(table, raw=True)"
   ]
  },
  {
   "cell_type": "markdown",
   "metadata": {},
   "source": [
    ">Выберите из списка похожих мотивов ТФ, который, как вы считаете, и был таргетом данного ChIP-seq эксперимента. Опишите с функциональной точки зрения выбранный ТФ.\n",
    "\n",
    "Судя по E-value (из dataframe по файлу tomtom.tsv) я прихожу к выходу, что целью изучения был ТФ CEBPB_HUMAN c консенсусом ATTGCACAATA (в экспериментах). \n",
    "Это ажный фактор транскрипции, регулирующий экспрессию генов, участвующих в иммунных и воспалительных реакциях. \n",
    "\n",
    ">Какой тип ДНК-связывающего домена несет выбранный вами транскрипционный фактор? \n",
    "\n",
    "Все найденные ТФ по базе яв-ся доменами связи с ДНК с помощью лейциновых молний. Разные домены белка имеют хорошо разрешенную структуру 3Д (приведены в табилце выше). Источником информации о функции ТФ, указанная выше, была страница белка на юнипроте, а так же статьи в пабмеде, которые указаны в самом юнипроте - ( PubMed: 12048245 , PubMed: 1741402 , PubMed: 18647749 , PubMed: 9374525 )"
   ]
  }
 ],
 "metadata": {
  "kernelspec": {
   "display_name": "Python 3 (ipykernel)",
   "language": "python",
   "name": "python3"
  },
  "language_info": {
   "codemirror_mode": {
    "name": "ipython",
    "version": 3
   },
   "file_extension": ".py",
   "mimetype": "text/x-python",
   "name": "python",
   "nbconvert_exporter": "python",
   "pygments_lexer": "ipython3",
   "version": "3.9.16"
  }
 },
 "nbformat": 4,
 "nbformat_minor": 2
}
