{
 "cells": [
  {
   "cell_type": "code",
   "execution_count": 1,
   "id": "30ddcf48-c596-46ec-ba28-1b93b4280582",
   "metadata": {
    "tags": []
   },
   "outputs": [],
   "source": [
    "%%bash\n",
    "\n",
    "# берется из задания\n",
    "export GENE=\"NW_004624772\"\n",
    "\n",
    "/opt/bin/datasets summary gene accession \"$GENE\" 2>&1 --report product | tail -1 > gene.accession.json"
   ]
  },
  {
   "cell_type": "code",
   "execution_count": 2,
   "id": "d1dfc0f7-a14c-46c5-a09d-2a3389d7b2b8",
   "metadata": {
    "tags": []
   },
   "outputs": [],
   "source": [
    "import json\n",
    "import pathlib as pl"
   ]
  },
  {
   "cell_type": "code",
   "execution_count": 3,
   "id": "2b9a8231-3c89-4104-837f-0b42408391d0",
   "metadata": {
    "tags": []
   },
   "outputs": [],
   "source": [
    "products = [item['product'] for item in json.load(pl.Path('gene.accession.json').open())['reports']]\n",
    "products.sort(key=lambda x: x['gene_id'])"
   ]
  },
  {
   "cell_type": "code",
   "execution_count": 4,
   "id": "7b0769de-031f-4b25-b84f-7fcdd236da8e",
   "metadata": {
    "tags": []
   },
   "outputs": [
    {
     "data": {
      "text/plain": [
       "'101697269'"
      ]
     },
     "execution_count": 4,
     "metadata": {},
     "output_type": "execute_result"
    }
   ],
   "source": [
    "# по заданию выбирается произвольно\n",
    "GENE_NUMBER = 11\n",
    "gene = products[GENE_NUMBER]\n",
    "gene['gene_id']"
   ]
  },
  {
   "cell_type": "code",
   "execution_count": 5,
   "id": "3c5c0d89-608b-46b0-b9e2-6f700f3d2607",
   "metadata": {
    "tags": []
   },
   "outputs": [
    {
     "name": "stdout",
     "output_type": "stream",
     "text": [
      "Всего транскриптов: 2; Белок-кодирующих последовательностей: 2\n"
     ]
    }
   ],
   "source": [
    "print(f'Всего транскриптов: {gene[\"transcript_count\"]}; Белок-кодирующих последовательностей: {gene[\"protein_count\"]}')"
   ]
  },
  {
   "cell_type": "code",
   "execution_count": 6,
   "id": "a10a8f7e-98d5-46a2-9936-882ecb073882",
   "metadata": {
    "tags": []
   },
   "outputs": [
    {
     "name": "stdout",
     "output_type": "stream",
     "text": [
      "protein_id: XM_013075423.2; product: adenosine receptor A3 isoform X2\n",
      "protein_id: XM_004853719.2; product: adenosine receptor A3 isoform X1\n"
     ]
    }
   ],
   "source": [
    "for transcript in gene['transcripts']:\n",
    "    if 'protein' not in transcript or transcript['type'] != 'PROTEIN_CODING_MODEL':\n",
    "        continue\n",
    "    print(f'protein_id: {transcript[\"accession_version\"]}; product: {transcript[\"protein\"].get(\"name\")} {transcript[\"protein\"].get(\"isoform_name\")}')"
   ]
  },
  {
   "cell_type": "code",
   "execution_count": 7,
   "id": "cde64c96-9cae-429e-a7f1-65d58710a468",
   "metadata": {
    "tags": []
   },
   "outputs": [],
   "source": [
    "%%bash\n",
    "\n",
    "# берется из задания\n",
    "export TAXON=\"Streptophyta\"\n",
    "\n",
    "/opt/bin/datasets summary genome taxon \"$TAXON\" 2>&1 | tail -1 > taxon.summary.json"
   ]
  },
  {
   "cell_type": "code",
   "execution_count": 8,
   "id": "4e6da62a-b966-437c-891f-154980e89786",
   "metadata": {
    "tags": []
   },
   "outputs": [],
   "source": [
    "raw_taxon_reports = json.load(pl.Path('taxon.summary.json').open())['reports']"
   ]
  },
  {
   "cell_type": "code",
   "execution_count": 9,
   "id": "a0116577-044c-45dc-85f1-209e62c0d7a0",
   "metadata": {
    "tags": []
   },
   "outputs": [
    {
     "name": "stdout",
     "output_type": "stream",
     "text": [
      "Имеют записи в RefSeq: 202; Имеют аннотацию: 673\n"
     ]
    }
   ],
   "source": [
    "refseq, annotated = 0, 0\n",
    "multiassempled_count = dict()\n",
    "for report in raw_taxon_reports:\n",
    "    if report['source_database'] == 'SOURCE_DATABASE_REFSEQ':\n",
    "        refseq += 1\n",
    "    if 'annotation_info' in report:\n",
    "        annotated += 1\n",
    "    taxid = report.get('organism', dict()).get('tax_id')\n",
    "    if taxid is not None:\n",
    "        multiassempled_count[taxid] = multiassempled_count.get(taxid, 0) + 1\n",
    "\n",
    "print(f'Имеют записи в RefSeq: {refseq}; Имеют аннотацию: {annotated}')"
   ]
  },
  {
   "cell_type": "code",
   "execution_count": 10,
   "id": "d22deb25-6857-4c15-a156-1141b506baac",
   "metadata": {
    "tags": []
   },
   "outputs": [],
   "source": [
    "multiassempled = dict()\n",
    "for report in raw_taxon_reports:\n",
    "    taxid = report.get('organism', dict()).get('tax_id')\n",
    "    if multiassempled_count.get(taxid, 0) < 2:\n",
    "        continue\n",
    "    if taxid not in multiassempled:\n",
    "        multiassempled[taxid] = list()\n",
    "    multiassempled[taxid].append(report)"
   ]
  },
  {
   "cell_type": "code",
   "execution_count": 11,
   "id": "48b63f69-7867-4995-9a6f-47e36abaa6b9",
   "metadata": {
    "tags": []
   },
   "outputs": [
    {
     "name": "stdout",
     "output_type": "stream",
     "text": [
      "Всего сборок для Ficus carica: 5\n"
     ]
    },
    {
     "data": {
      "text/plain": [
       "[['accession',\n",
       "  'level',\n",
       "  'contig N50',\n",
       "  'contig L50',\n",
       "  'scaffold N50',\n",
       "  'scaffold L50'],\n",
       " ['GCA_002002945.1', 'Scaffold', 4568, 13404, 166092, 374],\n",
       " ['GCA_009761775.1', 'Chromosome', 823517, 121, 19846527, 7],\n",
       " ['GCA_033242285.1', 'Scaffold', 28777, 3106, 1066773, 69],\n",
       " ['GCA_042847195.1', 'Chromosome', 2043694, 48, 24737479, 6],\n",
       " ['GCA_042854195.1', 'Chromosome', 2369984, 44, 23853041, 6]]"
      ]
     },
     "execution_count": 11,
     "metadata": {},
     "output_type": "execute_result"
    }
   ],
   "source": [
    "TAXID = 14\n",
    "taxids = list(multiassempled.keys())\n",
    "taxids.sort()\n",
    "assembles = sorted(multiassempled[taxids[TAXID]], key=lambda x: x['accession'])\n",
    "print(f'Всего сборок для {assembles[0][\"organism\"][\"organism_name\"]}: {len(assembles)}')\n",
    "table = [['accession','level','contig N50','contig L50','scaffold N50','scaffold L50']]\n",
    "for assembly in assembles:\n",
    "    table.append([\n",
    "        assembly[\"accession\"],\n",
    "        assembly[\"assembly_info\"][\"assembly_level\"],\n",
    "        assembly[\"assembly_stats\"].get(\"contig_n50\", 0),\n",
    "        assembly[\"assembly_stats\"].get(\"contig_l50\", 0),\n",
    "        assembly[\"assembly_stats\"].get(\"scaffold_n50\", 0),\n",
    "        assembly[\"assembly_stats\"].get(\"scaffold_l50\", 0),\n",
    "    ])\n",
    "table"
   ]
  },
  {
   "cell_type": "code",
   "execution_count": 12,
   "id": "4e5c3da6-9750-487f-9f0b-dccd307c5fc4",
   "metadata": {
    "tags": []
   },
   "outputs": [],
   "source": [
    "%%bash\n",
    "\n",
    "# берется из задания\n",
    "export TAXONOMY=\"274614\"\n",
    "\n",
    "/opt/bin/datasets summary taxonomy taxon \"$TAXONOMY\" --children 2>&1 | tail -1 > taxonomy.summary.json"
   ]
  },
  {
   "cell_type": "code",
   "execution_count": 13,
   "id": "a4b41488-14f9-41b9-8dc7-1df6d699c5ac",
   "metadata": {
    "tags": []
   },
   "outputs": [],
   "source": [
    "taxonomy = json.load(pl.Path('taxonomy.summary.json').open())['reports'][0]['taxonomy']['classification']"
   ]
  },
  {
   "cell_type": "code",
   "execution_count": 14,
   "id": "b00da2a7-b386-43ba-8314-7385ac05e6a2",
   "metadata": {
    "tags": []
   },
   "outputs": [
    {
     "name": "stdout",
     "output_type": "stream",
     "text": [
      "Eukaryota\n",
      "Metazoa\n",
      "Arthropoda\n",
      "Insecta\n",
      "Orthoptera\n",
      "Acrididae\n",
      "Schistocerca\n",
      "Schistocerca cancellata\n"
     ]
    }
   ],
   "source": [
    "order = [\n",
    "    \"superkingdom\",\n",
    "    \"kingdom\",\n",
    "    \"phylum\",\n",
    "    \"class\",\n",
    "    \"order\",\n",
    "    \"family\",\n",
    "    \"genus\",\n",
    "    \"species\",\n",
    "]\n",
    "\n",
    "for current in order:\n",
    "    print(taxonomy[current]['name'])\n"
   ]
  }
 ],
 "metadata": {
  "kernelspec": {
   "display_name": "Python 3 (ipykernel)",
   "language": "python",
   "name": "python3"
  },
  "language_info": {
   "codemirror_mode": {
    "name": "ipython",
    "version": 3
   },
   "file_extension": ".py",
   "mimetype": "text/x-python",
   "name": "python",
   "nbconvert_exporter": "python",
   "pygments_lexer": "ipython3",
   "version": "3.9.16"
  }
 },
 "nbformat": 4,
 "nbformat_minor": 5
}
