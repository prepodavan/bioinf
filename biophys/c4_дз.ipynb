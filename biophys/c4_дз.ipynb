{
 "cells": [
  {
   "cell_type": "markdown",
   "metadata": {
    "id": "1HTJNWcwNSmk"
   },
   "source": [
    "Скачаем и импортируем prody и nglview."
   ]
  },
  {
   "cell_type": "markdown",
   "metadata": {
    "id": "9fF4T5ekMX74"
   },
   "source": [
    "# Автоматизация анализа. Процессы. Графики"
   ]
  },
  {
   "cell_type": "code",
   "execution_count": 1,
   "metadata": {
    "colab": {
     "base_uri": "https://localhost:8080/",
     "height": 17,
     "referenced_widgets": [
      "baff283ae4084f51b36d9e11ea069077",
      "b1f34042265c4aa19126eeabfeedf4ba"
     ]
    },
    "id": "TVJ8y5obMQPl",
    "outputId": "a2d94937-169d-46f4-f43d-e942b3c949d2"
   },
   "outputs": [
    {
     "data": {
      "application/vnd.jupyter.widget-view+json": {
       "model_id": "e2127022aea24855b288456042c1bf3c",
       "version_major": 2,
       "version_minor": 0
      },
      "text/plain": []
     },
     "metadata": {},
     "output_type": "display_data"
    }
   ],
   "source": [
    "import nglview as nv\n",
    "import prody"
   ]
  },
  {
   "cell_type": "markdown",
   "metadata": {
    "id": "nd27d9QlNYrq"
   },
   "source": [
    "## Задание 1. Хигнолин и его структура"
   ]
  },
  {
   "cell_type": "markdown",
   "metadata": {
    "id": "setBa4eoOXf-"
   },
   "source": [
    "Для этого задания было проведено моделирование самопроизвольного сворачивания маленького белка в растворе. Этот белок называется хигнолин, и, принимая во внимание его скромную длину всего в 10 остатков, его можно было бы и вовсе назвать пептидом. Однако же он демонстрирует одно важнейшее свойство белков -- возможность сворачиваться в одну определенную третичную структуру. Давайте ее изучим.\n",
    "\n",
    "На kodomo лежит структура хигнолина в формате PDB. Скачайте ее и откройте в nglview/pymol."
   ]
  },
  {
   "cell_type": "code",
   "execution_count": 2,
   "metadata": {
    "colab": {
     "base_uri": "https://localhost:8080/"
    },
    "id": "Og4FL6UgNtzg",
    "outputId": "12ad80b6-9762-4a51-9c99-50ae6d7d93e3"
   },
   "outputs": [
    {
     "name": "stdout",
     "output_type": "stream",
     "text": [
      "--2024-12-29 15:20:18--  https://www.kodomo.fbb.msu.ru/FBB/year_21/structure/chignolin.pdb\n",
      "Распознаётся www.kodomo.fbb.msu.ru (www.kodomo.fbb.msu.ru)… 93.180.63.127\n",
      "Подключение к www.kodomo.fbb.msu.ru (www.kodomo.fbb.msu.ru)|93.180.63.127|:443... соединение установлено.\n",
      "HTTP-запрос отправлен. Ожидание ответа… 301 Moved Permanently\n",
      "Адрес: https://kodomo.fbb.msu.ru/FBB/year_21/structure/chignolin.pdb [переход]\n",
      "--2024-12-29 15:20:18--  https://kodomo.fbb.msu.ru/FBB/year_21/structure/chignolin.pdb\n",
      "Распознаётся kodomo.fbb.msu.ru (kodomo.fbb.msu.ru)… 93.180.63.127\n",
      "Подключение к kodomo.fbb.msu.ru (kodomo.fbb.msu.ru)|93.180.63.127|:443... соединение установлено.\n",
      "HTTP-запрос отправлен. Ожидание ответа… 200 OK\n",
      "Длина: 11209 (11K) [chemical/x-pdb]\n",
      "Сохранение в: «chignolin.pdb.1»\n",
      "\n",
      "chignolin.pdb.1     100%[===================>]  10,95K  --.-KB/s    за 0s      \n",
      "\n",
      "2024-12-29 15:20:19 (52,7 MB/s) - «chignolin.pdb.1» сохранён [11209/11209]\n",
      "\n"
     ]
    }
   ],
   "source": [
    "!wget https://www.kodomo.fbb.msu.ru/FBB/year_21/structure/chignolin.pdb"
   ]
  },
  {
   "cell_type": "code",
   "execution_count": 3,
   "metadata": {
    "colab": {
     "base_uri": "https://localhost:8080/",
     "height": 317,
     "referenced_widgets": [
      "01ec669bbf5f48da8e3528ba8aff25b8",
      "7b56329863ca41e39551315452c418a7",
      "a033df9e04d64eeb9558a4ce8e4b2588",
      "eb1909a6071b48aaaa9c06043d5d17e2",
      "cbf2c1f923724d5f99391a3c681b4704",
      "a5a70f696d3d4b31af09b8bab7270f02",
      "a5ab238903a74cf38944ca506d029fdd",
      "13685dce62a14f2ea5af49e0ae7a89fd",
      "072140de5b3a48a4a108123f40156e90",
      "45f9657827204f9c804447e7dfcd98f7",
      "8a4fc5dc2022470cbf57a13a0d1645fb",
      "b81f904e9b674fdbade0b69b3adb47b6",
      "89c22da30c054edb8f6632d6f526ad81"
     ]
    },
    "id": "fBUr9kR4TO50",
    "outputId": "a8fbff42-cdff-49ab-99e0-5ebc19830954"
   },
   "outputs": [
    {
     "data": {
      "application/vnd.jupyter.widget-view+json": {
       "model_id": "1ffe92a17fa644eeb0cae7e871f43f89",
       "version_major": 2,
       "version_minor": 0
      },
      "text/plain": [
       "NGLWidget()"
      ]
     },
     "metadata": {},
     "output_type": "display_data"
    }
   ],
   "source": [
    "view = nv.show_structure_file('chignolin.pdb')\n",
    "view"
   ]
  },
  {
   "cell_type": "markdown",
   "metadata": {
    "id": "-Dfc4JZvWARh"
   },
   "source": [
    "Изучите структуру и выпишите последовательность этого белка в однобуквенном коде."
   ]
  },
  {
   "cell_type": "markdown",
   "metadata": {
    "id": "0xE7fqZVSydJ"
   },
   "source": [
    "Опишите, что дает нам право говорить, что это свернутый белок? Есть ли вторичная структура, какая? Если есть, создайте отображение, где были бы видны атомы и связи, и между атомами, вступающими в остов-остовные водородные связи, было создано отображение типа **distance** через функцию **add_representation**. У этого отображения вместо атрибута selection атрибут `atom_pair = [[selection, selection]]`. Можно давать несколько таких пар: `[[selection, selection], [selection, selection], [..,..], ...].`"
   ]
  },
  {
   "cell_type": "markdown",
   "metadata": {
    "id": "OYDYrH4jUMrp"
   },
   "source": [
    "## Задание 2. Фолдинг хигнолина"
   ]
  },
  {
   "cell_type": "markdown",
   "metadata": {
    "id": "6Dua5xsvURij"
   },
   "source": [
    "Давайте теперь своими глазами проследим за процессом самопроизвольного сворачивания этого крошечного белка. Тут нам нужен будет еще один модуль, выступающий вспомогательным для nglview."
   ]
  },
  {
   "cell_type": "code",
   "execution_count": 4,
   "metadata": {
    "id": "yuV6cdG1Ud5E"
   },
   "outputs": [],
   "source": [
    "import mdtraj"
   ]
  },
  {
   "cell_type": "markdown",
   "metadata": {
    "id": "l2kJXuNlhb12"
   },
   "source": [
    "Выберите себе вариант для работы из [папки](https://drive.google.com/drive/folders/1E6O3MWfX0KvBVQxptPebBhttvTBzS9Rj?usp=sharing), далее используйте траекторию оттуда(\\<id\\>.dcd) вместо моей."
   ]
  },
  {
   "cell_type": "code",
   "execution_count": 5,
   "metadata": {
    "colab": {
     "base_uri": "https://localhost:8080/"
    },
    "id": "PDL6vPB8VIba",
    "outputId": "a50fae21-5d73-49f7-f845-250b60e0ae21"
   },
   "outputs": [
    {
     "name": "stdout",
     "output_type": "stream",
     "text": [
      "--2024-12-29 15:20:32--  https://www.kodomo.fbb.msu.ru/FBB/year_21/structure/traj.dcd\n",
      "Распознаётся www.kodomo.fbb.msu.ru (www.kodomo.fbb.msu.ru)… 93.180.63.127\n",
      "Подключение к www.kodomo.fbb.msu.ru (www.kodomo.fbb.msu.ru)|93.180.63.127|:443... соединение установлено.\n",
      "HTTP-запрос отправлен. Ожидание ответа… 301 Moved Permanently\n",
      "Адрес: https://kodomo.fbb.msu.ru/FBB/year_21/structure/traj.dcd [переход]\n",
      "--2024-12-29 15:20:33--  https://kodomo.fbb.msu.ru/FBB/year_21/structure/traj.dcd\n",
      "Распознаётся kodomo.fbb.msu.ru (kodomo.fbb.msu.ru)… 93.180.63.127\n",
      "Подключение к kodomo.fbb.msu.ru (kodomo.fbb.msu.ru)|93.180.63.127|:443... соединение установлено.\n",
      "HTTP-запрос отправлен. Ожидание ответа… 200 OK\n",
      "Длина: 1738012 (1,7M) [application/DCD]\n",
      "Сохранение в: «traj.dcd»\n",
      "\n",
      "traj.dcd            100%[===================>]   1,66M  2,96MB/s    за 0,6s    \n",
      "\n",
      "2024-12-29 15:20:34 (2,96 MB/s) - «traj.dcd» сохранён [1738012/1738012]\n",
      "\n"
     ]
    }
   ],
   "source": [
    "!wget https://www.kodomo.fbb.msu.ru/FBB/year_21/structure/traj.dcd"
   ]
  },
  {
   "cell_type": "code",
   "execution_count": 6,
   "metadata": {
    "colab": {
     "base_uri": "https://localhost:8080/",
     "height": 317,
     "referenced_widgets": [
      "2914bd15fa9b49919d9e70ccf9042d32",
      "ace2979b95c14690be9a13f85be0f3d7",
      "4799d1f6b42f4271a84971c0a9ca4d15",
      "b67fd4809be943188ec5109c38579ed0",
      "ca926d2eab5949ef82045bb52b7608ce",
      "e55975ebae5549b1abcc3de980d90b3b",
      "e500eca204274992b1b1dae7e74277c4",
      "543bed337c394d0c80ca93be79923efc",
      "92338a5e90f74ea5b6a67abab4c1f5ec",
      "e3536d8ab3fb46a08ae7b43d02e83d74",
      "17e02f6e3b6345079b0f3ca69fc80e38",
      "f9538da6ea17419b880ce221fcc10f09",
      "a694967d53a7470586d1daae3fc6a23a"
     ]
    },
    "id": "ugm6pZH_VE7K",
    "outputId": "8b38a969-9f88-4379-ff12-e7377c17934b"
   },
   "outputs": [
    {
     "data": {
      "application/vnd.jupyter.widget-view+json": {
       "model_id": "0efa956537c34d07ba4c0beb57e9c031",
       "version_major": 2,
       "version_minor": 0
      },
      "text/plain": [
       "NGLWidget(max_frame=1000)"
      ]
     },
     "metadata": {},
     "output_type": "display_data"
    }
   ],
   "source": [
    "trajectory = mdtraj.load('traj.dcd', top='chignolin.pdb')\n",
    "view = nv.show_mdtraj(trajectory, default_representation=False)\n",
    "view.add_representation('ball+stick', color_scheme='element')\n",
    "view.center()\n",
    "view"
   ]
  },
  {
   "cell_type": "markdown",
   "metadata": {
    "id": "RmTFeA82dh2c"
   },
   "source": [
    "Перед вами 300-наносекундный фрагмент из жизни хигнолина, который исходно находился в полностью расправленном состоянии. Вам дано 1000 \"кадров\", каждый из которых соответствует продвижению на 0.3 наносекунды, плюс стартовое состояние.\n",
    "\n",
    "У каждого студента свой личный хигнолин и его жизнь. В вашем случае, произошло ли за 300 наносекунд сворачивание? Если да, то на каком приблизительно кадре?"
   ]
  },
  {
   "cell_type": "markdown",
   "metadata": {
    "id": "ek8ZacLieH0x"
   },
   "source": [
    "## Задание 3. Понижение размерности"
   ]
  },
  {
   "cell_type": "markdown",
   "metadata": {
    "id": "Pl_5gfKeeTQ-"
   },
   "source": [
    "Вы можете заметить, что делать выводы, особенно количественные, по полной траектории сложно: не ясно, что назвать моментом сворачивания, все атомы постоянно шевелятся. Также влияют и технические моменты: не каждый кадр успевает обработаться, и отображению может не хватать плавности. Что делать в таком случае?\n",
    "\n",
    "Исследователи любят упрощать процессы, с которыми работают, до наблюдения за минимумом переменных. В идеале за одной. Значение этой переменной в момент времени t должно в идеале содержать в себе максимум информации о изучаемом процессе, значимой для исследователя.\n",
    "\n",
    "Давайте подумаем, что может быть такой переменной для нашего процесса. Ключевую роль в нем играет образование водородных связей -- ни солевых мостиков, ни стэкинга, ни гидрофобных ядер в свернутой структуре не наблюдается. Можем ли мы как-то обыграть этот момент? Конечно, можем!"
   ]
  },
  {
   "cell_type": "markdown",
   "metadata": {
    "id": "9LnIXESrgS7w"
   },
   "source": [
    "Назовем \"правильными\" водородными связями те, которые присутствуют в данной \"свернутой\" структуре.\n",
    "\n",
    "Изучим процесс в отображении на следующие переменные:\n",
    " * Число водородных связей в момент времени\n",
    " * Число \"правильных\" водородных связей в момент времени\n",
    " * Число \"неправильных\" водородных связей в момент времени\n",
    "\n",
    "Нам необходимо, таким образом,\n",
    " * Определить \"правильные\" водородные связи\n",
    " * Написать код для сбора этих данных по траектории\n",
    "\n",
    "Обе задачи нам будет удобно сделать с помощью ProDy."
   ]
  },
  {
   "cell_type": "markdown",
   "metadata": {
    "id": "gC2FhVp-hTy2"
   },
   "source": [
    "### Правильные водородные связи"
   ]
  },
  {
   "cell_type": "code",
   "execution_count": 7,
   "metadata": {
    "colab": {
     "base_uri": "https://localhost:8080/"
    },
    "id": "NLk2f0MEhWsu",
    "outputId": "a5209157-9507-4050-dada-d7a2e9a4fd91"
   },
   "outputs": [
    {
     "name": "stderr",
     "output_type": "stream",
     "text": [
      "@> 138 atoms and 1 coordinate set(s) were parsed in 0.00s.\n"
     ]
    }
   ],
   "source": [
    "protein = prody.parsePDB('chignolin.pdb')"
   ]
  },
  {
   "cell_type": "markdown",
   "metadata": {
    "id": "jQcpW11yh7aa"
   },
   "source": [
    "Нужно определить все атомы, которые могут быть донорами и акцепторами в нашей структуре."
   ]
  },
  {
   "cell_type": "code",
   "execution_count": 36,
   "metadata": {
    "id": "8PoCtAoVh5qz"
   },
   "outputs": [],
   "source": [
    "polar_atoms = protein.select('not element C H')\n",
    "\n",
    "donors = {}\n",
    "# Доноров оформим в виде словаря, где ключом будет номер атома-донора\n",
    "# А значением -- список из номеров водородов, связанных с этим атомом\n",
    "\n",
    "for atom in polar_atoms:\n",
    "    atom_index = atom.getIndex() # получаем номер атома\n",
    "    atom_bonded_h = protein.select(f'hydrogen within 1.2 of index {atom_index}')\n",
    "    # Допишите код, чтобы поолучить все водороды, находящиеся не далее 1.2 ангстрем от атома\n",
    "\n",
    "    # Делаем проверку на то, что такие водороды вообще есть\n",
    "    if atom_bonded_h:\n",
    "        elements = set(atom_bonded_h.getElements())\n",
    "        assert len(elements) == 1\n",
    "        assert str(list(elements)[0]) == 'H'\n",
    "        h_indices = atom_bonded_h.getIndices()\n",
    "        donors[atom_index] = h_indices\n"
   ]
  },
  {
   "cell_type": "code",
   "execution_count": 39,
   "metadata": {
    "id": "tCZHApNHjfrj"
   },
   "outputs": [],
   "source": [
    "acceptors = []\n",
    "# Акцепторов оформим в виде списка индексов\n",
    "\n",
    "# Так как неподеленная пара отсутствует как объект в файле PDB, нам придется\n",
    "# подключить ручной анализ: вручную определить атомы, которые никак не могут\n",
    "# быть акцепторами в нашем белке. Например, атом N остова. Изучите структуру\n",
    "# и найдите остальные случаи!\n",
    "allowed_acceptors = {'OG1', 'OH', 'NE1', 'OD1', 'OD2', 'OE1', 'OE2', 'O'}\n",
    "for atom in polar_atoms:\n",
    "    if atom.getName() in allowed_acceptors:\n",
    "        acceptors.append(atom.getIndex())"
   ]
  },
  {
   "cell_type": "markdown",
   "metadata": {
    "id": "N70am2l1kBpT"
   },
   "source": [
    "Теперь найдем водородные связи. Будем перебирать все пары доноров и акцепторов и смотреть на геометрию взаимодействия. Если она хороша, будем обзывать эту ситуацию валидной водородной связью."
   ]
  },
  {
   "cell_type": "code",
   "execution_count": 40,
   "metadata": {
    "id": "7h96ZrGLkAML"
   },
   "outputs": [],
   "source": [
    "def find_hb(structure, donors, acceptors):\n",
    "    hbonds = []\n",
    "    for d_index in donors.keys():\n",
    "        for a_index in acceptors:\n",
    "            if is_hb(structure, d_index, a_index):\n",
    "                hbonds.append((d_index, a_index))\n",
    "    return hbonds"
   ]
  },
  {
   "cell_type": "code",
   "execution_count": 41,
   "metadata": {
    "id": "Zsh3tU7-kaEb"
   },
   "outputs": [],
   "source": [
    "def is_hb(structure, d_index, a_index, max_d=3.5, min_a=130):\n",
    "    # В этом практикуме используем расслабленный критерий на угол: не менее 130,\n",
    "    # чтобы найти даже слабые водородные связи.\n",
    "\n",
    "    d = prody.calcDistance(structure[d_index],\n",
    "                           structure[a_index])\n",
    "    if d <= max_d:\n",
    "        for h_index in donors[d_index]:\n",
    "            # Смотрим на все возможные водороды, если хотя бы один подходит --\n",
    "            # значит, связь есть\n",
    "\n",
    "            a = prody.calcAngle(structure[d_index],\n",
    "                                structure[h_index],\n",
    "                                structure[a_index])\n",
    "            if a >= min_a:\n",
    "                return True\n",
    "    return False"
   ]
  },
  {
   "cell_type": "code",
   "execution_count": 42,
   "metadata": {
    "colab": {
     "base_uri": "https://localhost:8080/"
    },
    "id": "dXLK2CtYlKbi",
    "outputId": "29ca87df-acac-4f96-cb70-0e5801d3bce7"
   },
   "outputs": [
    {
     "data": {
      "text/plain": [
       "[(0, 129), (30, 91), (56, 38), (71, 38), (81, 38), (85, 41), (106, 8)]"
      ]
     },
     "execution_count": 42,
     "metadata": {},
     "output_type": "execute_result"
    }
   ],
   "source": [
    "true_hbonds = find_hb(protein, donors, acceptors)\n",
    "true_hbonds"
   ]
  },
  {
   "cell_type": "code",
   "execution_count": 43,
   "metadata": {
    "colab": {
     "base_uri": "https://localhost:8080/"
    },
    "id": "RHqFKFvrlzhJ",
    "outputId": "847a7cfe-1380-4788-c403-f20481078f5d"
   },
   "outputs": [
    {
     "name": "stdout",
     "output_type": "stream",
     "text": [
      "Resname\tResnum\tAtomname\n",
      "GLY\t1\tN\t---\tTRP\t9\tO\n",
      "ASP\t3\tN\t---\tGLY\t7\tO\n",
      "GLU\t5\tN\t---\tASP\t3\tOD1\n",
      "THR\t6\tN\t---\tASP\t3\tOD1\n",
      "THR\t6\tOG1\t---\tASP\t3\tOD1\n",
      "GLY\t7\tN\t---\tASP\t3\tO\n",
      "TRP\t9\tN\t---\tGLY\t1\tO\n"
     ]
    }
   ],
   "source": [
    "print('Resname', 'Resnum', 'Atomname', sep='\\t')\n",
    "\n",
    "for hb in true_hbonds:\n",
    "    d = protein[hb[0]]\n",
    "    a = protein[hb[1]]\n",
    "\n",
    "    print(d.getResname(), d.getResnum(), d.getName(),\n",
    "          '---',\n",
    "          a.getResname(), a.getResnum(), a.getName(),\n",
    "          sep='\\t')"
   ]
  },
  {
   "cell_type": "markdown",
   "metadata": {
    "id": "pRNh1U6mnVXF"
   },
   "source": [
    "Здесь есть одна проблема: два кислорода бокового радикала аспартата неразличимы. Это значит, что если в какой-то момент времени группа -COO развернется на 180 градусов, она функционально останется неизменной. Имена атомов существуют только в головах людей. Нужно подготовиться к такой ситуации и добавить в список **true_hbonds** копии водородных связей к атому OD1, где вместо него указан OD2. Напишите код для этого самостоятельно!"
   ]
  },
  {
   "cell_type": "markdown",
   "metadata": {
    "id": "adFz3Vsxodl-"
   },
   "source": [
    "### Поиск водородных связей вдоль траектории"
   ]
  },
  {
   "cell_type": "code",
   "execution_count": 44,
   "metadata": {
    "id": "k-B34BQ3oiny"
   },
   "outputs": [],
   "source": [
    "# Загрузим траекторию в prody\n",
    "traj = prody.Trajectory('traj.dcd')\n",
    "traj.link(protein)"
   ]
  },
  {
   "cell_type": "code",
   "execution_count": 45,
   "metadata": {
    "id": "zGJB68FFoxgX"
   },
   "outputs": [],
   "source": [
    "num_hbonds = {\n",
    "    'all': [],\n",
    "    'true': [],\n",
    "    'false': []\n",
    "}"
   ]
  },
  {
   "cell_type": "code",
   "execution_count": 46,
   "metadata": {
    "colab": {
     "base_uri": "https://localhost:8080/"
    },
    "id": "C1BvecRQo5NI",
    "outputId": "dbc29fd3-1190-440a-c499-4f3fa57984e4"
   },
   "outputs": [
    {
     "name": "stderr",
     "output_type": "stream",
     "text": [
      "/Users/avgindulli/miniconda3/envs/biophys/lib/python3.11/site-packages/prody/measure/measure.py:167: RuntimeWarning: invalid value encountered in arccos\n",
      "  rad = arccos((v1*v2).sum(-1) / ((v1**2).sum(-1) * (v2**2).sum(-1))**0.5)\n"
     ]
    }
   ],
   "source": [
    "for frame in traj:\n",
    "    frame_hbonds = find_hb(protein, donors, acceptors)\n",
    "    num_hbonds['all'].append(len(frame_hbonds))\n",
    "\n",
    "    true_hb, false_hb = 0, 0\n",
    "    for hb in frame_hbonds:\n",
    "        if hb in true_hbonds:\n",
    "            true_hb += 1\n",
    "        else:\n",
    "            false_hb += 1\n",
    "\n",
    "    num_hbonds['true'].append(true_hb)\n",
    "    num_hbonds['false'].append(false_hb)"
   ]
  },
  {
   "cell_type": "markdown",
   "metadata": {
    "id": "01PQkyoapjhS"
   },
   "source": [
    "Мы получили наши игреки -- число водородных связей в каждый момент времени. Теперь нужно задать икс -- собственно, время, -- и можно строить графики."
   ]
  },
  {
   "cell_type": "code",
   "execution_count": 47,
   "metadata": {
    "id": "7ojnuJRVpe6T"
   },
   "outputs": [],
   "source": [
    "time = [0.3*x for x in range(1001)]"
   ]
  },
  {
   "cell_type": "code",
   "execution_count": 48,
   "metadata": {
    "id": "FxSq2_LDqEB7"
   },
   "outputs": [],
   "source": [
    "import matplotlib.pyplot as plt"
   ]
  },
  {
   "cell_type": "markdown",
   "metadata": {
    "id": "FTFtERT1qrXc"
   },
   "source": [
    "**matplotlib** это встроенный в python пакет для построения разнообразных типов графиков. Их так много, что запомнить, как все строить и с какими параметрами, невозможно -- всегда гуглите и изучайте документацию. В этом практикуме у нас есть время только на самые основные вещи.\n",
    "\n",
    "Любое творение в matplotlib это Figure. Figure состоит из отдельных панелей с осями икс и игрек, отсюда панель зовется Axes (\"оси\"). На каждой панели можно помещать графики, делать подписи. У Figure как целого тоже может быть подпись.\n",
    "\n",
    "Ниже представлен самый простой пример использования matplotlib. Когда в будущем будете готовить графики для курсовых, уделите этому пакету особое внимание: в нем есть все нужное."
   ]
  },
  {
   "cell_type": "code",
   "execution_count": 49,
   "metadata": {
    "colab": {
     "base_uri": "https://localhost:8080/",
     "height": 265
    },
    "id": "aO9-oSS3qIG3",
    "outputId": "51f38302-286d-41d9-e119-dfda4e4d177f"
   },
   "outputs": [
    {
     "name": "stderr",
     "output_type": "stream",
     "text": [
      "/var/folders/vp/kn0lwtz530ld47p3yqfvvj4nft_m2g/T/ipykernel_78058/3747449385.py:7: UserWarning: FigureCanvasAgg is non-interactive, and thus cannot be shown\n",
      "  fig.show()\n"
     ]
    },
    {
     "data": {
      "image/png": "[encoded data removed]",
      "text/plain": [
       "<Figure size 640x480 with 1 Axes>"
      ]
     },
     "metadata": {},
     "output_type": "display_data"
    }
   ],
   "source": [
    "fig,ax = plt.subplots() # аргументы не даны, поэтому панель только одна, помещена в ax\n",
    "\n",
    "ax.plot(time, num_hbonds['all'])\n",
    "# простая линия, соединяющая точки. Икс-координаты идут в первом массиве,\n",
    "# игрек-координаты во втором\n",
    "\n",
    "fig.show()"
   ]
  },
  {
   "cell_type": "markdown",
   "metadata": {
    "id": "jB7YpSsJsGwN"
   },
   "source": [
    "Построим теперь все три метрики одновременно. Matplotlib присвоит им разные цвета."
   ]
  },
  {
   "cell_type": "code",
   "execution_count": 50,
   "metadata": {
    "colab": {
     "base_uri": "https://localhost:8080/",
     "height": 265
    },
    "id": "YwOyFd-OrB-C",
    "outputId": "6d687a5d-848a-4032-cb4b-d333e961f96f"
   },
   "outputs": [
    {
     "name": "stderr",
     "output_type": "stream",
     "text": [
      "/var/folders/vp/kn0lwtz530ld47p3yqfvvj4nft_m2g/T/ipykernel_78058/1345339888.py:5: UserWarning: FigureCanvasAgg is non-interactive, and thus cannot be shown\n",
      "  fig.show()\n"
     ]
    },
    {
     "data": {
      "image/png": "[encoded data removed]",
      "text/plain": [
       "<Figure size 640x480 with 1 Axes>"
      ]
     },
     "metadata": {},
     "output_type": "display_data"
    }
   ],
   "source": [
    "fig,ax = plt.subplots()\n",
    "ax.plot(time, num_hbonds['all'])\n",
    "ax.plot(time, num_hbonds['true'])\n",
    "ax.plot(time, num_hbonds['false'])\n",
    "fig.show()"
   ]
  },
  {
   "cell_type": "markdown",
   "metadata": {
    "id": "EUj63OWpsbHh"
   },
   "source": [
    "Однако, не понятно, где что. Нужно добавить подписи!"
   ]
  },
  {
   "cell_type": "code",
   "execution_count": 51,
   "metadata": {
    "colab": {
     "base_uri": "https://localhost:8080/",
     "height": 265
    },
    "id": "OjmkcZrVsfG1",
    "outputId": "2578d95c-3487-44a0-c227-c719657213e9"
   },
   "outputs": [
    {
     "name": "stderr",
     "output_type": "stream",
     "text": [
      "/var/folders/vp/kn0lwtz530ld47p3yqfvvj4nft_m2g/T/ipykernel_78058/361516979.py:6: UserWarning: FigureCanvasAgg is non-interactive, and thus cannot be shown\n",
      "  fig.show()\n"
     ]
    },
    {
     "data": {
      "image/png": "[encoded data removed]",
      "text/plain": [
       "<Figure size 640x480 with 1 Axes>"
      ]
     },
     "metadata": {},
     "output_type": "display_data"
    }
   ],
   "source": [
    "fig,ax = plt.subplots()\n",
    "ax.plot(time, num_hbonds['all'], label='All')\n",
    "ax.plot(time, num_hbonds['true'], label='True')\n",
    "ax.plot(time, num_hbonds['false'], label='False')\n",
    "ax.legend()\n",
    "fig.show()"
   ]
  },
  {
   "cell_type": "markdown",
   "metadata": {
    "id": "zKBj2ilDsbFJ"
   },
   "source": [
    "Конечно, можно давать свои цвета. Также нам явно не хватает подписей осей -- никогда не забывайте их в отчетах и курсовых!"
   ]
  },
  {
   "cell_type": "code",
   "execution_count": 52,
   "metadata": {
    "colab": {
     "base_uri": "https://localhost:8080/",
     "height": 279
    },
    "id": "NV0tMoovsZBl",
    "outputId": "a64e255e-2392-472e-e5d2-605d5726195c"
   },
   "outputs": [
    {
     "name": "stderr",
     "output_type": "stream",
     "text": [
      "/var/folders/vp/kn0lwtz530ld47p3yqfvvj4nft_m2g/T/ipykernel_78058/690822485.py:8: UserWarning: FigureCanvasAgg is non-interactive, and thus cannot be shown\n",
      "  fig.show()\n"
     ]
    },
    {
     "data": {
      "image/png": "[encoded data removed]",
      "text/plain": [
       "<Figure size 640x480 with 1 Axes>"
      ]
     },
     "metadata": {},
     "output_type": "display_data"
    }
   ],
   "source": [
    "fig,ax = plt.subplots()\n",
    "ax.plot(time, num_hbonds['all'], label='All', color='black')\n",
    "ax.plot(time, num_hbonds['true'], label='True', color='teal')\n",
    "ax.plot(time, num_hbonds['false'], label='False', color='forestgreen')\n",
    "ax.legend()\n",
    "ax.set_xlabel('Time, ns')\n",
    "ax.set_ylabel('Number of hydrogen bonds')\n",
    "fig.show()"
   ]
  },
  {
   "cell_type": "markdown",
   "metadata": {
    "id": "Dc2Ld2xNtFiY"
   },
   "source": [
    "Стало лучше, но все же это не очень информативный график -- линии наслаиваются друг на друга. Также мы видим явную проблему дискретности нашей переменной: график выходит не плавным, а постоянно скачет вверх-вниз из-за какой-то одной слабой водородной связи.\n",
    "\n",
    "Но мы можем это исправить! И мало того, что мы сделаем картинку лучше, мы сделаем анализ корректнее с помощью следующей идеи. Когда мы изучаем какой-то процесс, связанный с структурами белков, нам всегда стоит принимать их тепловые движения, колебания как естественный порядок вещей при комнатной температуре. Водородные связи в нормальном свернутом белке разрываются, снова образуются и снова разрываются, но общая структура остается неизменной. Отсюда, становится не столь важно, есть или нет водородная связь в каждом конкретном кадре. Более показательно, как часто она образовывалась за определенную дельту времени.\n",
    "\n",
    "Чтобы это посмотреть, нам нужно преобразовать наши игреки таким образом, чтобы каждому моменту времени соответствовало среднее число водородных связей в течение времени t до этого момента. Такое преобразование называется [скользящим средним](https://en.wikipedia.org/wiki/Moving_average)."
   ]
  },
  {
   "cell_type": "code",
   "execution_count": 53,
   "metadata": {
    "id": "NgB-GFhpuZIE"
   },
   "outputs": [],
   "source": [
    "# Изучив раздел про простое скользящее среднее (Simple Moving Average) по ссылке\n",
    "# на Вики, исправьте код, чтобы он стал верным\n",
    "\n",
    "def moving_average(Y, window):\n",
    "    averaged = []\n",
    "    L = len(Y)\n",
    "\n",
    "    sma_prev = sum(Y[:window])/window\n",
    "    averaged.append(sma_prev)\n",
    "\n",
    "    for i in range(window, L):\n",
    "        sma_i = sma_prev + (Y[i] - Y[i-window])\n",
    "        averaged.append(sma_i)\n",
    "        sma_prev = sma_i\n",
    "\n",
    "    return averaged"
   ]
  },
  {
   "cell_type": "code",
   "execution_count": 54,
   "metadata": {
    "id": "f2OhgnPnueNs"
   },
   "outputs": [],
   "source": [
    "window = 50 # будем усреднять метрику по 50 кадрам\n",
    "\n",
    "time_ma = time[(window-1):]\n",
    "\n",
    "num_hbonds_ma = {\n",
    "    'all': moving_average(num_hbonds['all'], window),\n",
    "    'true': moving_average(num_hbonds['true'], window),\n",
    "    'false': moving_average(num_hbonds['false'], window)\n",
    "}"
   ]
  },
  {
   "cell_type": "code",
   "execution_count": 55,
   "metadata": {
    "colab": {
     "base_uri": "https://localhost:8080/",
     "height": 280
    },
    "id": "0-oL8dX5wApa",
    "outputId": "f0b038f2-2b79-4da4-e8e0-6daf8e3f5296"
   },
   "outputs": [
    {
     "name": "stderr",
     "output_type": "stream",
     "text": [
      "/var/folders/vp/kn0lwtz530ld47p3yqfvvj4nft_m2g/T/ipykernel_78058/39038645.py:8: UserWarning: FigureCanvasAgg is non-interactive, and thus cannot be shown\n",
      "  fig.show()\n"
     ]
    },
    {
     "data": {
      "image/png": "[encoded data removed]",
      "text/plain": [
       "<Figure size 640x480 with 1 Axes>"
      ]
     },
     "metadata": {},
     "output_type": "display_data"
    }
   ],
   "source": [
    "fig,ax = plt.subplots()\n",
    "ax.plot(time_ma, num_hbonds_ma['all'], label='All', color='black')\n",
    "ax.plot(time_ma, num_hbonds_ma['true'], label='True', color='teal')\n",
    "ax.plot(time_ma, num_hbonds_ma['false'], label='False', color='forestgreen')\n",
    "ax.legend()\n",
    "ax.set_xlabel('Time, ns')\n",
    "ax.set_ylabel('Number of hydrogen bonds')\n",
    "fig.show()"
   ]
  },
  {
   "cell_type": "markdown",
   "metadata": {
    "id": "-LdP68nHwIat"
   },
   "source": [
    "Мы получили гораздо более читаемый и наглядный график! Глядя на него, ответьте на вопросы:\n",
    " * Свернулся ли у вас хигнолин\n",
    " * Если да, сколько водородных связей характерно для вашего свернутого состояния\n",
    " * Какое время вы можете зафиксировать как время принятия хигнолином стабильной структуры?\n",
    " * Если выбирать только одну метрику из представленных, какая лучше всего описывает процесс принятия правильной структуры?\n",
    " * Если выбирать только одну метрику из представленных, какая лучше всего описывает процесс принятия какой-либо стабильной структуры?"
   ]
  },
  {
   "cell_type": "markdown",
   "metadata": {
    "id": "Jclb0fYYwqR0"
   },
   "source": [
    "А также на вопросы на понимание. Рассмотрите несколько гипотетических случаев и опишите, что они значат с точки зрения сворачивания белка:\n",
    " * График стабилизировался, All очень низкий (1)\n",
    " * График стабилизировался, All высокий (6), True низкий (1)"
   ]
  }
 ],
 "metadata": {
  "colab": {
   "provenance": []
  },
  "kernelspec": {
   "display_name": "Python 3 (ipykernel)",
   "language": "python",
   "name": "python3"
  },
  "language_info": {
   "codemirror_mode": {
    "name": "ipython",
    "version": 3
   },
   "file_extension": ".py",
   "mimetype": "text/x-python",
   "name": "python",
   "nbconvert_exporter": "python",
   "pygments_lexer": "ipython3",
   "version": "3.11.10"
  },
  "widgets": {
   "application/vnd.jupyter.widget-state+json": {
    "01ec669bbf5f48da8e3528ba8aff25b8": {
     "model_module": "nglview-js-widgets",
     "model_module_version": "3.0.1",
     "model_name": "NGLModel",
     "state": {
      "_camera_orientation": [
       25.326106970318044,
       2.725556748966907,
       17.64093773512783,
       0,
       -2.1357505692281387,
       30.86395278806065,
       -1.702358904838999,
       0,
       -17.72201775398437,
       0.17549000827388456,
       25.415395492160766,
       0,
       -35.38801670074463,
       -4.562464416027069,
       -11.300246715545654,
       1
      ],
      "_camera_str": "orthographic",
      "_dom_classes": [],
      "_gui_theme": null,
      "_ibtn_fullscreen": "IPY_MODEL_a033df9e04d64eeb9558a4ce8e4b2588",
      "_igui": null,
      "_iplayer": "IPY_MODEL_eb1909a6071b48aaaa9c06043d5d17e2",
      "_model_module": "nglview-js-widgets",
      "_model_module_version": "3.0.1",
      "_model_name": "NGLModel",
      "_ngl_color_dict": {},
      "_ngl_coordinate_resource": {},
      "_ngl_full_stage_parameters": {
       "ambientColor": 14540253,
       "ambientIntensity": 0.2,
       "backgroundColor": "white",
       "cameraEyeSep": 0.3,
       "cameraFov": 40,
       "cameraType": "perspective",
       "clipDist": 10,
       "clipFar": 100,
       "clipNear": 0,
       "fogFar": 100,
       "fogNear": 50,
       "hoverTimeout": 0,
       "impostor": true,
       "lightColor": 14540253,
       "lightIntensity": 1,
       "mousePreset": "default",
       "panSpeed": 1,
       "quality": "medium",
       "rotateSpeed": 2,
       "sampleLevel": 0,
       "tooltip": true,
       "workerDefault": true,
       "zoomSpeed": 1.2
      },
      "_ngl_msg_archive": [
       {
        "args": [
         {
          "binary": false,
          "data": "REMARK AtomGroup chignolin\nATOM      1  N   GLY     1      35.320   9.560  15.460  1.00  0.00           N  \nATOM      2  H1  GLY     1      34.800   9.540  16.330  1.00  0.00           H  \nATOM      3  H2  GLY     1      36.130   8.960  15.550  1.00  0.00           H  \nATOM      4  H3  GLY     1      35.690  10.490  15.290  1.00  0.00           H  \nATOM      5  CA  GLY     1      34.420   9.150  14.370  1.00  0.00           C  \nATOM      6  HA1 GLY     1      34.900   9.450  13.450  1.00  0.00           H  \nATOM      7  HA2 GLY     1      33.510   9.740  14.450  1.00  0.00           H  \nATOM      8  C   GLY     1      34.200   7.640  14.350  1.00  0.00           C  \nATOM      9  O   GLY     1      34.980   6.950  15.000  1.00  0.00           O  \nATOM     10  N   TYR     2      33.190   7.110  13.650  1.00  0.00           N  \nATOM     11  H   TYR     2      32.510   7.820  13.410  1.00  0.00           H  \nATOM     12  CA  TYR     2      33.040   5.680  13.460  1.00  0.00           C  \nATOM     13  HA  TYR     2      34.030   5.210  13.420  1.00  0.00           H  \nATOM     14  CB  TYR     2      32.130   5.090  14.530  1.00  0.00           C  \nATOM     15  HB1 TYR     2      31.190   5.640  14.540  1.00  0.00           H  \nATOM     16  HB2 TYR     2      32.440   5.260  15.560  1.00  0.00           H  \nATOM     17  CG  TYR     2      31.850   3.610  14.390  1.00  0.00           C  \nATOM     18  CD1 TYR     2      32.860   2.710  14.730  1.00  0.00           C  \nATOM     19  HD1 TYR     2      33.810   3.010  15.160  1.00  0.00           H  \nATOM     20  CE1 TYR     2      32.660   1.360  14.410  1.00  0.00           C  \nATOM     21  HE1 TYR     2      33.340   0.580  14.710  1.00  0.00           H  \nATOM     22  CZ  TYR     2      31.480   0.910  13.780  1.00  0.00           C  \nATOM     23  OH  TYR     2      31.330  -0.400  13.420  1.00  0.00           O  \nATOM     24  HH  TYR     2      30.390  -0.560  13.310  1.00  0.00           H  \nATOM     25  CE2 TYR     2      30.490   1.880  13.530  1.00  0.00           C  \nATOM     26  HE2 TYR     2      29.660   1.580  12.900  1.00  0.00           H  \nATOM     27  CD2 TYR     2      30.670   3.250  13.730  1.00  0.00           C  \nATOM     28  HD2 TYR     2      30.010   4.020  13.350  1.00  0.00           H  \nATOM     29  C   TYR     2      32.620   5.410  12.020  1.00  0.00           C  \nATOM     30  O   TYR     2      31.800   6.150  11.490  1.00  0.00           O  \nATOM     31  N   ASP     3      33.230   4.360  11.470  1.00  0.00           N  \nATOM     32  H   ASP     3      33.840   3.790  12.040  1.00  0.00           H  \nATOM     33  CA  ASP     3      32.940   3.900  10.120  1.00  0.00           C  \nATOM     34  HA  ASP     3      32.170   4.560   9.720  1.00  0.00           H  \nATOM     35  CB  ASP     3      34.140   4.020   9.180  1.00  0.00           C  \nATOM     36  HB1 ASP     3      34.980   3.460   9.600  1.00  0.00           H  \nATOM     37  HB2 ASP     3      34.540   5.010   8.990  1.00  0.00           H  \nATOM     38  CG  ASP     3      33.720   3.660   7.770  1.00  0.00           C  \nATOM     39  OD1 ASP     3      33.990   2.530   7.300  1.00  0.00           O  \nATOM     40  OD2 ASP     3      33.070   4.490   7.110  1.00  0.00           O  \nATOM     41  C   ASP     3      32.310   2.520  10.160  1.00  0.00           C  \nATOM     42  O   ASP     3      32.930   1.560  10.620  1.00  0.00           O  \nATOM     43  N   PRO     4      31.150   2.300   9.530  1.00  0.00           N  \nATOM     44  CD  PRO     4      30.320   3.210   8.770  1.00  0.00           C  \nATOM     45  HD1 PRO     4      30.830   3.870   8.060  1.00  0.00           H  \nATOM     46  HD2 PRO     4      29.740   3.760   9.510  1.00  0.00           H  \nATOM     47  CG  PRO     4      29.320   2.400   7.950  1.00  0.00           C  \nATOM     48  HG1 PRO     4      29.720   2.080   6.990  1.00  0.00           H  \nATOM     49  HG2 PRO     4      28.400   2.930   7.700  1.00  0.00           H  \nATOM     50  CB  PRO     4      29.050   1.290   8.950  1.00  0.00           C  \nATOM     51  HB1 PRO     4      28.620   0.400   8.470  1.00  0.00           H  \nATOM     52  HB2 PRO     4      28.390   1.600   9.760  1.00  0.00           H  \nATOM     53  CA  PRO     4      30.450   1.030   9.490  1.00  0.00           C  \nATOM     54  HA  PRO     4      30.420   0.680  10.520  1.00  0.00           H  \nATOM     55  C   PRO     4      31.180  -0.030   8.670  1.00  0.00           C  \nATOM     56  O   PRO     4      30.620  -1.130   8.630  1.00  0.00           O  \nATOM     57  N   GLU     5      32.340   0.200   8.060  1.00  0.00           N  \nATOM     58  H   GLU     5      32.680   1.150   8.000  1.00  0.00           H  \nATOM     59  CA  GLU     5      33.200  -0.870   7.590  1.00  0.00           C  \nATOM     60  HA  GLU     5      32.730  -1.840   7.770  1.00  0.00           H  \nATOM     61  CB  GLU     5      33.250  -0.870   6.060  1.00  0.00           C  \nATOM     62  HB1 GLU     5      33.880  -1.660   5.650  1.00  0.00           H  \nATOM     63  HB2 GLU     5      33.650   0.080   5.710  1.00  0.00           H  \nATOM     64  CG  GLU     5      31.870  -0.830   5.420  1.00  0.00           C  \nATOM     65  HG1 GLU     5      31.370   0.100   5.710  1.00  0.00           H  \nATOM     66  HG2 GLU     5      31.360  -1.680   5.890  1.00  0.00           H  \nATOM     67  CD  GLU     5      32.060  -1.120   3.940  1.00  0.00           C  \nATOM     68  OE1 GLU     5      31.810  -0.180   3.160  1.00  0.00           O  \nATOM     69  OE2 GLU     5      32.430  -2.270   3.590  1.00  0.00           O  \nATOM     70  C   GLU     5      34.590  -0.870   8.200  1.00  0.00           C  \nATOM     71  O   GLU     5      35.170  -1.940   8.400  1.00  0.00           O  \nATOM     72  N   THR     6      35.170   0.290   8.490  1.00  0.00           N  \nATOM     73  H   THR     6      34.650   1.130   8.270  1.00  0.00           H  \nATOM     74  CA  THR     6      36.570   0.430   8.840  1.00  0.00           C  \nATOM     75  HA  THR     6      37.000  -0.560   8.690  1.00  0.00           H  \nATOM     76  CB  THR     6      37.360   1.320   7.890  1.00  0.00           C  \nATOM     77  HB  THR     6      38.390   1.390   8.230  1.00  0.00           H  \nATOM     78  CG2 THR     6      37.300   0.880   6.430  1.00  0.00           C  \nATOM     79 1HG2 THR     6      36.280   0.540   6.200  1.00  0.00           1  \nATOM     80 2HG2 THR     6      37.520   1.760   5.830  1.00  0.00           2  \nATOM     81 3HG2 THR     6      38.000   0.050   6.380  1.00  0.00           3  \nATOM     82  OG1 THR     6      36.750   2.590   7.860  1.00  0.00           O  \nATOM     83  HG1 THR     6      35.870   2.410   7.530  1.00  0.00           H  \nATOM     84  C   THR     6      36.810   0.820  10.290  1.00  0.00           C  \nATOM     85  O   THR     6      37.960   0.930  10.710  1.00  0.00           O  \nATOM     86  N   GLY     7      35.770   0.860  11.130  1.00  0.00           N  \nATOM     87  H   GLY     7      34.890   0.800  10.630  1.00  0.00           H  \nATOM     88  CA  GLY     7      35.940   0.870  12.560  1.00  0.00           C  \nATOM     89  HA1 GLY     7      36.730   0.220  12.940  1.00  0.00           H  \nATOM     90  HA2 GLY     7      35.130   0.370  13.100  1.00  0.00           H  \nATOM     91  C   GLY     7      36.180   2.260  13.140  1.00  0.00           C  \nATOM     92  O   GLY     7      35.560   3.240  12.740  1.00  0.00           O  \nATOM     93  N   THR     8      36.960   2.290  14.220  1.00  0.00           N  \nATOM     94  H   THR     8      37.360   1.460  14.630  1.00  0.00           H  \nATOM     95  CA  THR     8      37.280   3.470  15.010  1.00  0.00           C  \nATOM     96  HA  THR     8      36.430   4.130  15.130  1.00  0.00           H  \nATOM     97  CB  THR     8      37.900   3.060  16.340  1.00  0.00           C  \nATOM     98  HB  THR     8      38.270   3.950  16.850  1.00  0.00           H  \nATOM     99  CG2 THR     8      37.030   2.240  17.300  1.00  0.00           C  \nATOM    100 1HG2 THR     8      36.970   1.190  17.000  1.00  0.00           1  \nATOM    101 2HG2 THR     8      37.430   2.290  18.310  1.00  0.00           2  \nATOM    102 3HG2 THR     8      36.020   2.660  17.360  1.00  0.00           3  \nATOM    103  OG1 THR     8      39.100   2.350  16.130  1.00  0.00           O  \nATOM    104  HG1 THR     8      38.850   1.430  16.000  1.00  0.00           H  \nATOM    105  C   THR     8      38.270   4.330  14.230  1.00  0.00           C  \nATOM    106  O   THR     8      39.140   3.810  13.530  1.00  0.00           O  \nATOM    107  N   TRP     9      38.120   5.650  14.350  1.00  0.00           N  \nATOM    108  H   TRP     9      37.290   6.040  14.770  1.00  0.00           H  \nATOM    109  CA  TRP     9      38.980   6.650  13.730  1.00  0.00           C  \nATOM    110  HA  TRP     9      40.010   6.300  13.790  1.00  0.00           H  \nATOM    111  CB  TRP     9      38.580   6.800  12.270  1.00  0.00           C  \nATOM    112  HB1 TRP     9      38.730   5.850  11.760  1.00  0.00           H  \nATOM    113  HB2 TRP     9      39.240   7.440  11.690  1.00  0.00           H  \nATOM    114  CG  TRP     9      37.210   7.230  11.850  1.00  0.00           C  \nATOM    115  CD1 TRP     9      36.210   6.480  11.320  1.00  0.00           C  \nATOM    116  HD1 TRP     9      36.340   5.420  11.150  1.00  0.00           H  \nATOM    117  NE1 TRP     9      35.100   7.210  10.950  1.00  0.00           N  \nATOM    118  HE1 TRP     9      34.390   6.920  10.280  1.00  0.00           H  \nATOM    119  CE2 TRP     9      35.370   8.550  11.120  1.00  0.00           C  \nATOM    120  CZ2 TRP     9      34.640   9.720  10.880  1.00  0.00           C  \nATOM    121  HZ2 TRP     9      33.610   9.710  10.550  1.00  0.00           H  \nATOM    122  CH2 TRP     9      35.250  10.960  11.080  1.00  0.00           C  \nATOM    123  HH2 TRP     9      34.700  11.880  10.910  1.00  0.00           H  \nATOM    124  CZ3 TRP     9      36.500  10.970  11.700  1.00  0.00           C  \nATOM    125  HZ3 TRP     9      36.930  11.900  12.040  1.00  0.00           H  \nATOM    126  CE3 TRP     9      37.250   9.820  11.960  1.00  0.00           C  \nATOM    127  HE3 TRP     9      38.300   9.820  12.250  1.00  0.00           H  \nATOM    128  CD2 TRP     9      36.640   8.570  11.760  1.00  0.00           C  \nATOM    129  C   TRP     9      38.790   7.980  14.440  1.00  0.00           C  \nATOM    130  O   TRP     9      37.770   8.250  15.080  1.00  0.00           O  \nATOM    131  N   GLY    10      39.740   8.890  14.210  1.00  0.00           N  \nATOM    132  H   GLY    10      40.530   8.600  13.640  1.00  0.00           H  \nATOM    133  CA  GLY    10      39.690  10.280  14.580  1.00  0.00           C  \nATOM    134  HA1 GLY    10      38.690  10.690  14.440  1.00  0.00           H  \nATOM    135  HA2 GLY    10      40.300  10.850  13.880  1.00  0.00           H  \nATOM    136  C   GLY    10      40.120  10.660  15.990  1.00  0.00           C  \nATOM    137  OC1 GLY    10      41.340  10.850  16.210  1.00  0.00           O  \nATOM    138  OC2 GLY    10      39.270  10.670  16.900  1.00  0.00           O  \nTER\n",
          "type": "blob"
         }
        ],
        "kwargs": {
         "defaultRepresentation": true,
         "ext": "pdb"
        },
        "methodName": "loadFile",
        "reconstruc_color_scheme": false,
        "target": "Stage",
        "type": "call_method"
       }
      ],
      "_ngl_original_stage_parameters": {
       "ambientColor": 14540253,
       "ambientIntensity": 0.2,
       "backgroundColor": "white",
       "cameraEyeSep": 0.3,
       "cameraFov": 40,
       "cameraType": "perspective",
       "clipDist": 10,
       "clipFar": 100,
       "clipNear": 0,
       "fogFar": 100,
       "fogNear": 50,
       "hoverTimeout": 0,
       "impostor": true,
       "lightColor": 14540253,
       "lightIntensity": 1,
       "mousePreset": "default",
       "panSpeed": 1,
       "quality": "medium",
       "rotateSpeed": 2,
       "sampleLevel": 0,
       "tooltip": true,
       "workerDefault": true,
       "zoomSpeed": 1.2
      },
      "_ngl_repr_dict": {
       "0": {
        "0": {
         "params": {
          "aspectRatio": 5,
          "assembly": "default",
          "capped": true,
          "clipCenter": {
           "x": 0,
           "y": 0,
           "z": 0
          },
          "clipNear": 0,
          "clipRadius": 0,
          "colorMode": "hcl",
          "colorReverse": true,
          "colorScale": "spectral",
          "colorScheme": "residueindex",
          "colorValue": 9474192,
          "defaultAssembly": "",
          "depthWrite": true,
          "diffuse": 16777215,
          "diffuseInterior": false,
          "disablePicking": false,
          "flatShaded": false,
          "interiorColor": 2236962,
          "interiorDarkening": 0,
          "lazy": false,
          "matrix": {
           "elements": [
            1,
            0,
            0,
            0,
            0,
            1,
            0,
            0,
            0,
            0,
            1,
            0,
            0,
            0,
            0,
            1
           ]
          },
          "metalness": 0,
          "opacity": 1,
          "quality": "high",
          "radialSegments": 20,
          "radiusData": {},
          "radiusScale": 0.7,
          "radiusSize": 1,
          "radiusType": "sstruc",
          "roughness": 0.4,
          "sele": "",
          "side": "double",
          "smoothSheet": false,
          "subdiv": 6,
          "tension": null,
          "useInteriorColor": true,
          "visible": true,
          "wireframe": false
         },
         "type": "cartoon"
        },
        "1": {
         "params": {
          "aspectRatio": 1,
          "assembly": "default",
          "bondScale": 0.4,
          "clipCenter": {
           "x": 0,
           "y": 0,
           "z": 0
          },
          "clipNear": 0,
          "clipRadius": 0,
          "colorMode": "hcl",
          "colorReverse": true,
          "colorScale": "spectral",
          "colorScheme": "residueindex",
          "colorValue": 9474192,
          "cylinderOnly": false,
          "defaultAssembly": "",
          "depthWrite": true,
          "diffuse": 16777215,
          "diffuseInterior": false,
          "disableImpostor": false,
          "disablePicking": false,
          "flatShaded": false,
          "interiorColor": 2236962,
          "interiorDarkening": 0,
          "lazy": false,
          "lineOnly": false,
          "linewidth": 2,
          "matrix": {
           "elements": [
            1,
            0,
            0,
            0,
            0,
            1,
            0,
            0,
            0,
            0,
            1,
            0,
            0,
            0,
            0,
            1
           ]
          },
          "metalness": 0,
          "opacity": 1,
          "openEnded": true,
          "quality": "high",
          "radialSegments": 20,
          "radiusData": {},
          "radiusScale": 1,
          "radiusSize": 0.3,
          "radiusType": "size",
          "roughness": 0.4,
          "sele": "",
          "side": "double",
          "sphereDetail": 2,
          "useInteriorColor": true,
          "visible": true,
          "wireframe": false
         },
         "type": "base"
        },
        "2": {
         "params": {
          "aspectRatio": 1.5,
          "assembly": "default",
          "bondScale": 0.3,
          "bondSpacing": 0.75,
          "clipCenter": {
           "x": 0,
           "y": 0,
           "z": 0
          },
          "clipNear": 0,
          "clipRadius": 0,
          "colorMode": "hcl",
          "colorReverse": false,
          "colorScale": "",
          "colorScheme": "element",
          "colorValue": 9474192,
          "cylinderOnly": false,
          "defaultAssembly": "",
          "depthWrite": true,
          "diffuse": 16777215,
          "diffuseInterior": false,
          "disableImpostor": false,
          "disablePicking": false,
          "flatShaded": false,
          "interiorColor": 2236962,
          "interiorDarkening": 0,
          "lazy": false,
          "lineOnly": false,
          "linewidth": 2,
          "matrix": {
           "elements": [
            1,
            0,
            0,
            0,
            0,
            1,
            0,
            0,
            0,
            0,
            1,
            0,
            0,
            0,
            0,
            1
           ]
          },
          "metalness": 0,
          "multipleBond": "off",
          "opacity": 1,
          "openEnded": true,
          "quality": "high",
          "radialSegments": 20,
          "radiusData": {},
          "radiusScale": 2,
          "radiusSize": 0.15,
          "radiusType": "size",
          "roughness": 0.4,
          "sele": "ligand",
          "side": "double",
          "sphereDetail": 2,
          "useInteriorColor": true,
          "visible": true,
          "wireframe": false
         },
         "type": "ball+stick"
        }
       },
       "1": {
        "0": {
         "params": {
          "aspectRatio": 5,
          "assembly": "default",
          "capped": true,
          "clipCenter": {
           "x": 0,
           "y": 0,
           "z": 0
          },
          "clipNear": 0,
          "clipRadius": 0,
          "colorMode": "hcl",
          "colorReverse": true,
          "colorScale": "spectral",
          "colorScheme": "residueindex",
          "colorValue": 9474192,
          "defaultAssembly": "",
          "depthWrite": true,
          "diffuse": 16777215,
          "diffuseInterior": false,
          "disablePicking": false,
          "flatShaded": false,
          "interiorColor": 2236962,
          "interiorDarkening": 0,
          "lazy": false,
          "matrix": {
           "elements": [
            1,
            0,
            0,
            0,
            0,
            1,
            0,
            0,
            0,
            0,
            1,
            0,
            0,
            0,
            0,
            1
           ]
          },
          "metalness": 0,
          "opacity": 1,
          "quality": "high",
          "radialSegments": 20,
          "radiusData": {},
          "radiusScale": 0.7,
          "radiusSize": 1,
          "radiusType": "sstruc",
          "roughness": 0.4,
          "sele": "",
          "side": "double",
          "smoothSheet": false,
          "subdiv": 6,
          "tension": null,
          "useInteriorColor": true,
          "visible": true,
          "wireframe": false
         },
         "type": "cartoon"
        },
        "1": {
         "params": {
          "aspectRatio": 1,
          "assembly": "default",
          "bondScale": 0.4,
          "clipCenter": {
           "x": 0,
           "y": 0,
           "z": 0
          },
          "clipNear": 0,
          "clipRadius": 0,
          "colorMode": "hcl",
          "colorReverse": true,
          "colorScale": "spectral",
          "colorScheme": "residueindex",
          "colorValue": 9474192,
          "cylinderOnly": false,
          "defaultAssembly": "",
          "depthWrite": true,
          "diffuse": 16777215,
          "diffuseInterior": false,
          "disableImpostor": false,
          "disablePicking": false,
          "flatShaded": false,
          "interiorColor": 2236962,
          "interiorDarkening": 0,
          "lazy": false,
          "lineOnly": false,
          "linewidth": 2,
          "matrix": {
           "elements": [
            1,
            0,
            0,
            0,
            0,
            1,
            0,
            0,
            0,
            0,
            1,
            0,
            0,
            0,
            0,
            1
           ]
          },
          "metalness": 0,
          "opacity": 1,
          "openEnded": true,
          "quality": "high",
          "radialSegments": 20,
          "radiusData": {},
          "radiusScale": 1,
          "radiusSize": 0.3,
          "radiusType": "size",
          "roughness": 0.4,
          "sele": "",
          "side": "double",
          "sphereDetail": 2,
          "useInteriorColor": true,
          "visible": true,
          "wireframe": false
         },
         "type": "base"
        },
        "2": {
         "params": {
          "aspectRatio": 1.5,
          "assembly": "default",
          "bondScale": 0.3,
          "bondSpacing": 0.75,
          "clipCenter": {
           "x": 0,
           "y": 0,
           "z": 0
          },
          "clipNear": 0,
          "clipRadius": 0,
          "colorMode": "hcl",
          "colorReverse": false,
          "colorScale": "",
          "colorScheme": "element",
          "colorValue": 9474192,
          "cylinderOnly": false,
          "defaultAssembly": "",
          "depthWrite": true,
          "diffuse": 16777215,
          "diffuseInterior": false,
          "disableImpostor": false,
          "disablePicking": false,
          "flatShaded": false,
          "interiorColor": 2236962,
          "interiorDarkening": 0,
          "lazy": false,
          "lineOnly": false,
          "linewidth": 2,
          "matrix": {
           "elements": [
            1,
            0,
            0,
            0,
            0,
            1,
            0,
            0,
            0,
            0,
            1,
            0,
            0,
            0,
            0,
            1
           ]
          },
          "metalness": 0,
          "multipleBond": "off",
          "opacity": 1,
          "openEnded": true,
          "quality": "high",
          "radialSegments": 20,
          "radiusData": {},
          "radiusScale": 2,
          "radiusSize": 0.15,
          "radiusType": "size",
          "roughness": 0.4,
          "sele": "ligand",
          "side": "double",
          "sphereDetail": 2,
          "useInteriorColor": true,
          "visible": true,
          "wireframe": false
         },
         "type": "ball+stick"
        }
       }
      },
      "_ngl_serialize": false,
      "_ngl_version": "2.0.0-dev.36",
      "_ngl_view_id": [
       "15E15AA6-F08A-4682-AA7E-AFF6A3381E1F"
      ],
      "_player_dict": {},
      "_scene_position": {},
      "_scene_rotation": {},
      "_synced_model_ids": [],
      "_synced_repr_model_ids": [],
      "_view_count": null,
      "_view_height": "",
      "_view_module": "nglview-js-widgets",
      "_view_module_version": "3.0.1",
      "_view_name": "NGLView",
      "_view_width": "",
      "background": "white",
      "frame": 0,
      "gui_style": null,
      "layout": "IPY_MODEL_7b56329863ca41e39551315452c418a7",
      "max_frame": 0,
      "n_components": 2,
      "picked": {}
     }
    },
    "072140de5b3a48a4a108123f40156e90": {
     "model_module": "@jupyter-widgets/controls",
     "model_module_version": "1.5.0",
     "model_name": "PlayModel",
     "state": {
      "_dom_classes": [],
      "_model_module": "@jupyter-widgets/controls",
      "_model_module_version": "1.5.0",
      "_model_name": "PlayModel",
      "_playing": false,
      "_repeat": false,
      "_view_count": null,
      "_view_module": "@jupyter-widgets/controls",
      "_view_module_version": "1.5.0",
      "_view_name": "PlayView",
      "description": "",
      "description_tooltip": null,
      "disabled": false,
      "interval": 100,
      "layout": "IPY_MODEL_cbf2c1f923724d5f99391a3c681b4704",
      "max": 0,
      "min": 0,
      "show_repeat": true,
      "step": 1,
      "style": "IPY_MODEL_a5a70f696d3d4b31af09b8bab7270f02",
      "value": 0
     }
    },
    "13685dce62a14f2ea5af49e0ae7a89fd": {
     "model_module": "@jupyter-widgets/controls",
     "model_module_version": "1.5.0",
     "model_name": "SliderStyleModel",
     "state": {
      "_model_module": "@jupyter-widgets/controls",
      "_model_module_version": "1.5.0",
      "_model_name": "SliderStyleModel",
      "_view_count": null,
      "_view_module": "@jupyter-widgets/base",
      "_view_module_version": "1.2.0",
      "_view_name": "StyleView",
      "description_width": "",
      "handle_color": null
     }
    },
    "17e02f6e3b6345079b0f3ca69fc80e38": {
     "model_module": "@jupyter-widgets/base",
     "model_module_version": "1.2.0",
     "model_name": "LayoutModel",
     "state": {
      "_model_module": "@jupyter-widgets/base",
      "_model_module_version": "1.2.0",
      "_model_name": "LayoutModel",
      "_view_count": null,
      "_view_module": "@jupyter-widgets/base",
      "_view_module_version": "1.2.0",
      "_view_name": "LayoutView",
      "align_content": null,
      "align_items": null,
      "align_self": null,
      "border": null,
      "bottom": null,
      "display": null,
      "flex": null,
      "flex_flow": null,
      "grid_area": null,
      "grid_auto_columns": null,
      "grid_auto_flow": null,
      "grid_auto_rows": null,
      "grid_column": null,
      "grid_gap": null,
      "grid_row": null,
      "grid_template_areas": null,
      "grid_template_columns": null,
      "grid_template_rows": null,
      "height": null,
      "justify_content": null,
      "justify_items": null,
      "left": null,
      "margin": null,
      "max_height": null,
      "max_width": null,
      "min_height": null,
      "min_width": null,
      "object_fit": null,
      "object_position": null,
      "order": null,
      "overflow": null,
      "overflow_x": null,
      "overflow_y": null,
      "padding": null,
      "right": null,
      "top": null,
      "visibility": null,
      "width": null
     }
    },
    "2914bd15fa9b49919d9e70ccf9042d32": {
     "model_module": "nglview-js-widgets",
     "model_module_version": "3.0.1",
     "model_name": "NGLModel",
     "state": {
      "_camera_orientation": [
       63.30394330681335,
       0,
       0,
       0,
       0,
       63.30394330681335,
       0,
       0,
       0,
       0,
       63.30394330681335,
       0,
       -24.734999179840088,
       -22.804999351501465,
       -23.989999771118164,
       1
      ],
      "_camera_str": "orthographic",
      "_dom_classes": [],
      "_gui_theme": null,
      "_ibtn_fullscreen": "IPY_MODEL_4799d1f6b42f4271a84971c0a9ca4d15",
      "_igui": null,
      "_iplayer": "IPY_MODEL_b67fd4809be943188ec5109c38579ed0",
      "_model_module": "nglview-js-widgets",
      "_model_module_version": "3.0.1",
      "_model_name": "NGLModel",
      "_ngl_color_dict": {},
      "_ngl_coordinate_resource": {},
      "_ngl_full_stage_parameters": {
       "ambientColor": 14540253,
       "ambientIntensity": 0.2,
       "backgroundColor": "white",
       "cameraEyeSep": 0.3,
       "cameraFov": 40,
       "cameraType": "perspective",
       "clipDist": 10,
       "clipFar": 100,
       "clipNear": 0,
       "fogFar": 100,
       "fogNear": 50,
       "hoverTimeout": 0,
       "impostor": true,
       "lightColor": 14540253,
       "lightIntensity": 1,
       "mousePreset": "default",
       "panSpeed": 1,
       "quality": "medium",
       "rotateSpeed": 2,
       "sampleLevel": 0,
       "tooltip": true,
       "workerDefault": true,
       "zoomSpeed": 1.2
      },
      "_ngl_msg_archive": [
       {
        "args": [
         {
          "binary": false,
          "data": "REMARK   1 CREATED WITH MDTraj 1.9.7, 2022-03-22\nCRYST1   47.418   47.418   47.418  90.00  90.00  90.00 P 1           1 \nMODEL        0\nATOM      1  N   GLY A   1       9.400  19.890  24.460  1.00  0.00           N  \nATOM      2  H   GLY A   1       9.860  19.060  24.800  1.00  0.00           H  \nATOM      3  H2  GLY A   1       9.620  20.500  25.230  1.00  0.00           H  \nATOM      4  H3  GLY A   1       8.400  19.770  24.400  1.00  0.00           H  \nATOM      5  CA  GLY A   1       9.960  20.270  23.150  1.00  0.00           C  \nATOM      6  HA3 GLY A   1       9.210  20.990  22.800  1.00  0.00           H  \nATOM      7  HA2 GLY A   1       9.900  19.450  22.430  1.00  0.00           H  \nATOM      8  C   GLY A   1      11.310  20.970  23.150  1.00  0.00           C  \nATOM      9  O   GLY A   1      12.280  20.310  22.780  1.00  0.00           O  \nATOM     10  N   TYR A   2      11.240  22.280  23.410  1.00  0.00           N  \nATOM     11  H   TYR A   2      10.370  22.760  23.590  1.00  0.00           H  \nATOM     12  CA  TYR A   2      12.410  23.120  23.280  1.00  0.00           C  \nATOM     13  HA  TYR A   2      12.870  22.970  22.300  1.00  0.00           H  \nATOM     14  CB  TYR A   2      12.070  24.590  23.480  1.00  0.00           C  \nATOM     15  HB3 TYR A   2      13.010  25.150  23.430  1.00  0.00           H  \nATOM     16  HB2 TYR A   2      11.670  24.700  24.490  1.00  0.00           H  \nATOM     17  CG  TYR A   2      11.150  25.240  22.470  1.00  0.00           C  \nATOM     18  CD1 TYR A   2      11.710  25.370  21.200  1.00  0.00           C  \nATOM     19  HD1 TYR A   2      12.720  25.080  20.970  1.00  0.00           H  \nATOM     20  CE1 TYR A   2      10.920  25.990  20.220  1.00  0.00           C  \nATOM     21  HE1 TYR A   2      11.330  26.120  19.230  1.00  0.00           H  \nATOM     22  CZ  TYR A   2       9.570  26.380  20.400  1.00  0.00           C  \nATOM     23  OH  TYR A   2       8.850  27.010  19.430  1.00  0.00           O  \nATOM     24  HH  TYR A   2       8.070  27.350  19.880  1.00  0.00           H  \nATOM     25  CE2 TYR A   2       9.070  26.340  21.720  1.00  0.00           C  \nATOM     26  HE2 TYR A   2       8.050  26.560  22.000  1.00  0.00           H  \nATOM     27  CD2 TYR A   2       9.840  25.680  22.690  1.00  0.00           C  \nATOM     28  HD2 TYR A   2       9.330  25.520  23.630  1.00  0.00           H  \nATOM     29  C   TYR A   2      13.430  22.680  24.320  1.00  0.00           C  \nATOM     30  O   TYR A   2      13.020  22.330  25.430  1.00  0.00           O  \nATOM     31  N   ASP A   3      14.740  22.690  24.070  1.00  0.00           N  \nATOM     32  H   ASP A   3      15.060  23.220  23.270  1.00  0.00           H  \nATOM     33  CA  ASP A   3      15.760  22.360  25.040  1.00  0.00           C  \nATOM     34  HA  ASP A   3      15.320  22.530  26.030  1.00  0.00           H  \nATOM     35  CB  ASP A   3      16.040  20.880  24.810  1.00  0.00           C  \nATOM     36  HB3 ASP A   3      16.350  20.770  23.770  1.00  0.00           H  \nATOM     37  HB2 ASP A   3      15.110  20.310  24.870  1.00  0.00           H  \nATOM     38  CG  ASP A   3      17.010  20.350  25.850  1.00  0.00           C  \nATOM     39  OD1 ASP A   3      16.620  20.520  27.030  1.00  0.00           O  \nATOM     40  OD2 ASP A   3      17.920  19.510  25.640  1.00  0.00           O  \nATOM     41  C   ASP A   3      17.040  23.160  24.830  1.00  0.00           C  \nATOM     42  O   ASP A   3      17.440  23.310  23.680  1.00  0.00           O  \nATOM     43  N   PRO A   4      17.660  23.790  25.830  1.00  0.00           N  \nATOM     44  CD  PRO A   4      17.290  23.950  27.230  1.00  0.00           C  \nATOM     45  HD3 PRO A   4      17.020  23.030  27.750  1.00  0.00           H  \nATOM     46  HD2 PRO A   4      16.420  24.600  27.310  1.00  0.00           H  \nATOM     47  CG  PRO A   4      18.460  24.650  27.910  1.00  0.00           C  \nATOM     48  HG3 PRO A   4      19.110  23.790  28.050  1.00  0.00           H  \nATOM     49  HG2 PRO A   4      18.110  25.250  28.750  1.00  0.00           H  \nATOM     50  CB  PRO A   4      18.990  25.560  26.800  1.00  0.00           C  \nATOM     51  HB3 PRO A   4      20.060  25.680  26.990  1.00  0.00           H  \nATOM     52  HB2 PRO A   4      18.440  26.490  26.660  1.00  0.00           H  \nATOM     53  CA  PRO A   4      18.820  24.630  25.610  1.00  0.00           C  \nATOM     54  HA  PRO A   4      18.620  25.370  24.830  1.00  0.00           H  \nATOM     55  C   PRO A   4      20.080  23.840  25.300  1.00  0.00           C  \nATOM     56  O   PRO A   4      20.400  22.790  25.850  1.00  0.00           O  \nATOM     57  N   GLU A   5      21.000  24.500  24.590  1.00  0.00           N  \nATOM     58  H   GLU A   5      20.920  25.480  24.380  1.00  0.00           H  \nATOM     59  CA  GLU A   5      22.250  23.920  24.130  1.00  0.00           C  \nATOM     60  HA  GLU A   5      22.600  23.210  24.880  1.00  0.00           H  \nATOM     61  CB  GLU A   5      21.980  23.160  22.840  1.00  0.00           C  \nATOM     62  HB3 GLU A   5      21.700  23.770  21.980  1.00  0.00           H  \nATOM     63  HB2 GLU A   5      21.060  22.590  22.950  1.00  0.00           H  \nATOM     64  CG  GLU A   5      23.080  22.170  22.460  1.00  0.00           C  \nATOM     65  HG3 GLU A   5      23.480  21.630  23.320  1.00  0.00           H  \nATOM     66  HG2 GLU A   5      23.870  22.810  22.070  1.00  0.00           H  \nATOM     67  CD  GLU A   5      22.530  21.170  21.450  1.00  0.00           C  \nATOM     68  OE1 GLU A   5      22.050  21.690  20.420  1.00  0.00           O  \nATOM     69  OE2 GLU A   5      22.800  19.950  21.480  1.00  0.00           O  \nATOM     70  C   GLU A   5      23.450  24.860  23.990  1.00  0.00           C  \nATOM     71  O   GLU A   5      23.360  25.870  23.290  1.00  0.00           O  \nATOM     72  N   THR A   6      24.550  24.530  24.660  1.00  0.00           N  \nATOM     73  H   THR A   6      24.460  23.750  25.300  1.00  0.00           H  \nATOM     74  CA  THR A   6      25.610  25.500  24.810  1.00  0.00           C  \nATOM     75  HA  THR A   6      25.640  26.170  23.940  1.00  0.00           H  \nATOM     76  CB  THR A   6      25.460  26.340  26.070  1.00  0.00           C  \nATOM     77  HB  THR A   6      25.670  25.780  26.980  1.00  0.00           H  \nATOM     78  CG2 THR A   6      26.370  27.560  26.130  1.00  0.00           C  \nATOM     79 HG21 THR A   6      25.940  28.300  26.810  1.00  0.00           H  \nATOM     80 HG22 THR A   6      27.320  27.350  26.630  1.00  0.00           H  \nATOM     81 HG23 THR A   6      26.570  27.990  25.150  1.00  0.00           H  \nATOM     82  OG1 THR A   6      24.160  26.850  26.300  1.00  0.00           O  \nATOM     83  HG1 THR A   6      23.880  26.790  27.210  1.00  0.00           H  \nATOM     84  C   THR A   6      26.990  24.870  24.750  1.00  0.00           C  \nATOM     85  O   THR A   6      27.580  24.540  25.780  1.00  0.00           O  \nATOM     86  N   GLY A   7      27.460  24.420  23.580  1.00  0.00           N  \nATOM     87  H   GLY A   7      26.900  24.590  22.750  1.00  0.00           H  \nATOM     88  CA  GLY A   7      28.740  23.740  23.450  1.00  0.00           C  \nATOM     89  HA3 GLY A   7      28.690  23.130  22.550  1.00  0.00           H  \nATOM     90  HA2 GLY A   7      28.930  23.120  24.330  1.00  0.00           H  \nATOM     91  C   GLY A   7      29.970  24.620  23.180  1.00  0.00           C  \nATOM     92  O   GLY A   7      29.910  25.530  22.360  1.00  0.00           O  \nATOM     93  N   THR A   8      31.030  24.440  23.970  1.00  0.00           N  \nATOM     94  H   THR A   8      31.040  23.620  24.570  1.00  0.00           H  \nATOM     95  CA  THR A   8      32.240  25.260  23.870  1.00  0.00           C  \nATOM     96  HA  THR A   8      32.170  25.850  22.950  1.00  0.00           H  \nATOM     97  CB  THR A   8      32.430  26.230  25.040  1.00  0.00           C  \nATOM     98  HB  THR A   8      32.500  25.610  25.930  1.00  0.00           H  \nATOM     99  CG2 THR A   8      33.720  27.060  25.020  1.00  0.00           C  \nATOM    100 HG21 THR A   8      33.880  27.540  24.060  1.00  0.00           H  \nATOM    101 HG22 THR A   8      33.600  27.810  25.810  1.00  0.00           H  \nATOM    102 HG23 THR A   8      34.580  26.410  25.220  1.00  0.00           H  \nATOM    103  OG1 THR A   8      31.450  27.250  25.030  1.00  0.00           O  \nATOM    104  HG1 THR A   8      30.780  27.200  25.720  1.00  0.00           H  \nATOM    105  C   THR A   8      33.480  24.390  23.780  1.00  0.00           C  \nATOM    106  O   THR A   8      33.500  23.380  24.490  1.00  0.00           O  \nATOM    107  N   TRP A   9      34.540  24.730  23.020  1.00  0.00           N  \nATOM    108  H   TRP A   9      34.490  25.500  22.360  1.00  0.00           H  \nATOM    109  CA  TRP A   9      35.760  23.950  22.990  1.00  0.00           C  \nATOM    110  HA  TRP A   9      35.840  23.420  23.950  1.00  0.00           H  \nATOM    111  CB  TRP A   9      35.680  22.940  21.840  1.00  0.00           C  \nATOM    112  HB3 TRP A   9      36.690  22.540  21.730  1.00  0.00           H  \nATOM    113  HB2 TRP A   9      35.400  23.480  20.930  1.00  0.00           H  \nATOM    114  CG  TRP A   9      34.730  21.790  21.930  1.00  0.00           C  \nATOM    115  CD1 TRP A   9      33.640  21.650  21.140  1.00  0.00           C  \nATOM    116  HD1 TRP A   9      33.310  22.400  20.440  1.00  0.00           H  \nATOM    117  NE1 TRP A   9      32.950  20.480  21.440  1.00  0.00           N  \nATOM    118  HE1 TRP A   9      32.030  20.260  21.100  1.00  0.00           H  \nATOM    119  CE2 TRP A   9      33.610  19.790  22.440  1.00  0.00           C  \nATOM    120  CZ2 TRP A   9      33.310  18.590  23.110  1.00  0.00           C  \nATOM    121  HZ2 TRP A   9      32.430  18.030  22.830  1.00  0.00           H  \nATOM    122  CH2 TRP A   9      34.120  18.180  24.170  1.00  0.00           C  \nATOM    123  HH2 TRP A   9      33.840  17.310  24.740  1.00  0.00           H  \nATOM    124  CZ3 TRP A   9      35.240  18.950  24.530  1.00  0.00           C  \nATOM    125  HZ3 TRP A   9      35.840  18.610  25.360  1.00  0.00           H  \nATOM    126  CE3 TRP A   9      35.510  20.150  23.860  1.00  0.00           C  \nATOM    127  HE3 TRP A   9      36.370  20.710  24.180  1.00  0.00           H  \nATOM    128  CD2 TRP A   9      34.710  20.610  22.800  1.00  0.00           C  \nATOM    129  C   TRP A   9      37.030  24.820  22.950  1.00  0.00           C  \nATOM    130  O   TRP A   9      37.000  25.870  22.310  1.00  0.00           O  \nATOM    131  N   GLY A  10      38.120  24.400  23.600  1.00  0.00           N  \nATOM    132  H   GLY A  10      38.040  23.580  24.180  1.00  0.00           H  \nATOM    133  CA  GLY A  10      39.470  24.950  23.450  1.00  0.00           C  \nATOM    134  HA3 GLY A  10      39.690  25.680  24.220  1.00  0.00           H  \nATOM    135  HA2 GLY A  10      39.560  25.380  22.440  1.00  0.00           H  \nATOM    136  C   GLY A  10      40.540  23.880  23.520  1.00  0.00           C  \nATOM    137  O   GLY A  10      41.420  23.900  22.630  1.00  0.00           O  \nATOM    138  OXT GLY A  10      40.350  22.970  24.360  1.00  0.00           O  \nTER     139      GLY A  10\nENDMDL\nEND\n",
          "type": "blob"
         }
        ],
        "kwargs": {
         "defaultRepresentation": false,
         "ext": "pdb",
         "name": "nglview.adaptor.MDTrajTrajectory"
        },
        "methodName": "loadFile",
        "reconstruc_color_scheme": false,
        "target": "Stage",
        "type": "call_method"
       },
       {
        "args": [
         "ball+stick"
        ],
        "component_index": 0,
        "kwargs": {
         "colorScheme": "element",
         "sele": "all"
        },
        "methodName": "addRepresentation",
        "reconstruc_color_scheme": false,
        "target": "compList",
        "type": "call_method"
       }
      ],
      "_ngl_original_stage_parameters": {
       "ambientColor": 14540253,
       "ambientIntensity": 0.2,
       "backgroundColor": "white",
       "cameraEyeSep": 0.3,
       "cameraFov": 40,
       "cameraType": "perspective",
       "clipDist": 10,
       "clipFar": 100,
       "clipNear": 0,
       "fogFar": 100,
       "fogNear": 50,
       "hoverTimeout": 0,
       "impostor": true,
       "lightColor": 14540253,
       "lightIntensity": 1,
       "mousePreset": "default",
       "panSpeed": 1,
       "quality": "medium",
       "rotateSpeed": 2,
       "sampleLevel": 0,
       "tooltip": true,
       "workerDefault": true,
       "zoomSpeed": 1.2
      },
      "_ngl_repr_dict": {
       "0": {
        "0": {
         "params": {
          "aspectRatio": 2,
          "assembly": "default",
          "bondScale": 0.4,
          "bondSpacing": 1,
          "clipCenter": {
           "x": 0,
           "y": 0,
           "z": 0
          },
          "clipNear": 0,
          "clipRadius": 0,
          "colorMode": "hcl",
          "colorReverse": false,
          "colorScale": "",
          "colorScheme": "element",
          "colorValue": 9474192,
          "cylinderOnly": false,
          "defaultAssembly": "",
          "depthWrite": true,
          "diffuse": 16777215,
          "diffuseInterior": false,
          "disableImpostor": false,
          "disablePicking": false,
          "flatShaded": false,
          "interiorColor": 2236962,
          "interiorDarkening": 0,
          "lazy": false,
          "lineOnly": false,
          "linewidth": 2,
          "matrix": {
           "elements": [
            1,
            0,
            0,
            0,
            0,
            1,
            0,
            0,
            0,
            0,
            1,
            0,
            0,
            0,
            0,
            1
           ]
          },
          "metalness": 0,
          "multipleBond": "off",
          "opacity": 1,
          "openEnded": true,
          "quality": "medium",
          "radialSegments": 10,
          "radiusData": {},
          "radiusScale": 1,
          "radiusSize": 0.15,
          "radiusType": "size",
          "roughness": 0.4,
          "sele": "all",
          "side": "double",
          "sphereDetail": 1,
          "useInteriorColor": true,
          "visible": true,
          "wireframe": false
         },
         "type": "ball+stick"
        },
        "1": {
         "params": {
          "aspectRatio": 2,
          "assembly": "default",
          "bondScale": 0.4,
          "bondSpacing": 1,
          "clipCenter": {
           "x": 0,
           "y": 0,
           "z": 0
          },
          "clipNear": 0,
          "clipRadius": 0,
          "colorMode": "hcl",
          "colorReverse": false,
          "colorScale": "",
          "colorScheme": "element",
          "colorValue": 9474192,
          "cylinderOnly": false,
          "defaultAssembly": "",
          "depthWrite": true,
          "diffuse": 16777215,
          "diffuseInterior": false,
          "disableImpostor": false,
          "disablePicking": false,
          "flatShaded": false,
          "interiorColor": 2236962,
          "interiorDarkening": 0,
          "lazy": false,
          "lineOnly": false,
          "linewidth": 2,
          "matrix": {
           "elements": [
            1,
            0,
            0,
            0,
            0,
            1,
            0,
            0,
            0,
            0,
            1,
            0,
            0,
            0,
            0,
            1
           ]
          },
          "metalness": 0,
          "multipleBond": "off",
          "opacity": 1,
          "openEnded": true,
          "quality": "medium",
          "radialSegments": 10,
          "radiusData": {},
          "radiusScale": 1,
          "radiusSize": 0.15,
          "radiusType": "size",
          "roughness": 0.4,
          "sele": "all",
          "side": "double",
          "sphereDetail": 1,
          "useInteriorColor": true,
          "visible": true,
          "wireframe": false
         },
         "type": "ball+stick"
        }
       },
       "1": {}
      },
      "_ngl_serialize": false,
      "_ngl_version": "2.0.0-dev.36",
      "_ngl_view_id": [
       "C11BD718-C1A5-488B-9217-39DFA0859DB4"
      ],
      "_player_dict": {},
      "_scene_position": {},
      "_scene_rotation": {},
      "_synced_model_ids": [],
      "_synced_repr_model_ids": [],
      "_view_count": null,
      "_view_height": "",
      "_view_module": "nglview-js-widgets",
      "_view_module_version": "3.0.1",
      "_view_name": "NGLView",
      "_view_width": "",
      "background": "white",
      "frame": 688,
      "gui_style": null,
      "layout": "IPY_MODEL_ace2979b95c14690be9a13f85be0f3d7",
      "max_frame": 1000,
      "n_components": 2,
      "picked": {}
     }
    },
    "45f9657827204f9c804447e7dfcd98f7": {
     "model_module": "@jupyter-widgets/controls",
     "model_module_version": "1.5.0",
     "model_name": "IntSliderModel",
     "state": {
      "_dom_classes": [],
      "_model_module": "@jupyter-widgets/controls",
      "_model_module_version": "1.5.0",
      "_model_name": "IntSliderModel",
      "_view_count": null,
      "_view_module": "@jupyter-widgets/controls",
      "_view_module_version": "1.5.0",
      "_view_name": "IntSliderView",
      "continuous_update": true,
      "description": "",
      "description_tooltip": null,
      "disabled": false,
      "layout": "IPY_MODEL_a5ab238903a74cf38944ca506d029fdd",
      "max": 0,
      "min": 0,
      "orientation": "horizontal",
      "readout": true,
      "readout_format": "d",
      "step": 1,
      "style": "IPY_MODEL_13685dce62a14f2ea5af49e0ae7a89fd",
      "value": 0
     }
    },
    "4799d1f6b42f4271a84971c0a9ca4d15": {
     "model_module": "@jupyter-widgets/controls",
     "model_module_version": "1.5.0",
     "model_name": "ButtonModel",
     "state": {
      "_dom_classes": [],
      "_model_module": "@jupyter-widgets/controls",
      "_model_module_version": "1.5.0",
      "_model_name": "ButtonModel",
      "_view_count": null,
      "_view_module": "@jupyter-widgets/controls",
      "_view_module_version": "1.5.0",
      "_view_name": "ButtonView",
      "button_style": "",
      "description": "",
      "disabled": false,
      "icon": "compress",
      "layout": "IPY_MODEL_f9538da6ea17419b880ce221fcc10f09",
      "style": "IPY_MODEL_a694967d53a7470586d1daae3fc6a23a",
      "tooltip": ""
     }
    },
    "543bed337c394d0c80ca93be79923efc": {
     "model_module": "@jupyter-widgets/controls",
     "model_module_version": "1.5.0",
     "model_name": "SliderStyleModel",
     "state": {
      "_model_module": "@jupyter-widgets/controls",
      "_model_module_version": "1.5.0",
      "_model_name": "SliderStyleModel",
      "_view_count": null,
      "_view_module": "@jupyter-widgets/base",
      "_view_module_version": "1.2.0",
      "_view_name": "StyleView",
      "description_width": "",
      "handle_color": null
     }
    },
    "7b56329863ca41e39551315452c418a7": {
     "model_module": "@jupyter-widgets/base",
     "model_module_version": "1.2.0",
     "model_name": "LayoutModel",
     "state": {
      "_model_module": "@jupyter-widgets/base",
      "_model_module_version": "1.2.0",
      "_model_name": "LayoutModel",
      "_view_count": null,
      "_view_module": "@jupyter-widgets/base",
      "_view_module_version": "1.2.0",
      "_view_name": "LayoutView",
      "align_content": null,
      "align_items": null,
      "align_self": null,
      "border": null,
      "bottom": null,
      "display": null,
      "flex": null,
      "flex_flow": null,
      "grid_area": null,
      "grid_auto_columns": null,
      "grid_auto_flow": null,
      "grid_auto_rows": null,
      "grid_column": null,
      "grid_gap": null,
      "grid_row": null,
      "grid_template_areas": null,
      "grid_template_columns": null,
      "grid_template_rows": null,
      "height": null,
      "justify_content": null,
      "justify_items": null,
      "left": null,
      "margin": null,
      "max_height": null,
      "max_width": null,
      "min_height": null,
      "min_width": null,
      "object_fit": null,
      "object_position": null,
      "order": null,
      "overflow": null,
      "overflow_x": null,
      "overflow_y": null,
      "padding": null,
      "right": null,
      "top": null,
      "visibility": null,
      "width": null
     }
    },
    "89c22da30c054edb8f6632d6f526ad81": {
     "model_module": "@jupyter-widgets/controls",
     "model_module_version": "1.5.0",
     "model_name": "ButtonStyleModel",
     "state": {
      "_model_module": "@jupyter-widgets/controls",
      "_model_module_version": "1.5.0",
      "_model_name": "ButtonStyleModel",
      "_view_count": null,
      "_view_module": "@jupyter-widgets/base",
      "_view_module_version": "1.2.0",
      "_view_name": "StyleView",
      "button_color": null,
      "font_weight": ""
     }
    },
    "8a4fc5dc2022470cbf57a13a0d1645fb": {
     "model_module": "@jupyter-widgets/base",
     "model_module_version": "1.2.0",
     "model_name": "LayoutModel",
     "state": {
      "_model_module": "@jupyter-widgets/base",
      "_model_module_version": "1.2.0",
      "_model_name": "LayoutModel",
      "_view_count": null,
      "_view_module": "@jupyter-widgets/base",
      "_view_module_version": "1.2.0",
      "_view_name": "LayoutView",
      "align_content": null,
      "align_items": null,
      "align_self": null,
      "border": null,
      "bottom": null,
      "display": null,
      "flex": null,
      "flex_flow": null,
      "grid_area": null,
      "grid_auto_columns": null,
      "grid_auto_flow": null,
      "grid_auto_rows": null,
      "grid_column": null,
      "grid_gap": null,
      "grid_row": null,
      "grid_template_areas": null,
      "grid_template_columns": null,
      "grid_template_rows": null,
      "height": null,
      "justify_content": null,
      "justify_items": null,
      "left": null,
      "margin": null,
      "max_height": null,
      "max_width": null,
      "min_height": null,
      "min_width": null,
      "object_fit": null,
      "object_position": null,
      "order": null,
      "overflow": null,
      "overflow_x": null,
      "overflow_y": null,
      "padding": null,
      "right": null,
      "top": null,
      "visibility": null,
      "width": null
     }
    },
    "92338a5e90f74ea5b6a67abab4c1f5ec": {
     "model_module": "@jupyter-widgets/controls",
     "model_module_version": "1.5.0",
     "model_name": "PlayModel",
     "state": {
      "_dom_classes": [],
      "_model_module": "@jupyter-widgets/controls",
      "_model_module_version": "1.5.0",
      "_model_name": "PlayModel",
      "_playing": false,
      "_repeat": false,
      "_view_count": null,
      "_view_module": "@jupyter-widgets/controls",
      "_view_module_version": "1.5.0",
      "_view_name": "PlayView",
      "description": "",
      "description_tooltip": null,
      "disabled": false,
      "interval": 100,
      "layout": "IPY_MODEL_ca926d2eab5949ef82045bb52b7608ce",
      "max": 1000,
      "min": 0,
      "playing": false,
      "show_repeat": true,
      "step": 1,
      "style": "IPY_MODEL_e55975ebae5549b1abcc3de980d90b3b",
      "value": 688
     }
    },
    "a033df9e04d64eeb9558a4ce8e4b2588": {
     "model_module": "@jupyter-widgets/controls",
     "model_module_version": "1.5.0",
     "model_name": "ButtonModel",
     "state": {
      "_dom_classes": [],
      "_model_module": "@jupyter-widgets/controls",
      "_model_module_version": "1.5.0",
      "_model_name": "ButtonModel",
      "_view_count": null,
      "_view_module": "@jupyter-widgets/controls",
      "_view_module_version": "1.5.0",
      "_view_name": "ButtonView",
      "button_style": "",
      "description": "",
      "disabled": false,
      "icon": "compress",
      "layout": "IPY_MODEL_b81f904e9b674fdbade0b69b3adb47b6",
      "style": "IPY_MODEL_89c22da30c054edb8f6632d6f526ad81",
      "tooltip": ""
     }
    },
    "a5a70f696d3d4b31af09b8bab7270f02": {
     "model_module": "@jupyter-widgets/controls",
     "model_module_version": "1.5.0",
     "model_name": "DescriptionStyleModel",
     "state": {
      "_model_module": "@jupyter-widgets/controls",
      "_model_module_version": "1.5.0",
      "_model_name": "DescriptionStyleModel",
      "_view_count": null,
      "_view_module": "@jupyter-widgets/base",
      "_view_module_version": "1.2.0",
      "_view_name": "StyleView",
      "description_width": ""
     }
    },
    "a5ab238903a74cf38944ca506d029fdd": {
     "model_module": "@jupyter-widgets/base",
     "model_module_version": "1.2.0",
     "model_name": "LayoutModel",
     "state": {
      "_model_module": "@jupyter-widgets/base",
      "_model_module_version": "1.2.0",
      "_model_name": "LayoutModel",
      "_view_count": null,
      "_view_module": "@jupyter-widgets/base",
      "_view_module_version": "1.2.0",
      "_view_name": "LayoutView",
      "align_content": null,
      "align_items": null,
      "align_self": null,
      "border": null,
      "bottom": null,
      "display": null,
      "flex": null,
      "flex_flow": null,
      "grid_area": null,
      "grid_auto_columns": null,
      "grid_auto_flow": null,
      "grid_auto_rows": null,
      "grid_column": null,
      "grid_gap": null,
      "grid_row": null,
      "grid_template_areas": null,
      "grid_template_columns": null,
      "grid_template_rows": null,
      "height": null,
      "justify_content": null,
      "justify_items": null,
      "left": null,
      "margin": null,
      "max_height": null,
      "max_width": null,
      "min_height": null,
      "min_width": null,
      "object_fit": null,
      "object_position": null,
      "order": null,
      "overflow": null,
      "overflow_x": null,
      "overflow_y": null,
      "padding": null,
      "right": null,
      "top": null,
      "visibility": null,
      "width": null
     }
    },
    "a694967d53a7470586d1daae3fc6a23a": {
     "model_module": "@jupyter-widgets/controls",
     "model_module_version": "1.5.0",
     "model_name": "ButtonStyleModel",
     "state": {
      "_model_module": "@jupyter-widgets/controls",
      "_model_module_version": "1.5.0",
      "_model_name": "ButtonStyleModel",
      "_view_count": null,
      "_view_module": "@jupyter-widgets/base",
      "_view_module_version": "1.2.0",
      "_view_name": "StyleView",
      "button_color": null,
      "font_weight": ""
     }
    },
    "ace2979b95c14690be9a13f85be0f3d7": {
     "model_module": "@jupyter-widgets/base",
     "model_module_version": "1.2.0",
     "model_name": "LayoutModel",
     "state": {
      "_model_module": "@jupyter-widgets/base",
      "_model_module_version": "1.2.0",
      "_model_name": "LayoutModel",
      "_view_count": null,
      "_view_module": "@jupyter-widgets/base",
      "_view_module_version": "1.2.0",
      "_view_name": "LayoutView",
      "align_content": null,
      "align_items": null,
      "align_self": null,
      "border": null,
      "bottom": null,
      "display": null,
      "flex": null,
      "flex_flow": null,
      "grid_area": null,
      "grid_auto_columns": null,
      "grid_auto_flow": null,
      "grid_auto_rows": null,
      "grid_column": null,
      "grid_gap": null,
      "grid_row": null,
      "grid_template_areas": null,
      "grid_template_columns": null,
      "grid_template_rows": null,
      "height": null,
      "justify_content": null,
      "justify_items": null,
      "left": null,
      "margin": null,
      "max_height": null,
      "max_width": null,
      "min_height": null,
      "min_width": null,
      "object_fit": null,
      "object_position": null,
      "order": null,
      "overflow": null,
      "overflow_x": null,
      "overflow_y": null,
      "padding": null,
      "right": null,
      "top": null,
      "visibility": null,
      "width": null
     }
    },
    "b1f34042265c4aa19126eeabfeedf4ba": {
     "model_module": "@jupyter-widgets/base",
     "model_module_version": "1.2.0",
     "model_name": "LayoutModel",
     "state": {
      "_model_module": "@jupyter-widgets/base",
      "_model_module_version": "1.2.0",
      "_model_name": "LayoutModel",
      "_view_count": null,
      "_view_module": "@jupyter-widgets/base",
      "_view_module_version": "1.2.0",
      "_view_name": "LayoutView",
      "align_content": null,
      "align_items": null,
      "align_self": null,
      "border": null,
      "bottom": null,
      "display": null,
      "flex": null,
      "flex_flow": null,
      "grid_area": null,
      "grid_auto_columns": null,
      "grid_auto_flow": null,
      "grid_auto_rows": null,
      "grid_column": null,
      "grid_gap": null,
      "grid_row": null,
      "grid_template_areas": null,
      "grid_template_columns": null,
      "grid_template_rows": null,
      "height": null,
      "justify_content": null,
      "justify_items": null,
      "left": null,
      "margin": null,
      "max_height": null,
      "max_width": null,
      "min_height": null,
      "min_width": null,
      "object_fit": null,
      "object_position": null,
      "order": null,
      "overflow": null,
      "overflow_x": null,
      "overflow_y": null,
      "padding": null,
      "right": null,
      "top": null,
      "visibility": null,
      "width": null
     }
    },
    "b67fd4809be943188ec5109c38579ed0": {
     "model_module": "@jupyter-widgets/controls",
     "model_module_version": "1.5.0",
     "model_name": "HBoxModel",
     "state": {
      "_dom_classes": [],
      "_model_module": "@jupyter-widgets/controls",
      "_model_module_version": "1.5.0",
      "_model_name": "HBoxModel",
      "_view_count": null,
      "_view_module": "@jupyter-widgets/controls",
      "_view_module_version": "1.5.0",
      "_view_name": "HBoxView",
      "box_style": "",
      "children": [
       "IPY_MODEL_92338a5e90f74ea5b6a67abab4c1f5ec",
       "IPY_MODEL_e3536d8ab3fb46a08ae7b43d02e83d74"
      ],
      "layout": "IPY_MODEL_17e02f6e3b6345079b0f3ca69fc80e38"
     }
    },
    "b81f904e9b674fdbade0b69b3adb47b6": {
     "model_module": "@jupyter-widgets/base",
     "model_module_version": "1.2.0",
     "model_name": "LayoutModel",
     "state": {
      "_model_module": "@jupyter-widgets/base",
      "_model_module_version": "1.2.0",
      "_model_name": "LayoutModel",
      "_view_count": null,
      "_view_module": "@jupyter-widgets/base",
      "_view_module_version": "1.2.0",
      "_view_name": "LayoutView",
      "align_content": null,
      "align_items": null,
      "align_self": null,
      "border": null,
      "bottom": null,
      "display": null,
      "flex": null,
      "flex_flow": null,
      "grid_area": null,
      "grid_auto_columns": null,
      "grid_auto_flow": null,
      "grid_auto_rows": null,
      "grid_column": null,
      "grid_gap": null,
      "grid_row": null,
      "grid_template_areas": null,
      "grid_template_columns": null,
      "grid_template_rows": null,
      "height": null,
      "justify_content": null,
      "justify_items": null,
      "left": null,
      "margin": null,
      "max_height": null,
      "max_width": null,
      "min_height": null,
      "min_width": null,
      "object_fit": null,
      "object_position": null,
      "order": null,
      "overflow": null,
      "overflow_x": null,
      "overflow_y": null,
      "padding": null,
      "right": null,
      "top": null,
      "visibility": null,
      "width": "34px"
     }
    },
    "baff283ae4084f51b36d9e11ea069077": {
     "model_module": "nglview-js-widgets",
     "model_module_version": "3.0.1",
     "model_name": "ColormakerRegistryModel",
     "state": {
      "_dom_classes": [],
      "_model_module": "nglview-js-widgets",
      "_model_module_version": "3.0.1",
      "_model_name": "ColormakerRegistryModel",
      "_msg_ar": [],
      "_msg_q": [],
      "_ready": true,
      "_view_count": null,
      "_view_module": "nglview-js-widgets",
      "_view_module_version": "3.0.1",
      "_view_name": "ColormakerRegistryView",
      "layout": "IPY_MODEL_b1f34042265c4aa19126eeabfeedf4ba"
     }
    },
    "ca926d2eab5949ef82045bb52b7608ce": {
     "model_module": "@jupyter-widgets/base",
     "model_module_version": "1.2.0",
     "model_name": "LayoutModel",
     "state": {
      "_model_module": "@jupyter-widgets/base",
      "_model_module_version": "1.2.0",
      "_model_name": "LayoutModel",
      "_view_count": null,
      "_view_module": "@jupyter-widgets/base",
      "_view_module_version": "1.2.0",
      "_view_name": "LayoutView",
      "align_content": null,
      "align_items": null,
      "align_self": null,
      "border": null,
      "bottom": null,
      "display": null,
      "flex": null,
      "flex_flow": null,
      "grid_area": null,
      "grid_auto_columns": null,
      "grid_auto_flow": null,
      "grid_auto_rows": null,
      "grid_column": null,
      "grid_gap": null,
      "grid_row": null,
      "grid_template_areas": null,
      "grid_template_columns": null,
      "grid_template_rows": null,
      "height": null,
      "justify_content": null,
      "justify_items": null,
      "left": null,
      "margin": null,
      "max_height": null,
      "max_width": null,
      "min_height": null,
      "min_width": null,
      "object_fit": null,
      "object_position": null,
      "order": null,
      "overflow": null,
      "overflow_x": null,
      "overflow_y": null,
      "padding": null,
      "right": null,
      "top": null,
      "visibility": null,
      "width": null
     }
    },
    "cbf2c1f923724d5f99391a3c681b4704": {
     "model_module": "@jupyter-widgets/base",
     "model_module_version": "1.2.0",
     "model_name": "LayoutModel",
     "state": {
      "_model_module": "@jupyter-widgets/base",
      "_model_module_version": "1.2.0",
      "_model_name": "LayoutModel",
      "_view_count": null,
      "_view_module": "@jupyter-widgets/base",
      "_view_module_version": "1.2.0",
      "_view_name": "LayoutView",
      "align_content": null,
      "align_items": null,
      "align_self": null,
      "border": null,
      "bottom": null,
      "display": null,
      "flex": null,
      "flex_flow": null,
      "grid_area": null,
      "grid_auto_columns": null,
      "grid_auto_flow": null,
      "grid_auto_rows": null,
      "grid_column": null,
      "grid_gap": null,
      "grid_row": null,
      "grid_template_areas": null,
      "grid_template_columns": null,
      "grid_template_rows": null,
      "height": null,
      "justify_content": null,
      "justify_items": null,
      "left": null,
      "margin": null,
      "max_height": null,
      "max_width": null,
      "min_height": null,
      "min_width": null,
      "object_fit": null,
      "object_position": null,
      "order": null,
      "overflow": null,
      "overflow_x": null,
      "overflow_y": null,
      "padding": null,
      "right": null,
      "top": null,
      "visibility": null,
      "width": null
     }
    },
    "e3536d8ab3fb46a08ae7b43d02e83d74": {
     "model_module": "@jupyter-widgets/controls",
     "model_module_version": "1.5.0",
     "model_name": "IntSliderModel",
     "state": {
      "_dom_classes": [],
      "_model_module": "@jupyter-widgets/controls",
      "_model_module_version": "1.5.0",
      "_model_name": "IntSliderModel",
      "_view_count": null,
      "_view_module": "@jupyter-widgets/controls",
      "_view_module_version": "1.5.0",
      "_view_name": "IntSliderView",
      "continuous_update": true,
      "description": "",
      "description_tooltip": null,
      "disabled": false,
      "layout": "IPY_MODEL_e500eca204274992b1b1dae7e74277c4",
      "max": 1000,
      "min": 0,
      "orientation": "horizontal",
      "readout": true,
      "readout_format": "d",
      "step": 1,
      "style": "IPY_MODEL_543bed337c394d0c80ca93be79923efc",
      "value": 688
     }
    },
    "e500eca204274992b1b1dae7e74277c4": {
     "model_module": "@jupyter-widgets/base",
     "model_module_version": "1.2.0",
     "model_name": "LayoutModel",
     "state": {
      "_model_module": "@jupyter-widgets/base",
      "_model_module_version": "1.2.0",
      "_model_name": "LayoutModel",
      "_view_count": null,
      "_view_module": "@jupyter-widgets/base",
      "_view_module_version": "1.2.0",
      "_view_name": "LayoutView",
      "align_content": null,
      "align_items": null,
      "align_self": null,
      "border": null,
      "bottom": null,
      "display": null,
      "flex": null,
      "flex_flow": null,
      "grid_area": null,
      "grid_auto_columns": null,
      "grid_auto_flow": null,
      "grid_auto_rows": null,
      "grid_column": null,
      "grid_gap": null,
      "grid_row": null,
      "grid_template_areas": null,
      "grid_template_columns": null,
      "grid_template_rows": null,
      "height": null,
      "justify_content": null,
      "justify_items": null,
      "left": null,
      "margin": null,
      "max_height": null,
      "max_width": null,
      "min_height": null,
      "min_width": null,
      "object_fit": null,
      "object_position": null,
      "order": null,
      "overflow": null,
      "overflow_x": null,
      "overflow_y": null,
      "padding": null,
      "right": null,
      "top": null,
      "visibility": null,
      "width": null
     }
    },
    "e55975ebae5549b1abcc3de980d90b3b": {
     "model_module": "@jupyter-widgets/controls",
     "model_module_version": "1.5.0",
     "model_name": "DescriptionStyleModel",
     "state": {
      "_model_module": "@jupyter-widgets/controls",
      "_model_module_version": "1.5.0",
      "_model_name": "DescriptionStyleModel",
      "_view_count": null,
      "_view_module": "@jupyter-widgets/base",
      "_view_module_version": "1.2.0",
      "_view_name": "StyleView",
      "description_width": ""
     }
    },
    "eb1909a6071b48aaaa9c06043d5d17e2": {
     "model_module": "@jupyter-widgets/controls",
     "model_module_version": "1.5.0",
     "model_name": "HBoxModel",
     "state": {
      "_dom_classes": [],
      "_model_module": "@jupyter-widgets/controls",
      "_model_module_version": "1.5.0",
      "_model_name": "HBoxModel",
      "_view_count": null,
      "_view_module": "@jupyter-widgets/controls",
      "_view_module_version": "1.5.0",
      "_view_name": "HBoxView",
      "box_style": "",
      "children": [
       "IPY_MODEL_072140de5b3a48a4a108123f40156e90",
       "IPY_MODEL_45f9657827204f9c804447e7dfcd98f7"
      ],
      "layout": "IPY_MODEL_8a4fc5dc2022470cbf57a13a0d1645fb"
     }
    },
    "f9538da6ea17419b880ce221fcc10f09": {
     "model_module": "@jupyter-widgets/base",
     "model_module_version": "1.2.0",
     "model_name": "LayoutModel",
     "state": {
      "_model_module": "@jupyter-widgets/base",
      "_model_module_version": "1.2.0",
      "_model_name": "LayoutModel",
      "_view_count": null,
      "_view_module": "@jupyter-widgets/base",
      "_view_module_version": "1.2.0",
      "_view_name": "LayoutView",
      "align_content": null,
      "align_items": null,
      "align_self": null,
      "border": null,
      "bottom": null,
      "display": null,
      "flex": null,
      "flex_flow": null,
      "grid_area": null,
      "grid_auto_columns": null,
      "grid_auto_flow": null,
      "grid_auto_rows": null,
      "grid_column": null,
      "grid_gap": null,
      "grid_row": null,
      "grid_template_areas": null,
      "grid_template_columns": null,
      "grid_template_rows": null,
      "height": null,
      "justify_content": null,
      "justify_items": null,
      "left": null,
      "margin": null,
      "max_height": null,
      "max_width": null,
      "min_height": null,
      "min_width": null,
      "object_fit": null,
      "object_position": null,
      "order": null,
      "overflow": null,
      "overflow_x": null,
      "overflow_y": null,
      "padding": null,
      "right": null,
      "top": null,
      "visibility": null,
      "width": "34px"
     }
    }
   }
  }
 },
 "nbformat": 4,
 "nbformat_minor": 4
}
