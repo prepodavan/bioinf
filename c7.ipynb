{
  "cells": [
    {
      "cell_type": "markdown",
      "metadata": {
        "id": "yr9iKZHKfqfJ"
      },
      "source": [
        "## Домашнее задание\n",
        "\n",
        "Реализуем алгоритм выделения структурных доменов DOMAK (см. мини-презентацию про этот алгоритм [тут](https://docs.google.com/presentation/d/1Ipcshu_BQUptxExbNkY5TFKh5_x0xcLvbgSRD10FNwk/edit?usp=sharing)).\n",
        "Контакты между остатками посчитаем с помощью arpeggio - пакета для поиска взаимодействий в структурах белков."
      ]
    },
    {
      "cell_type": "markdown",
      "metadata": {
        "id": "vB9dCOjBefuo"
      },
      "source": [
        "Необходимые импорты и установка arpeggio"
      ]
    },
    {
      "cell_type": "code",
      "execution_count": 1,
      "metadata": {
        "id": "mn2crtXyh50_"
      },
      "outputs": [],
      "source": [
        "import json\n",
        "import pandas as pd"
      ]
    },
    {
      "cell_type": "markdown",
      "metadata": {
        "id": "i4T3abwzmfm4"
      },
      "source": [
        "Arpeggio работает с файлами в формате cif. Это формат, дублирующий данные из формата pdb, но в более удобной для машинного парсинга (и менее удобной для чтения человеком) форме. Используйте данный вам pdbid [отсюда](https://docs.google.com/spreadsheets/d/15uxu7cR19WuGS2t2LrEDd708aE7mGkjH5wwDxMgAacg/edit?usp=sharing)."
      ]
    },
    {
      "cell_type": "code",
      "execution_count": 2,
      "metadata": {
        "id": "EzuTENsOg1UZ"
      },
      "outputs": [],
      "source": [
        "pdbid = '7DGD'\n",
        "link = pdbid + '.cif.gz'"
      ]
    },
    {
      "cell_type": "code",
      "execution_count": 3,
      "metadata": {
        "colab": {
          "base_uri": "https://localhost:8080/"
        },
        "id": "GVkoY6qXc-q-",
        "outputId": "898ea206-f7b0-41d3-863c-9bafc5a0c15f"
      },
      "outputs": [
        {
          "name": "stdout",
          "output_type": "stream",
          "text": [
            "--2025-02-17 07:41:41--  http://www.rcsb.org/pdb/files/7DGD.cif.gz\n",
            "Распознаётся www.rcsb.org (www.rcsb.org)… 128.6.159.248\n",
            "Подключение к www.rcsb.org (www.rcsb.org)|128.6.159.248|:80... соединение установлено.\n",
            "HTTP-запрос отправлен. Ожидание ответа… 301 Moved Permanently\n",
            "Адрес: https://www.rcsb.org/pdb/files/7DGD.cif.gz [переход]\n",
            "--2025-02-17 07:41:42--  https://www.rcsb.org/pdb/files/7DGD.cif.gz\n",
            "Подключение к www.rcsb.org (www.rcsb.org)|128.6.159.248|:443... соединение установлено.\n",
            "HTTP-запрос отправлен. Ожидание ответа… 301 Moved Permanently\n",
            "Адрес: https://files.rcsb.org/download/7DGD.cif.gz [переход]\n",
            "--2025-02-17 07:41:42--  https://files.rcsb.org/download/7DGD.cif.gz\n",
            "Распознаётся files.rcsb.org (files.rcsb.org)… 3.164.240.63, 3.164.240.106, 3.164.240.79, ...\n",
            "Подключение к files.rcsb.org (files.rcsb.org)|3.164.240.63|:443... соединение установлено.\n",
            "HTTP-запрос отправлен. Ожидание ответа… 200 OK\n",
            "Длина: 285880 (279K) [application/octet-stream]\n",
            "Сохранение в: «7DGD.cif.gz»\n",
            "\n",
            "7DGD.cif.gz         100%[===================>] 279,18K  1,01MB/s    за 0,3s    \n",
            "\n",
            "2025-02-17 07:41:45 (1,01 MB/s) - «7DGD.cif.gz» сохранён [285880/285880]\n",
            "\n",
            "5wiv_protons.pdb \u001b[1m\u001b[36mbin\u001b[m\u001b[m              c7.ipynb         \u001b[1m\u001b[36mcondaenv-biophys\u001b[m\u001b[m\n",
            "7DGD.cif         c1_c5.ipynb      conda.reqs.txt   requirements.txt\n"
          ]
        }
      ],
      "source": [
        "!wget http://www.rcsb.org/pdb/files/$link\n",
        "!gzip -d $link\n",
        "!ls"
      ]
    },
    {
      "cell_type": "code",
      "execution_count": null,
      "metadata": {
        "id": "BLMrQlwwfzRq"
      },
      "outputs": [],
      "source": [
        "!mkdir ./arp-results3"
      ]
    },
    {
      "cell_type": "markdown",
      "metadata": {
        "id": "Ko2u0cW9nFUO"
      },
      "source": [
        "По умолчанию ищутся контакты внутри всей структуры. При обозначении одной цепи как лиганда (в данном случае цепи А, если в структуре всего одна цепь уберите флаг -s) у записей выдачи появляются метки interacting_entities, см выдачу ниже."
      ]
    },
    {
      "cell_type": "code",
      "execution_count": 5,
      "metadata": {
        "colab": {
          "base_uri": "https://localhost:8080/"
        },
        "id": "Y-0xWeZqfAFC",
        "outputId": "5238c2d4-caaa-47a1-841c-08c1e9d95259"
      },
      "outputs": [
        {
          "name": "stdout",
          "output_type": "stream",
          "text": [
            "INFO//07:41:54.269//Program begin.\n",
            "INFO//07:41:54.269//Selection perceived: ['/A//']\n",
            "DEBUG//07:41:54.341//Loaded PDB structure (BioPython)\n",
            "==============================\n",
            "*** Open Babel Warning  in PerceiveBondOrders\n",
            "  Failed to kekulize aromatic bonds in OBMol::PerceiveBondOrders\n",
            "\n",
            "DEBUG//07:41:54.646//Loaded MMCIF structure (OpenBabel)\n",
            "DEBUG//07:41:54.667//Mapped OB to BioPython atoms and vice-versa.\n",
            "DEBUG//07:41:54.744//Added hydrogens.\n",
            "DEBUG//07:42:18.029//Wrote hydrogenated structure file. Hydrogenation was by Arpeggio using OpenBabel defaults.\n",
            "DEBUG//07:42:19.656//Determined atom explicit and implicit valences, bond orders, atomic numbers, formal charge and number of bound hydrogens.\n",
            "DEBUG//07:42:19.714//Initialised SIFts.\n",
            "DEBUG//07:42:19.723//Determined polypeptide residues, chain breaks, termini\n",
            "DEBUG//07:42:19.725//Percieved and stored rings.\n",
            "DEBUG//07:42:19.727//Perceived and stored amide groups.\n",
            "DEBUG//07:42:19.735//Added hydrogens to BioPython atoms.\n",
            "DEBUG//07:42:19.746//Added VdW radii.\n",
            "DEBUG//07:42:19.756//Added covalent radii.\n",
            "DEBUG//07:42:19.767//Completed NeighborSearch.\n",
            "DEBUG//07:42:19.767//Assigned rings to residues.\n",
            "DEBUG//07:42:19.784//Made selection.\n",
            "DEBUG//07:42:20.123//Expanded to binding site.\n",
            "DEBUG//07:42:20.127//Flagged selection rings.\n",
            "DEBUG//07:42:20.132//Completed new NeighbourSearch.\n",
            "INFO//07:44:36.136//Program End. Maximum memory usage was 228.89 MB.\n"
          ]
        }
      ],
      "source": [
        "!pdbe-arpeggio {pdbid}.cif -ph 7.0 -wh -o ./arp-results3 -s /A//"
      ]
    },
    {
      "cell_type": "code",
      "execution_count": 6,
      "metadata": {
        "colab": {
          "base_uri": "https://localhost:8080/"
        },
        "id": "1UOg0dgSf2iL",
        "outputId": "8c360459-3e41-4b55-f2b0-43a193f9a349"
      },
      "outputs": [
        {
          "name": "stdout",
          "output_type": "stream",
          "text": [
            "7DGD.json               7DGD_hydrogenated.mmcif\n"
          ]
        }
      ],
      "source": [
        "!ls ./arp-results3"
      ]
    },
    {
      "cell_type": "markdown",
      "metadata": {
        "id": "cnR7BtvtoABm"
      },
      "source": [
        "Обратите внимание на типы взаимодействующих объектов (внутри выборки, между выборкой и чем-то ещё и тд)"
      ]
    },
    {
      "cell_type": "markdown",
      "metadata": {
        "id": "Y5fwOqLfoWt9"
      },
      "source": [
        "Выдача в виде json-файла, воспользуемся пакетом json для парсинга и переведём в более человеко-читаемый вид таблицы. Также отфильтруем контакты нужного нам типа между выборкой (цепью А в данном случае) и остальной структурой (INTER)\n",
        "\n",
        "\n"
      ]
    },
    {
      "cell_type": "code",
      "execution_count": 7,
      "metadata": {
        "id": "0mpqH6ptnJTA"
      },
      "outputs": [],
      "source": [
        "with open(f'./arp-results3/{pdbid}.json', 'r') as js_file:\n",
        "  contacts = json.load(js_file)"
      ]
    },
    {
      "cell_type": "code",
      "execution_count": 8,
      "metadata": {
        "id": "lSlb-MDmnTjp"
      },
      "outputs": [],
      "source": [
        "output_dict = [x for x in contacts if (x['interacting_entities'] == 'INTRA_SELECTION')  ]"
      ]
    },
    {
      "cell_type": "code",
      "execution_count": 9,
      "metadata": {
        "colab": {
          "base_uri": "https://localhost:8080/",
          "height": 313
        },
        "id": "yNtr81VZoX_z",
        "outputId": "ebd06022-5ac9-46e9-e51c-cc2fd1ba465e"
      },
      "outputs": [
        {
          "data": {
            "text/html": [
              "<div>\n",
              "<style scoped>\n",
              "    .dataframe tbody tr th:only-of-type {\n",
              "        vertical-align: middle;\n",
              "    }\n",
              "\n",
              "    .dataframe tbody tr th {\n",
              "        vertical-align: top;\n",
              "    }\n",
              "\n",
              "    .dataframe thead th {\n",
              "        text-align: right;\n",
              "    }\n",
              "</style>\n",
              "<table border=\"1\" class=\"dataframe\">\n",
              "  <thead>\n",
              "    <tr style=\"text-align: right;\">\n",
              "      <th></th>\n",
              "      <th>contact</th>\n",
              "      <th>distance</th>\n",
              "      <th>interacting_entities</th>\n",
              "      <th>type</th>\n",
              "      <th>bgn.auth_asym_id</th>\n",
              "      <th>bgn.auth_atom_id</th>\n",
              "      <th>bgn.auth_seq_id</th>\n",
              "      <th>bgn.label_comp_id</th>\n",
              "      <th>bgn.label_comp_type</th>\n",
              "      <th>bgn.pdbx_PDB_ins_code</th>\n",
              "      <th>end.auth_asym_id</th>\n",
              "      <th>end.auth_atom_id</th>\n",
              "      <th>end.auth_seq_id</th>\n",
              "      <th>end.label_comp_id</th>\n",
              "      <th>end.label_comp_type</th>\n",
              "      <th>end.pdbx_PDB_ins_code</th>\n",
              "    </tr>\n",
              "  </thead>\n",
              "  <tbody>\n",
              "    <tr>\n",
              "      <th>0</th>\n",
              "      <td>[proximal]</td>\n",
              "      <td>4.88</td>\n",
              "      <td>INTRA_SELECTION</td>\n",
              "      <td>atom-atom</td>\n",
              "      <td>A</td>\n",
              "      <td>O</td>\n",
              "      <td>695</td>\n",
              "      <td>THR</td>\n",
              "      <td>P</td>\n",
              "      <td></td>\n",
              "      <td>A</td>\n",
              "      <td>CB</td>\n",
              "      <td>697</td>\n",
              "      <td>LYS</td>\n",
              "      <td>P</td>\n",
              "      <td></td>\n",
              "    </tr>\n",
              "    <tr>\n",
              "      <th>1</th>\n",
              "      <td>[proximal]</td>\n",
              "      <td>4.97</td>\n",
              "      <td>INTRA_SELECTION</td>\n",
              "      <td>atom-atom</td>\n",
              "      <td>A</td>\n",
              "      <td>O</td>\n",
              "      <td>695</td>\n",
              "      <td>THR</td>\n",
              "      <td>P</td>\n",
              "      <td></td>\n",
              "      <td>A</td>\n",
              "      <td>CA</td>\n",
              "      <td>697</td>\n",
              "      <td>LYS</td>\n",
              "      <td>P</td>\n",
              "      <td></td>\n",
              "    </tr>\n",
              "    <tr>\n",
              "      <th>2</th>\n",
              "      <td>[proximal]</td>\n",
              "      <td>4.45</td>\n",
              "      <td>INTRA_SELECTION</td>\n",
              "      <td>atom-atom</td>\n",
              "      <td>A</td>\n",
              "      <td>CA</td>\n",
              "      <td>694</td>\n",
              "      <td>CYS</td>\n",
              "      <td>P</td>\n",
              "      <td></td>\n",
              "      <td>A</td>\n",
              "      <td>O</td>\n",
              "      <td>692</td>\n",
              "      <td>LYS</td>\n",
              "      <td>P</td>\n",
              "      <td></td>\n",
              "    </tr>\n",
              "    <tr>\n",
              "      <th>3</th>\n",
              "      <td>[proximal]</td>\n",
              "      <td>4.79</td>\n",
              "      <td>INTRA_SELECTION</td>\n",
              "      <td>atom-atom</td>\n",
              "      <td>A</td>\n",
              "      <td>CA</td>\n",
              "      <td>688</td>\n",
              "      <td>GLY</td>\n",
              "      <td>P</td>\n",
              "      <td></td>\n",
              "      <td>A</td>\n",
              "      <td>O</td>\n",
              "      <td>692</td>\n",
              "      <td>LYS</td>\n",
              "      <td>P</td>\n",
              "      <td></td>\n",
              "    </tr>\n",
              "    <tr>\n",
              "      <th>4</th>\n",
              "      <td>[proximal]</td>\n",
              "      <td>4.33</td>\n",
              "      <td>INTRA_SELECTION</td>\n",
              "      <td>atom-atom</td>\n",
              "      <td>A</td>\n",
              "      <td>CG</td>\n",
              "      <td>696</td>\n",
              "      <td>ARG</td>\n",
              "      <td>P</td>\n",
              "      <td></td>\n",
              "      <td>A</td>\n",
              "      <td>N</td>\n",
              "      <td>698</td>\n",
              "      <td>PRO</td>\n",
              "      <td>P</td>\n",
              "      <td></td>\n",
              "    </tr>\n",
              "  </tbody>\n",
              "</table>\n",
              "</div>"
            ],
            "text/plain": [
              "      contact  distance interacting_entities       type bgn.auth_asym_id  \\\n",
              "0  [proximal]      4.88      INTRA_SELECTION  atom-atom                A   \n",
              "1  [proximal]      4.97      INTRA_SELECTION  atom-atom                A   \n",
              "2  [proximal]      4.45      INTRA_SELECTION  atom-atom                A   \n",
              "3  [proximal]      4.79      INTRA_SELECTION  atom-atom                A   \n",
              "4  [proximal]      4.33      INTRA_SELECTION  atom-atom                A   \n",
              "\n",
              "  bgn.auth_atom_id  bgn.auth_seq_id bgn.label_comp_id bgn.label_comp_type  \\\n",
              "0                O              695               THR                   P   \n",
              "1                O              695               THR                   P   \n",
              "2               CA              694               CYS                   P   \n",
              "3               CA              688               GLY                   P   \n",
              "4               CG              696               ARG                   P   \n",
              "\n",
              "  bgn.pdbx_PDB_ins_code end.auth_asym_id end.auth_atom_id  end.auth_seq_id  \\\n",
              "0                                      A               CB              697   \n",
              "1                                      A               CA              697   \n",
              "2                                      A                O              692   \n",
              "3                                      A                O              692   \n",
              "4                                      A                N              698   \n",
              "\n",
              "  end.label_comp_id end.label_comp_type end.pdbx_PDB_ins_code  \n",
              "0               LYS                   P                        \n",
              "1               LYS                   P                        \n",
              "2               LYS                   P                        \n",
              "3               LYS                   P                        \n",
              "4               PRO                   P                        "
            ]
          },
          "execution_count": 9,
          "metadata": {},
          "output_type": "execute_result"
        }
      ],
      "source": [
        "df = pd.json_normalize(output_dict)\n",
        "df.head()"
      ]
    },
    {
      "cell_type": "markdown",
      "metadata": {
        "id": "8CoG2LpSd8Su"
      },
      "source": [
        "Отфильтруем контакты только белок-белок, а также оставим только по 1 контакту между парой остатков."
      ]
    },
    {
      "cell_type": "code",
      "execution_count": 10,
      "metadata": {
        "id": "sDuy7LceW0ki"
      },
      "outputs": [],
      "source": [
        "df_protein_only = df.loc[(df['bgn.label_comp_type'] == 'P') & (df['end.label_comp_type'] == 'P')]"
      ]
    },
    {
      "cell_type": "code",
      "execution_count": 11,
      "metadata": {
        "colab": {
          "base_uri": "https://localhost:8080/",
          "height": 617
        },
        "id": "ZEcVK6MgWTmS",
        "outputId": "4911a98d-8cb6-419b-d79b-cdb25e973a34"
      },
      "outputs": [
        {
          "data": {
            "text/html": [
              "<div>\n",
              "<style scoped>\n",
              "    .dataframe tbody tr th:only-of-type {\n",
              "        vertical-align: middle;\n",
              "    }\n",
              "\n",
              "    .dataframe tbody tr th {\n",
              "        vertical-align: top;\n",
              "    }\n",
              "\n",
              "    .dataframe thead th {\n",
              "        text-align: right;\n",
              "    }\n",
              "</style>\n",
              "<table border=\"1\" class=\"dataframe\">\n",
              "  <thead>\n",
              "    <tr style=\"text-align: right;\">\n",
              "      <th></th>\n",
              "      <th>contact</th>\n",
              "      <th>distance</th>\n",
              "      <th>interacting_entities</th>\n",
              "      <th>type</th>\n",
              "      <th>bgn.auth_asym_id</th>\n",
              "      <th>bgn.auth_atom_id</th>\n",
              "      <th>bgn.auth_seq_id</th>\n",
              "      <th>bgn.label_comp_id</th>\n",
              "      <th>bgn.label_comp_type</th>\n",
              "      <th>bgn.pdbx_PDB_ins_code</th>\n",
              "      <th>end.auth_asym_id</th>\n",
              "      <th>end.auth_atom_id</th>\n",
              "      <th>end.auth_seq_id</th>\n",
              "      <th>end.label_comp_id</th>\n",
              "      <th>end.label_comp_type</th>\n",
              "      <th>end.pdbx_PDB_ins_code</th>\n",
              "    </tr>\n",
              "  </thead>\n",
              "  <tbody>\n",
              "    <tr>\n",
              "      <th>16878</th>\n",
              "      <td>[covalent, polar]</td>\n",
              "      <td>2.03</td>\n",
              "      <td>INTRA_SELECTION</td>\n",
              "      <td>atom-atom</td>\n",
              "      <td>A</td>\n",
              "      <td>SG</td>\n",
              "      <td>378</td>\n",
              "      <td>CYS</td>\n",
              "      <td>P</td>\n",
              "      <td></td>\n",
              "      <td>A</td>\n",
              "      <td>SG</td>\n",
              "      <td>394</td>\n",
              "      <td>CYS</td>\n",
              "      <td>P</td>\n",
              "      <td></td>\n",
              "    </tr>\n",
              "    <tr>\n",
              "      <th>13874</th>\n",
              "      <td>[covalent, polar]</td>\n",
              "      <td>2.03</td>\n",
              "      <td>INTRA_SELECTION</td>\n",
              "      <td>atom-atom</td>\n",
              "      <td>A</td>\n",
              "      <td>SG</td>\n",
              "      <td>547</td>\n",
              "      <td>CYS</td>\n",
              "      <td>P</td>\n",
              "      <td></td>\n",
              "      <td>A</td>\n",
              "      <td>SG</td>\n",
              "      <td>528</td>\n",
              "      <td>CYS</td>\n",
              "      <td>P</td>\n",
              "      <td></td>\n",
              "    </tr>\n",
              "    <tr>\n",
              "      <th>9618</th>\n",
              "      <td>[covalent, polar]</td>\n",
              "      <td>2.04</td>\n",
              "      <td>INTRA_SELECTION</td>\n",
              "      <td>atom-atom</td>\n",
              "      <td>A</td>\n",
              "      <td>SG</td>\n",
              "      <td>578</td>\n",
              "      <td>CYS</td>\n",
              "      <td>P</td>\n",
              "      <td></td>\n",
              "      <td>A</td>\n",
              "      <td>SG</td>\n",
              "      <td>565</td>\n",
              "      <td>CYS</td>\n",
              "      <td>P</td>\n",
              "      <td></td>\n",
              "    </tr>\n",
              "    <tr>\n",
              "      <th>14970</th>\n",
              "      <td>[covalent, polar]</td>\n",
              "      <td>2.04</td>\n",
              "      <td>INTRA_SELECTION</td>\n",
              "      <td>atom-atom</td>\n",
              "      <td>A</td>\n",
              "      <td>SG</td>\n",
              "      <td>67</td>\n",
              "      <td>CYS</td>\n",
              "      <td>P</td>\n",
              "      <td></td>\n",
              "      <td>A</td>\n",
              "      <td>SG</td>\n",
              "      <td>109</td>\n",
              "      <td>CYS</td>\n",
              "      <td>P</td>\n",
              "      <td></td>\n",
              "    </tr>\n",
              "    <tr>\n",
              "      <th>13849</th>\n",
              "      <td>[covalent, polar]</td>\n",
              "      <td>2.04</td>\n",
              "      <td>INTRA_SELECTION</td>\n",
              "      <td>atom-atom</td>\n",
              "      <td>A</td>\n",
              "      <td>SG</td>\n",
              "      <td>524</td>\n",
              "      <td>CYS</td>\n",
              "      <td>P</td>\n",
              "      <td></td>\n",
              "      <td>A</td>\n",
              "      <td>SG</td>\n",
              "      <td>544</td>\n",
              "      <td>CYS</td>\n",
              "      <td>P</td>\n",
              "      <td></td>\n",
              "    </tr>\n",
              "    <tr>\n",
              "      <th>...</th>\n",
              "      <td>...</td>\n",
              "      <td>...</td>\n",
              "      <td>...</td>\n",
              "      <td>...</td>\n",
              "      <td>...</td>\n",
              "      <td>...</td>\n",
              "      <td>...</td>\n",
              "      <td>...</td>\n",
              "      <td>...</td>\n",
              "      <td>...</td>\n",
              "      <td>...</td>\n",
              "      <td>...</td>\n",
              "      <td>...</td>\n",
              "      <td>...</td>\n",
              "      <td>...</td>\n",
              "      <td>...</td>\n",
              "    </tr>\n",
              "    <tr>\n",
              "      <th>4144</th>\n",
              "      <td>[proximal]</td>\n",
              "      <td>5.00</td>\n",
              "      <td>INTRA_SELECTION</td>\n",
              "      <td>atom-atom</td>\n",
              "      <td>A</td>\n",
              "      <td>C</td>\n",
              "      <td>49</td>\n",
              "      <td>ALA</td>\n",
              "      <td>P</td>\n",
              "      <td></td>\n",
              "      <td>A</td>\n",
              "      <td>CD2</td>\n",
              "      <td>51</td>\n",
              "      <td>PHE</td>\n",
              "      <td>P</td>\n",
              "      <td></td>\n",
              "    </tr>\n",
              "    <tr>\n",
              "      <th>9401</th>\n",
              "      <td>[proximal]</td>\n",
              "      <td>5.00</td>\n",
              "      <td>INTRA_SELECTION</td>\n",
              "      <td>atom-atom</td>\n",
              "      <td>A</td>\n",
              "      <td>N</td>\n",
              "      <td>442</td>\n",
              "      <td>MET</td>\n",
              "      <td>P</td>\n",
              "      <td></td>\n",
              "      <td>A</td>\n",
              "      <td>CG</td>\n",
              "      <td>431</td>\n",
              "      <td>LEU</td>\n",
              "      <td>P</td>\n",
              "      <td></td>\n",
              "    </tr>\n",
              "    <tr>\n",
              "      <th>4817</th>\n",
              "      <td>[proximal]</td>\n",
              "      <td>5.00</td>\n",
              "      <td>INTRA_SELECTION</td>\n",
              "      <td>atom-atom</td>\n",
              "      <td>A</td>\n",
              "      <td>O</td>\n",
              "      <td>192</td>\n",
              "      <td>LEU</td>\n",
              "      <td>P</td>\n",
              "      <td></td>\n",
              "      <td>A</td>\n",
              "      <td>O</td>\n",
              "      <td>194</td>\n",
              "      <td>ASP</td>\n",
              "      <td>P</td>\n",
              "      <td></td>\n",
              "    </tr>\n",
              "    <tr>\n",
              "      <th>4991</th>\n",
              "      <td>[proximal]</td>\n",
              "      <td>5.00</td>\n",
              "      <td>INTRA_SELECTION</td>\n",
              "      <td>atom-atom</td>\n",
              "      <td>A</td>\n",
              "      <td>O</td>\n",
              "      <td>672</td>\n",
              "      <td>TYR</td>\n",
              "      <td>P</td>\n",
              "      <td></td>\n",
              "      <td>A</td>\n",
              "      <td>N</td>\n",
              "      <td>677</td>\n",
              "      <td>THR</td>\n",
              "      <td>P</td>\n",
              "      <td></td>\n",
              "    </tr>\n",
              "    <tr>\n",
              "      <th>7219</th>\n",
              "      <td>[proximal]</td>\n",
              "      <td>5.00</td>\n",
              "      <td>INTRA_SELECTION</td>\n",
              "      <td>atom-atom</td>\n",
              "      <td>A</td>\n",
              "      <td>CZ</td>\n",
              "      <td>585</td>\n",
              "      <td>TYR</td>\n",
              "      <td>P</td>\n",
              "      <td></td>\n",
              "      <td>A</td>\n",
              "      <td>CG</td>\n",
              "      <td>651</td>\n",
              "      <td>LYS</td>\n",
              "      <td>P</td>\n",
              "      <td></td>\n",
              "    </tr>\n",
              "  </tbody>\n",
              "</table>\n",
              "<p>5413 rows × 16 columns</p>\n",
              "</div>"
            ],
            "text/plain": [
              "                 contact  distance interacting_entities       type  \\\n",
              "16878  [covalent, polar]      2.03      INTRA_SELECTION  atom-atom   \n",
              "13874  [covalent, polar]      2.03      INTRA_SELECTION  atom-atom   \n",
              "9618   [covalent, polar]      2.04      INTRA_SELECTION  atom-atom   \n",
              "14970  [covalent, polar]      2.04      INTRA_SELECTION  atom-atom   \n",
              "13849  [covalent, polar]      2.04      INTRA_SELECTION  atom-atom   \n",
              "...                  ...       ...                  ...        ...   \n",
              "4144          [proximal]      5.00      INTRA_SELECTION  atom-atom   \n",
              "9401          [proximal]      5.00      INTRA_SELECTION  atom-atom   \n",
              "4817          [proximal]      5.00      INTRA_SELECTION  atom-atom   \n",
              "4991          [proximal]      5.00      INTRA_SELECTION  atom-atom   \n",
              "7219          [proximal]      5.00      INTRA_SELECTION  atom-atom   \n",
              "\n",
              "      bgn.auth_asym_id bgn.auth_atom_id  bgn.auth_seq_id bgn.label_comp_id  \\\n",
              "16878                A               SG              378               CYS   \n",
              "13874                A               SG              547               CYS   \n",
              "9618                 A               SG              578               CYS   \n",
              "14970                A               SG               67               CYS   \n",
              "13849                A               SG              524               CYS   \n",
              "...                ...              ...              ...               ...   \n",
              "4144                 A                C               49               ALA   \n",
              "9401                 A                N              442               MET   \n",
              "4817                 A                O              192               LEU   \n",
              "4991                 A                O              672               TYR   \n",
              "7219                 A               CZ              585               TYR   \n",
              "\n",
              "      bgn.label_comp_type bgn.pdbx_PDB_ins_code end.auth_asym_id  \\\n",
              "16878                   P                                      A   \n",
              "13874                   P                                      A   \n",
              "9618                    P                                      A   \n",
              "14970                   P                                      A   \n",
              "13849                   P                                      A   \n",
              "...                   ...                   ...              ...   \n",
              "4144                    P                                      A   \n",
              "9401                    P                                      A   \n",
              "4817                    P                                      A   \n",
              "4991                    P                                      A   \n",
              "7219                    P                                      A   \n",
              "\n",
              "      end.auth_atom_id  end.auth_seq_id end.label_comp_id end.label_comp_type  \\\n",
              "16878               SG              394               CYS                   P   \n",
              "13874               SG              528               CYS                   P   \n",
              "9618                SG              565               CYS                   P   \n",
              "14970               SG              109               CYS                   P   \n",
              "13849               SG              544               CYS                   P   \n",
              "...                ...              ...               ...                 ...   \n",
              "4144               CD2               51               PHE                   P   \n",
              "9401                CG              431               LEU                   P   \n",
              "4817                 O              194               ASP                   P   \n",
              "4991                 N              677               THR                   P   \n",
              "7219                CG              651               LYS                   P   \n",
              "\n",
              "      end.pdbx_PDB_ins_code  \n",
              "16878                        \n",
              "13874                        \n",
              "9618                         \n",
              "14970                        \n",
              "13849                        \n",
              "...                     ...  \n",
              "4144                         \n",
              "9401                         \n",
              "4817                         \n",
              "4991                         \n",
              "7219                         \n",
              "\n",
              "[5413 rows x 16 columns]"
            ]
          },
          "execution_count": 11,
          "metadata": {},
          "output_type": "execute_result"
        }
      ],
      "source": [
        "df_droped = df_protein_only.drop_duplicates(subset=['bgn.auth_seq_id', 'end.auth_seq_id'], keep='first')\n",
        "df_droped.sort_values(by=['distance'])"
      ]
    },
    {
      "cell_type": "markdown",
      "metadata": {
        "id": "LnnGkjE8edqR"
      },
      "source": [
        "Напишите функцию расчета split_value по номеру остатка.\n",
        "\n",
        "SplitValue=(intA/extAB)∙(intB/extAB), где intA    – число пар контактирующих остатков из A, intB    – число пар контактирующих остатков из B, extAB – число пар контактирующих остатков, один из A, а другой – из B.\n",
        "\n",
        "\n"
      ]
    },
    {
      "cell_type": "code",
      "execution_count": 12,
      "metadata": {
        "id": "pwnhkmj4egFB"
      },
      "outputs": [],
      "source": [
        "def split_value(split_pos, df):\n",
        "  df_A = df[df['bgn.auth_seq_id'] < split_pos]\n",
        "  df_B = df[df['end.auth_seq_id'] > split_pos]\n",
        "  intA = len(df_A)\n",
        "  intB = len(df_B)\n",
        "\n",
        "  extAB = len(df[(df['bgn.auth_seq_id'] < split_pos) &\n",
        "   (df['end.auth_seq_id'] > split_pos)])\n",
        "\n",
        "  if extAB == 0:\n",
        "    return 0\n",
        "\n",
        "  split_value = (intA / extAB) * (intB / extAB)\n",
        "  return split_value"
      ]
    },
    {
      "cell_type": "markdown",
      "metadata": {
        "id": "hpqrp0ZnfCaP"
      },
      "source": [
        "Вычислите split_value для каждого остатка в вашем белке. Постройте график split_value в зависимости от номера остатка."
      ]
    },
    {
      "cell_type": "code",
      "execution_count": 13,
      "metadata": {
        "id": "r_i_00lbe9hT"
      },
      "outputs": [],
      "source": [
        "import matplotlib.pyplot as plt"
      ]
    },
    {
      "cell_type": "code",
      "execution_count": 37,
      "metadata": {
        "id": "smyNjY89b0vr"
      },
      "outputs": [],
      "source": [
        "min_res = df_droped['bgn.auth_seq_id'].min()\n",
        "max_res = df_droped['end.auth_seq_id'].max()\n",
        "split_data = [split_value(i, df_droped) for i in range(min_res, max_res)]"
      ]
    },
    {
      "cell_type": "code",
      "execution_count": 38,
      "metadata": {
        "colab": {
          "base_uri": "https://localhost:8080/",
          "height": 448
        },
        "id": "IEjZL6rCfBks",
        "outputId": "da05322c-8818-472f-a318-f690ee002d5e"
      },
      "outputs": [
        {
          "data": {
            "text/plain": [
              "[<matplotlib.lines.Line2D at 0x1481ca0d0>]"
            ]
          },
          "execution_count": 38,
          "metadata": {},
          "output_type": "execute_result"
        },
        {
          "data": {
            "image/png": "[encoded data removed]",
            "text/plain": [
              "<Figure size 640x480 with 1 Axes>"
            ]
          },
          "metadata": {},
          "output_type": "display_data"
        }
      ],
      "source": [
        "plt.plot(range(min_res, max_res), split_data)"
      ]
    },
    {
      "cell_type": "markdown",
      "metadata": {
        "id": "XgtDGo5SfW7l"
      },
      "source": [
        "Рассмотрите пики split_value в структуре вашего белка. Сделайте иллюстрацию в PyMOL, показывающую разделение вашей структуры на домены по split_value.\n",
        "\n",
        "\n",
        "Рассмотрите определенные для вашего белка структурные домены из баз SCOP и CATH, отмеченные на странице в базе данных PDB для данного белка. Определите, совпадают ли границы найденных структурных доменов из SCOP/CATH и вашего разбиения с DOMAK? Приведите иллюстрацию, демонсрирующую совпадение/несовпадение границ доменов на белке."
      ]
    },
    {
      "cell_type": "code",
      "execution_count": 29,
      "metadata": {
        "id": "2oflNISu3Rgi"
      },
      "outputs": [],
      "source": [
        "from scipy.signal import find_peaks"
      ]
    },
    {
      "cell_type": "code",
      "execution_count": 40,
      "metadata": {
        "colab": {
          "base_uri": "https://localhost:8080/",
          "height": 448
        },
        "id": "Oh85YFxT3rPJ",
        "outputId": "c96f29ce-7993-4fb3-ac24-36f4580e23c0"
      },
      "outputs": [
        {
          "data": {
            "text/plain": [
              "<matplotlib.collections.PathCollection at 0x148084b10>"
            ]
          },
          "execution_count": 40,
          "metadata": {},
          "output_type": "execute_result"
        },
        {
          "data": {
            "image/png": "[encoded data removed]",
            "text/plain": [
              "<Figure size 640x480 with 1 Axes>"
            ]
          },
          "metadata": {},
          "output_type": "display_data"
        }
      ],
      "source": [
        "peaks, _ = find_peaks(split_data, height=20000)\n",
        "plt.plot(range(len(split_data)), split_data)\n",
        "plt.scatter(peaks, [split_data[i] for i in peaks], color='red')"
      ]
    },
    {
      "cell_type": "code",
      "execution_count": 41,
      "metadata": {
        "colab": {
          "base_uri": "https://localhost:8080/"
        },
        "id": "BQRpkfbV6Gqg",
        "outputId": "7fad7df4-c84d-4104-cc06-b1d8b01cc898"
      },
      "outputs": [
        {
          "data": {
            "text/plain": [
              "[140147.8775510204, 51895.53719008265]"
            ]
          },
          "execution_count": 41,
          "metadata": {},
          "output_type": "execute_result"
        }
      ],
      "source": [
        "[split_data[i] for i in peaks]"
      ]
    },
    {
      "cell_type": "code",
      "execution_count": 42,
      "metadata": {
        "colab": {
          "base_uri": "https://localhost:8080/"
        },
        "id": "ZA4feTig90hJ",
        "outputId": "7860204e-5c3c-4bae-c381-1c9d5ff3946c"
      },
      "outputs": [
        {
          "data": {
            "text/plain": [
              "array([488, 545])"
            ]
          },
          "execution_count": 42,
          "metadata": {},
          "output_type": "execute_result"
        }
      ],
      "source": [
        "peaks"
      ]
    },
    {
      "cell_type": "code",
      "execution_count": 43,
      "metadata": {
        "colab": {
          "base_uri": "https://localhost:8080/",
          "height": 750
        },
        "id": "8yRUI2tM_inH",
        "outputId": "a3e74d59-60ae-4aa5-b745-c4dcbab0a7e6"
      },
      "outputs": [
        {
          "data": {
            "image/png": "[encoded data removed]",
            "text/plain": [
              "<IPython.core.display.Image object>"
            ]
          },
          "execution_count": 43,
          "metadata": {},
          "output_type": "execute_result"
        }
      ],
      "source": [
        "from IPython.display import Image\n",
        "Image('7DGD.domains.png')"
      ]
    },
    {
      "cell_type": "markdown",
      "metadata": {
        "id": "pqumlSsvETYy"
      },
      "source": [
        "визуально отдаленно похоже на коп, только там два домена выделяют\n",
        "# Изображение, полученное в PyMol\n",
        "cmd.select('domain1', 'resi 1-488')\n",
        "cmd.select('domain2', 'resi 489-545')\n",
        "cmd.select('domain3', 'resi 546-686')\n",
        "\n",
        "cmd.color('red', 'domain1')\n",
        "cmd.color('blue', 'domain2')\n",
        "cmd.color('green', 'domain3')\n",
        "\n",
        "\n",
        "cmd.show('cartoon')\n",
        "\n",
        "cmd.zoom('all')\n"
      ]
    }
  ],
  "metadata": {
    "colab": {
      "provenance": []
    },
    "kernelspec": {
      "display_name": "Python 3 (ipykernel)",
      "language": "python",
      "name": "python3"
    },
    "language_info": {
      "codemirror_mode": {
        "name": "ipython",
        "version": 3
      },
      "file_extension": ".py",
      "mimetype": "text/x-python",
      "name": "python",
      "nbconvert_exporter": "python",
      "pygments_lexer": "ipython3",
      "version": "3.11.10"
    }
  },
  "nbformat": 4,
  "nbformat_minor": 0
}
